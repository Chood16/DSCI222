{
  "nbformat": 4,
  "nbformat_minor": 0,
  "metadata": {
    "colab": {
      "provenance": [],
      "authorship_tag": "ABX9TyMKvY3SH4rJdlIJJ2YeubOh",
      "include_colab_link": true
    },
    "kernelspec": {
      "name": "python3",
      "display_name": "Python 3"
    },
    "language_info": {
      "name": "python"
    }
  },
  "cells": [
    {
      "cell_type": "markdown",
      "metadata": {
        "id": "view-in-github",
        "colab_type": "text"
      },
      "source": [
        "<a href=\"https://colab.research.google.com/github/Chood16/DSCI222/blob/main/course_information/Importing_from_GH.ipynb\" target=\"_parent\"><img src=\"https://colab.research.google.com/assets/colab-badge.svg\" alt=\"Open In Colab\"/></a>"
      ]
    },
    {
      "cell_type": "markdown",
      "source": [
        "Option 1"
      ],
      "metadata": {
        "id": "auFkRoeZNm5X"
      }
    },
    {
      "cell_type": "code",
      "execution_count": null,
      "metadata": {
        "id": "jW5S8r1Q8b7k"
      },
      "outputs": [],
      "source": [
        "# wget stands for \"web get\" and is a command-line utility used to download files from the internet.\n",
        "# the downloaded file automatically is saved to files in Colab\n",
        "!wget https://raw.githubusercontent.com/Chood16/DSCI222/main/lectures/iris.csv"
      ]
    },
    {
      "cell_type": "code",
      "source": [
        "import pandas as pd\n",
        "\n",
        "iris_data = pd.read_csv(\"iris.csv\", header=None)\n",
        "\n",
        "iris_data.head()\n",
        "pd.concat([iris_data.head(), iris_data.tail()])"
      ],
      "metadata": {
        "id": "OetbJSE_8xGG"
      },
      "execution_count": null,
      "outputs": []
    },
    {
      "cell_type": "markdown",
      "source": [
        "Option 2"
      ],
      "metadata": {
        "id": "hOpv3ACENmd_"
      }
    },
    {
      "cell_type": "code",
      "source": [
        "iris_data = pd.read_csv('https://raw.githubusercontent.com/Chood16/DSCI222/main/lectures/iris.csv', header=None)\n",
        "pd.concat([iris_data.head(), iris_data.tail()])"
      ],
      "metadata": {
        "id": "NaMx3o73NqIF"
      },
      "execution_count": null,
      "outputs": []
    }
  ]
}