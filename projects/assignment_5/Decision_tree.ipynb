{
  "nbformat": 4,
  "nbformat_minor": 0,
  "metadata": {
    "colab": {
      "provenance": [],
      "authorship_tag": "ABX9TyPWsmeZpnH4Ne++MoIAk6bq",
      "include_colab_link": true
    },
    "kernelspec": {
      "name": "python3",
      "display_name": "Python 3"
    },
    "language_info": {
      "name": "python"
    }
  },
  "cells": [
    {
      "cell_type": "markdown",
      "metadata": {
        "id": "view-in-github",
        "colab_type": "text"
      },
      "source": [
        "<a href=\"https://colab.research.google.com/github/Chood16/DSCI222/blob/main/projects/assignment_5/Decision_tree.ipynb\" target=\"_parent\"><img src=\"https://colab.research.google.com/assets/colab-badge.svg\" alt=\"Open In Colab\"/></a>"
      ]
    },
    {
      "cell_type": "code",
      "execution_count": null,
      "metadata": {
        "id": "Qg3VBBjwdHNQ"
      },
      "outputs": [],
      "source": [
        "import pandas as pd\n",
        "from sklearn.model_selection import train_test_split\n",
        "from sklearn.tree import DecisionTreeRegressor, plot_tree\n",
        "fitbit_file = 'https://raw.githubusercontent.com/Chood16/DSCI222/main/projects/assignment_5/dailyActivity_merged.csv'\n",
        "fitbit_data = pd.read_csv(fitbit_file).drop(columns=['ActivityDate','Id'])\n",
        "X = fitbit_data.drop(columns=['Calories'])\n",
        "y = fitbit_data['Calories']\n",
        "dt_model = DecisionTreeRegressor()\n",
        "dt_model.fit(X, y)\n",
        "selected_features = pd.Series(dt_model.feature_importances_, index=X.columns)[lambda s: s > 0.1].index\n",
        "X = X[selected_features]\n",
        "X_train, X_test, y_train, y_test = train_test_split(X, y, test_size=0.3)\n",
        "dt_model = DecisionTreeRegressor(max_depth=3)\n",
        "dt_model.fit(X_train, y_train)\n",
        "y_pred = dt_model.predict(X_test)\n",
        "plot_tree(dt_model)"
      ]
    }
  ]
}