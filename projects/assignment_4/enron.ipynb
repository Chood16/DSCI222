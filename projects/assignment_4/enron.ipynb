{
  "nbformat": 4,
  "nbformat_minor": 0,
  "metadata": {
    "colab": {
      "provenance": [],
      "authorship_tag": "ABX9TyPOwm7MewZ0Gg5FHxKZsoUE",
      "include_colab_link": true
    },
    "kernelspec": {
      "name": "python3",
      "display_name": "Python 3"
    },
    "language_info": {
      "name": "python"
    }
  },
  "cells": [
    {
      "cell_type": "markdown",
      "metadata": {
        "id": "view-in-github",
        "colab_type": "text"
      },
      "source": [
        "<a href=\"https://colab.research.google.com/github/Chood16/DSCI222/blob/main/projects/assignment_4/enron.ipynb\" target=\"_parent\"><img src=\"https://colab.research.google.com/assets/colab-badge.svg\" alt=\"Open In Colab\"/></a>"
      ]
    },
    {
      "cell_type": "code",
      "execution_count": null,
      "metadata": {
        "id": "f7VlTzOs-sGX"
      },
      "outputs": [],
      "source": [
        "from datasets import load_dataset\n",
        "import pandas as pd\n",
        "\n",
        "# https://huggingface.co/datasets/corbt/enron-emails\n",
        "ds = load_dataset(\"corbt/enron-emails\")\n",
        "emails = ds['train'].to_pandas()\n",
        "emails['body'] = emails['body'].str.slice(0, 32000)\n",
        "emails_sample = emails.sample(n=5000, random_state=42)\n",
        "emails_first = emails[:5000]\n",
        "emails_first.to_csv(\"emails_first.csv\", index=False)\n",
        "emails.to_csv(\"enron-emails.csv\", index=False)\n",
        "emails_sample.to_csv(\"enron-emails-sample.csv\", index=False)"
      ]
    }
  ]
}