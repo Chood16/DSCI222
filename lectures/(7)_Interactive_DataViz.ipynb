{
  "nbformat": 4,
  "nbformat_minor": 5,
  "metadata": {
    "colab": {
      "provenance": [],
      "collapsed_sections": [
        "0yejWYIq6C7V"
      ],
      "include_colab_link": true
    },
    "language_info": {
      "name": "python"
    },
    "kernelspec": {
      "name": "python3",
      "display_name": "Python 3"
    }
  },
  "cells": [
    {
      "cell_type": "markdown",
      "metadata": {
        "id": "view-in-github",
        "colab_type": "text"
      },
      "source": [
        "<a href=\"https://colab.research.google.com/github/Chood16/DSCI222/blob/main/lectures/(7)_Interactive_DataViz.ipynb\" target=\"_parent\"><img src=\"https://colab.research.google.com/assets/colab-badge.svg\" alt=\"Open In Colab\"/></a>"
      ]
    },
    {
      "id": "60bb2a24",
      "cell_type": "markdown",
      "source": [
        "# Interactive Plotting, Maps, and Dynamic Visualizations in Python\n"
      ],
      "metadata": {
        "id": "60bb2a24"
      }
    },
    {
      "id": "483a3b78",
      "cell_type": "markdown",
      "source": [
        "## Why Interactivity Matters\n",
        "\n",
        "- Static plots are great for reports\n",
        "- Interactivity helps you:\n",
        "  - Explore trends and patterns\n",
        "  - Zoom and filter data in real time\n",
        "  - Present complex datasets more clearly\n",
        "- **Dynamic visualizations** tell a story over time"
      ],
      "metadata": {
        "id": "483a3b78"
      }
    },
    {
      "id": "73fe33b1",
      "cell_type": "markdown",
      "source": [
        "## Interactive Plotting Tools\n",
        "\n",
        "* **Matplotlib (interactive mode)** - basic updates in real time\n",
        "* **Plotly** - interactive charts in notebooks and web\n",
        "* **Folium** - interactive maps\n",
        "* **Bokeh** - rich browser-based interactivity"
      ],
      "metadata": {
        "id": "73fe33b1"
      }
    },
    {
      "id": "e95ed72d",
      "cell_type": "markdown",
      "source": [
        "## Plotly Line and Scatter Plots"
      ],
      "metadata": {
        "id": "e95ed72d"
      }
    },
    {
      "cell_type": "markdown",
      "source": [
        "### Matplotlib vs Plotly Line Plots"
      ],
      "metadata": {
        "id": "0yejWYIq6C7V"
      },
      "id": "0yejWYIq6C7V"
    },
    {
      "cell_type": "code",
      "source": [
        "\n",
        "import matplotlib.pyplot as plt\n",
        "import numpy as np\n",
        "\n",
        "x = np.linspace(0, 10, 100)\n",
        "y = np.sin(x)\n",
        "\n",
        "plt.plot(x, y)\n",
        "plt.title(\"Sine Wave\")\n",
        "plt.xlabel(\"x\")\n",
        "plt.ylabel(\"sin(x)\")\n",
        "plt.show()"
      ],
      "metadata": {
        "id": "E2d-Gtgm6NZG"
      },
      "id": "E2d-Gtgm6NZG",
      "execution_count": null,
      "outputs": []
    },
    {
      "cell_type": "code",
      "source": [
        "import plotly.express as px\n",
        "import numpy as np\n",
        "\n",
        "x = np.linspace(0, 10, 100)\n",
        "y = np.sin(x)\n",
        "\n",
        "fig = px.line(x=x, y=y, title=\"Interactive Sine Wave\", labels={\"x\": \"x\", \"y\": \"sin(x)\"})\n",
        "fig.show()\n"
      ],
      "metadata": {
        "id": "Vsr76ETl6Iew"
      },
      "id": "Vsr76ETl6Iew",
      "execution_count": null,
      "outputs": []
    },
    {
      "cell_type": "markdown",
      "source": [
        "Plotly also supports DataFrames, which we will commonly be using moving forward"
      ],
      "metadata": {
        "id": "PgU2mDOLaopi"
      },
      "id": "PgU2mDOLaopi"
    },
    {
      "cell_type": "code",
      "source": [
        "import plotly.express as px\n",
        "import numpy as np\n",
        "import pandas as pd\n",
        "\n",
        "x = np.linspace(0, 10, 100)\n",
        "df = pd.DataFrame({\"x_values\": x, \"y_values\": np.sin(x)})\n",
        "\n",
        "# bring in df as a parameter and identify x and y values by their key\n",
        "fig = px.line(df, x=\"x_values\", y=\"y_values\", title=\"Interactive Sine Wave\",labels={\"x_values\": \"x\", \"y_values\": \"sin(x)\"})\n",
        "fig.show()"
      ],
      "metadata": {
        "id": "aVAKS4QeaXvG"
      },
      "id": "aVAKS4QeaXvG",
      "execution_count": null,
      "outputs": []
    },
    {
      "cell_type": "markdown",
      "source": [
        "### Plotly Scatter Plots"
      ],
      "metadata": {
        "id": "6aakxeIVb_78"
      },
      "id": "6aakxeIVb_78"
    },
    {
      "cell_type": "markdown",
      "source": [
        "\n",
        "[Gapminder](https://www.gapminder.org/data/?utm_source=chatgpt.com) is a well-known global development dataset originally popularized by Hans Rosling and the Gapminder Foundation. This is one of the datasets included in [plotly.express](https://plotly.com/python-api-reference/generated/plotly.express.data.html)\n",
        "\n",
        "It contains country-level statistics across time with variables such as:\n",
        "\n",
        "* country – name of the country\n",
        "\n",
        "* continent – continent grouping\n",
        "\n",
        "* year – year of observation\n",
        "\n",
        "* lifeExp – average life expectancy\n",
        "\n",
        "* gdpPercap – GDP per capita (inflation-adjusted)\n",
        "\n",
        "* pop – total population"
      ],
      "metadata": {
        "id": "0woUHh4334su"
      },
      "id": "0woUHh4334su"
    },
    {
      "id": "e1469bdc",
      "cell_type": "code",
      "metadata": {
        "id": "e1469bdc"
      },
      "execution_count": null,
      "source": [
        "import plotly.express as px\n",
        "import seaborn as sns\n",
        "\n",
        "# Load built-in dataset as a df\n",
        "df = px.data.gapminder()\n",
        "display(df.head(15))\n",
        "\n",
        "# Example scatter\n",
        "fig = px.scatter(\n",
        "    df[df[\"year\"] == 2007], # <-- filter df to only 2007\n",
        "    x=\"gdpPercap\", y=\"lifeExp\", # <-- extract x and y values\n",
        "    color=\"continent\", size=\"pop\", # <-- apply color groupings and point sizing\n",
        "    hover_name=\"country\", log_x=False\n",
        ")\n",
        "fig.show()"
      ],
      "outputs": []
    },
    {
      "cell_type": "markdown",
      "source": [
        "## Interactive Graph via Bokeh"
      ],
      "metadata": {
        "id": "NMrd9ckoI_qg"
      },
      "id": "NMrd9ckoI_qg"
    },
    {
      "cell_type": "code",
      "source": [
        "from google.colab import drive\n",
        "drive.mount('/content/drive')"
      ],
      "metadata": {
        "id": "gz2AT0OTF7fT"
      },
      "id": "gz2AT0OTF7fT",
      "execution_count": null,
      "outputs": []
    },
    {
      "cell_type": "code",
      "source": [
        "\n",
        "import pandas as pd\n",
        "\n",
        "# reading the database\n",
        "path = \"/content/drive/MyDrive/Teaching Courses/DSCI 222/DataSets/Restaurant.csv\"\n",
        "data = pd.read_csv(path)\n",
        "\n",
        "# printing the top 5 rows\n",
        "display(data.head(5))"
      ],
      "metadata": {
        "id": "ok8Xf9fNGBq8"
      },
      "id": "ok8Xf9fNGBq8",
      "execution_count": null,
      "outputs": []
    },
    {
      "cell_type": "code",
      "source": [
        "# Modules\n",
        "from bokeh.plotting import figure, output_file\n",
        "from bokeh.io import output_notebook, show # When using Google Colab\n",
        "\n",
        "output_notebook() # When using Google Colab, this will render the graph\n",
        "\n",
        "male_data = data[data['sex'] == 'Male']\n",
        "female_data = data[data['sex'] == 'Female']\n",
        "\n",
        "# Instantiating the figure object\n",
        "graph = figure(title = \"Bokeh Bar Chart\")\n",
        "\n",
        "# To plot the graph\n",
        "graph.vbar(male_data['total_bill'], top=male_data['tip'],\n",
        "           legend_label = \"Male: Bill vs. Tip\", color='green')\n",
        "\n",
        "graph.vbar(female_data['total_bill'], top=female_data['tip'],\n",
        "           legend_label = \"Female: Bill vs. Tip\", color='red')\n",
        "\n",
        "graph.legend.click_policy = \"hide\"\n",
        "\n",
        "# To display the model\n",
        "show(graph)\n"
      ],
      "metadata": {
        "id": "KHyBXkHBD5cV"
      },
      "id": "KHyBXkHBD5cV",
      "execution_count": null,
      "outputs": []
    },
    {
      "id": "c3ed6fbd",
      "cell_type": "markdown",
      "source": [
        "## Animations"
      ],
      "metadata": {
        "id": "c3ed6fbd"
      }
    },
    {
      "cell_type": "markdown",
      "source": [
        "###  Animation via Matplotlib"
      ],
      "metadata": {
        "id": "WOwm9hQ9vJVI"
      },
      "id": "WOwm9hQ9vJVI"
    },
    {
      "cell_type": "code",
      "source": [
        "import matplotlib.animation as animation\n",
        "import matplotlib.pyplot as plt\n",
        "import numpy as np\n",
        "from matplotlib import rc # <-- rc stands for runtime configuration\n",
        "rc('animation', html='jshtml') # <-- allows animations to render in Colab"
      ],
      "metadata": {
        "id": "n538hCtNyEDj"
      },
      "id": "n538hCtNyEDj",
      "execution_count": null,
      "outputs": []
    },
    {
      "cell_type": "markdown",
      "source": [
        "`fig` and `ax` are very common in Matplotlib and could have been utilized with our previous data visualizations. `plt.subplots()` creates the Figure (`fig`) and Axes (`ax`) objects, allowing for easier interaction and customization. Without this object-oriented approach, it is harder to modify specific parts of a plot, manage multiple subplots, or adjust figure-level properties efficiently.\n",
        "\n",
        "`plt.subplots()` is the standard way to create and manage one or more plots in one figure with full control over each axes"
      ],
      "metadata": {
        "id": "6gweYz3hyFV1"
      },
      "id": "6gweYz3hyFV1"
    },
    {
      "id": "15a63007",
      "cell_type": "code",
      "metadata": {
        "id": "15a63007"
      },
      "execution_count": null,
      "source": [
        "fig, ax = plt.subplots()\n",
        "\n",
        "# equations to simulation motion of objects at two velocities\n",
        "t = np.linspace(0, 3, 40)\n",
        "g = -9.81\n",
        "v0 = 12\n",
        "y1 = g * t**2 / 2 + v0 * t\n",
        "\n",
        "v02 = 5\n",
        "y2 = g * t**2 / 2 + v02 * t\n",
        "\n",
        "# Initialize scatter and line plots\n",
        "scat = ax.scatter(t[0], y1[0],c='green', s=25, label=f'v0 = {v0} m/s')\n",
        "line = ax.plot(t[0], y2[0], label=f'v0 = {v02} m/s')[0]\n",
        "\n",
        "ax.set(xlim=[0, 3], ylim=[0, 10], xlabel='Time [s]', ylabel='Z [m]')\n",
        "ax.legend()\n",
        "\n",
        "# To update data at each frame\n",
        "def update(frame): # <--frames correspond to each tick of the animation\n",
        "    # for each frame, update the data stored on each artist.\n",
        "    x = t[:frame]\n",
        "    y = y1[:frame]\n",
        "    # update the scatter plot:\n",
        "    data = np.stack([x, y]).T # <-- gives us ordered pairs\n",
        "    scat.set_offsets(data) # <-- updates scatterplot\n",
        "\n",
        "    # update the line plot:\n",
        "    line.set_xdata(t[:frame])\n",
        "    line.set_ydata(y2[:frame])\n",
        "    return (scat, line)\n",
        "\n",
        "plt.close(fig) # <-- by default, a static figure is show, we don't want that\n",
        "\n",
        "# Final animation\n",
        "ani = animation.FuncAnimation(fig=fig, func=update, frames=40,\n",
        "                              interval=80)\n",
        "ani"
      ],
      "outputs": []
    },
    {
      "id": "ef372c33",
      "cell_type": "markdown",
      "source": [
        "### Animation via Plotly"
      ],
      "metadata": {
        "id": "ef372c33"
      }
    },
    {
      "id": "1b5c1ee2",
      "cell_type": "code",
      "metadata": {
        "id": "1b5c1ee2"
      },
      "execution_count": null,
      "source": [
        "import plotly.express as px\n",
        "\n",
        "df = px.data.gapminder()\n",
        "\n",
        "fig = px.scatter(df, x=\"gdpPercap\", y=\"lifeExp\",\n",
        "                 animation_frame=\"year\", animation_group=\"country\",\n",
        "                 color=\"continent\", size=\"pop\", log_x=True,\n",
        "                 hover_name=\"country\", range_x=[100,50000], range_y=[25,90])\n",
        "fig.show()\n"
      ],
      "outputs": []
    },
    {
      "id": "3968f109",
      "cell_type": "markdown",
      "source": [
        "## Interactive Maps using Folium\n",
        "\n",
        "* Visualize spatial data\n",
        "* Add popups, shapes, and layers\n",
        "* Built on top of [OpenStreetMap](https://www.openstreetmap.org/#map=12/39.6411/-79.9537)\n",
        "\n"
      ],
      "metadata": {
        "id": "3968f109"
      }
    },
    {
      "id": "303fb67c",
      "cell_type": "code",
      "metadata": {
        "id": "303fb67c"
      },
      "execution_count": null,
      "source": [
        "\n",
        "import folium\n",
        "\n",
        "# for longitude and latitude values, N and E are positive, S and W are negative\n",
        "m = folium.Map(location=[39.6295, -79.9559], zoom_start=14) # <-- creates map, starting location, and zoom\n",
        "folium.Marker([39.6295, -79.9559], popup=\"Let's Go!!\").add_to(m)\n",
        "\n",
        "display(m)"
      ],
      "outputs": []
    },
    {
      "cell_type": "code",
      "source": [
        "import folium\n",
        "import pandas as pd\n",
        "\n",
        "# Import dataset of 'bike station locations'\n",
        "location = \"https://data.smartdublin.ie/dataset/33ec9fe2-4957-4e9a-ab55-c5e917c7a9ab/resource/2dec86ed-76ed-47a3-ae28-646db5c5b965/download/dublin.csv\"\n",
        "bike_station_locations = pd.read_csv(location)\n",
        "\n",
        "display(bike_station_locations.head(5))\n",
        "\n",
        "\n",
        "bike_station_locations = bike_station_locations[[\"Name\", \"Latitude\",\n",
        "                                                 \"Longitude\"]]\n",
        "\n",
        "display(bike_station_locations.head(5))\n",
        "\n",
        "\n"
      ],
      "metadata": {
        "id": "eE6BZSLoKM9O"
      },
      "id": "eE6BZSLoKM9O",
      "execution_count": null,
      "outputs": []
    },
    {
      "cell_type": "code",
      "source": [
        "# Before we run this, let's breakdown what the code is doing.\n",
        "\n",
        "# Creating the Map\n",
        "map = folium.Map(location=[bike_station_locations.Latitude.mean(),\n",
        "                           bike_station_locations.Longitude.mean()],\n",
        "                 zoom_start=14, control_scale=True)\n",
        "\n",
        "# Adding points to the map\n",
        "for index, location_info in bike_station_locations.iterrows():\n",
        "    folium.Marker([\n",
        "        location_info[\"Latitude\"],\n",
        "        location_info[\"Longitude\"]],\n",
        "        popup=location_info[\"Name\"],\n",
        "        icon=folium.Icon(color=\"blue\", icon=\"bicycle\", prefix=\"fa\")).add_to(map)\n",
        "\n",
        "    folium.CircleMarker(\n",
        "        location=[location_info[\"Latitude\"], location_info[\"Longitude\"]],\n",
        "        radius= 5,\n",
        "        color=\"green\",\n",
        "        fill=True,\n",
        "        fill_color=\"green\",\n",
        "        fill_opacity=0.6,\n",
        "        ).add_to(map)\n",
        "\n",
        "# To display the map\n",
        "display(map)"
      ],
      "metadata": {
        "id": "uKbNCuwkfaF8"
      },
      "id": "uKbNCuwkfaF8",
      "execution_count": null,
      "outputs": []
    },
    {
      "cell_type": "code",
      "source": [
        "print(bike_station_locations.Latitude.mean())\n"
      ],
      "metadata": {
        "id": "q3k95LAHghto"
      },
      "id": "q3k95LAHghto",
      "execution_count": null,
      "outputs": []
    },
    {
      "cell_type": "markdown",
      "source": [
        "What does .iterrows() do?"
      ],
      "metadata": {
        "id": "7Q8UVKOEhzEu"
      },
      "id": "7Q8UVKOEhzEu"
    },
    {
      "cell_type": "code",
      "source": [
        "display(bike_station_locations.iterrows())\n"
      ],
      "metadata": {
        "id": "ZV0gihGHhV7Y"
      },
      "id": "ZV0gihGHhV7Y",
      "execution_count": null,
      "outputs": []
    },
    {
      "cell_type": "markdown",
      "source": [
        "A generator object in Python is a type of iterator that produces values one at a time on demand instead of storing them all in memory. Think back to when we discussed memory management and how efficient generators are."
      ],
      "metadata": {
        "id": "iEQNzbGCh6jb"
      },
      "id": "iEQNzbGCh6jb"
    },
    {
      "cell_type": "code",
      "source": [
        "display(next(bike_station_locations.iterrows()))"
      ],
      "metadata": {
        "id": "WFACllXbhXFc"
      },
      "id": "WFACllXbhXFc",
      "execution_count": null,
      "outputs": []
    }
  ]
}