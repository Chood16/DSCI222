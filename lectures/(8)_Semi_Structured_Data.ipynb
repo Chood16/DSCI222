{
  "cells": [
    {
      "cell_type": "markdown",
      "metadata": {
        "id": "view-in-github",
        "colab_type": "text"
      },
      "source": [
        "<a href=\"https://colab.research.google.com/github/Chood16/DSCI222/blob/main/lectures/(8)_Semi_Structured_Data.ipynb\" target=\"_parent\"><img src=\"https://colab.research.google.com/assets/colab-badge.svg\" alt=\"Open In Colab\"/></a>"
      ]
    },
    {
      "cell_type": "markdown",
      "metadata": {
        "id": "n_87Zfdl4HdC"
      },
      "source": [
        "# Exploring Semi-Structured Data in Python"
      ],
      "id": "n_87Zfdl4HdC"
    },
    {
      "cell_type": "markdown",
      "metadata": {
        "id": "2WkeevSP4HdE"
      },
      "source": [
        "## 1. Introduction: Structured vs Semi-Structured vs Unstructured Data\n",
        "\n",
        "- **Structured Data**: Organized in fixed fields, e.g., relational databases, spreadsheets. Easy to query with SQL.\n",
        "- **Semi-Structured Data**: Does not conform to rigid tabular structures but still has some organizational properties (tags, key-value pairs). Examples: JSON, XML, YAML, HTML, log files.\n",
        "- **Unstructured Data**: No inherent structure, difficult to query directly. Examples: images, videos, free-text documents.\n",
        "\n",
        "Semi-structured data is common in modern data workflows because it provides flexibility while still being machine-readable."
      ],
      "id": "2WkeevSP4HdE"
    },
    {
      "cell_type": "markdown",
      "metadata": {
        "id": "ETjoVMBr4HdF"
      },
      "source": [
        "## 2. JSON (JavaScript Object Notation)\n",
        "- **What it is**: Lightweight format for representing structured data as nested key-value pairs.\n",
        "- **Common Uses**: Web APIs, configuration files, NoSQL databases (e.g., MongoDB).\n",
        "- **Sample Data**: [Sample JSON Dataset](https://jsonplaceholder.typicode.com/users)"
      ],
      "id": "ETjoVMBr4HdF"
    },
    {
      "cell_type": "code",
      "execution_count": null,
      "metadata": {
        "id": "mZQU4thF4HdF"
      },
      "outputs": [],
      "source": [
        "import requests\n",
        "import pandas as pd\n",
        "\n",
        "# requests allows your Python code to interact with web services, APIs, and websites by sending HTTP requests (like GET, POST, PUT, DELETE) and parse responses\n",
        "# parse means to take raw data or text and analyze it to convert it into a structured format that a program can understand and work with.\n",
        "\n",
        "\n",
        "url = \"https://jsonplaceholder.typicode.com/users\"\n",
        "json_data = requests.get(url).json() # <-- .json() tells the response to be parsed as JSON\n",
        "\n",
        "display(json_data)\n",
        "\n"
      ],
      "id": "mZQU4thF4HdF"
    },
    {
      "cell_type": "code",
      "source": [
        "# Load JSON into DataFrame\n",
        "# json_normalize converts a JSON structure into a df\n",
        "df_json = pd.json_normalize(json_data)\n",
        "df_json.head()"
      ],
      "metadata": {
        "id": "7zxkJCxJrJeZ"
      },
      "id": "7zxkJCxJrJeZ",
      "execution_count": null,
      "outputs": []
    },
    {
      "cell_type": "markdown",
      "metadata": {
        "id": "9JHq3O-44HdG"
      },
      "source": [
        "## 3. XML (eXtensible Markup Language)\n",
        "- **What it is**: Tag-based format for hierarchical data.\n",
        "- **Common Uses**: RSS feeds, configuration files, document storage.\n",
        "- **Sample Data**: [Sample XML Dataset](https://www.w3schools.com/xml/simple.xml)"
      ],
      "id": "9JHq3O-44HdG"
    },
    {
      "cell_type": "code",
      "execution_count": null,
      "metadata": {
        "id": "ZCeJPf3k4HdH"
      },
      "outputs": [],
      "source": [
        "import xml.etree.ElementTree as ET\n",
        "\n",
        "# xml.etree.ElementTree will be used to parse .xml data\n",
        "\n",
        "xml_url = \"https://www.w3schools.com/xml/simple.xml\"\n",
        "xml_data = requests.get(xml_url).text # <-- .text() tells the response to be parsed as text\n",
        "\n",
        "\n",
        "xml_data"
      ],
      "id": "ZCeJPf3k4HdH"
    },
    {
      "cell_type": "code",
      "source": [
        "# Create an Element object called root.\n",
        "# Parses xml_data and converts it into an ElementTree element, which is a tree structure Python can navigate.\n",
        "root = ET.fromstring(xml_data)\n",
        "\n",
        "root\n"
      ],
      "metadata": {
        "id": "8K-Lj1HWsYjV"
      },
      "id": "8K-Lj1HWsYjV",
      "execution_count": null,
      "outputs": []
    },
    {
      "cell_type": "code",
      "source": [
        "# Let's look at some of the information stored in root\n",
        "\n",
        "print(root.tag)"
      ],
      "metadata": {
        "id": "HZ-nVKnnt-w_"
      },
      "id": "HZ-nVKnnt-w_",
      "execution_count": null,
      "outputs": []
    },
    {
      "cell_type": "code",
      "source": [
        "print(root.find('food').find('name').text)"
      ],
      "metadata": {
        "id": "NLt7YM39uu0N"
      },
      "id": "NLt7YM39uu0N",
      "execution_count": null,
      "outputs": []
    },
    {
      "cell_type": "code",
      "source": [
        "for food in root.findall('food'):\n",
        "    print(food.find('price').text)"
      ],
      "metadata": {
        "id": "qZbpeiH5uwcZ"
      },
      "id": "qZbpeiH5uwcZ",
      "execution_count": null,
      "outputs": []
    },
    {
      "cell_type": "code",
      "source": [
        "# Let's look through all food items and convert this xml file into a df\n",
        "\n",
        "menu_items = []\n",
        "for food in root.findall(\"food\"):\n",
        "    menu_items.append({\n",
        "        \"name\": food.find(\"name\").text,\n",
        "        \"price\": food.find(\"price\").text,\n",
        "        \"description\": food.find(\"description\").text\n",
        "    })\n",
        "\n",
        "display(menu_items) # <-- we've created a list of dictionaries that can be converted into a df"
      ],
      "metadata": {
        "id": "IH8x5hAXrlM8"
      },
      "id": "IH8x5hAXrlM8",
      "execution_count": null,
      "outputs": []
    },
    {
      "cell_type": "code",
      "source": [
        "df_xml = pd.DataFrame(menu_items)\n",
        "df_xml.head()"
      ],
      "metadata": {
        "id": "_9u8gnvrvLnU"
      },
      "id": "_9u8gnvrvLnU",
      "execution_count": null,
      "outputs": []
    },
    {
      "cell_type": "markdown",
      "metadata": {
        "id": "Ps2HOPf94HdH"
      },
      "source": [
        "## 4. YAML (Yes Ain't Markup Language), also called YML\n",
        "- **What it is**: Human-readable data format, similar to JSON but easier for configuration.\n",
        "- **Common Uses**: Configuration files (store settings or options for a program) and workflow files (automated steps or tasks).\n",
        "- **Sample Data**: [Sample YAML Dataset](https://raw.githubusercontent.com/Chood16/DSCI222/main/.github/workflows/engadget.yml)"
      ],
      "id": "Ps2HOPf94HdH"
    },
    {
      "cell_type": "code",
      "execution_count": null,
      "metadata": {
        "id": "BeQPF1f-4HdH"
      },
      "outputs": [],
      "source": [
        "import yaml\n",
        "\n",
        "yaml_url = \"https://raw.githubusercontent.com/Chood16/DSCI222/main/.github/workflows/engadget.yml\"\n",
        "yaml_text = requests.get(yaml_url).text\n",
        "yaml_data = yaml.safe_load(yaml_text)\n",
        "\n",
        "yaml_data"
      ],
      "id": "BeQPF1f-4HdH"
    },
    {
      "cell_type": "markdown",
      "metadata": {
        "id": "CFmwDXJl4HdI"
      },
      "source": [
        "## 5. HTML (HyperText Markup Language)\n",
        "- **What it is**: The standard format for web pages.\n",
        "- **Common Uses**: Web scraping and extracting data from websites.\n",
        "- **Sample Data**: [Sample HTML Table](https://www.contextures.com/xlSampleData01.html)"
      ],
      "id": "CFmwDXJl4HdI"
    },
    {
      "cell_type": "code",
      "source": [
        "import requests\n",
        "\n",
        "url = \"https://github.com/Chood16/DSCI222\"\n",
        "response = requests.get(url)\n",
        "\n",
        "html_content = response.text\n",
        "print(html_content[:1000])  # print the first 2000 characters to check\n",
        "\n"
      ],
      "metadata": {
        "id": "tdpxXqzE59X6"
      },
      "id": "tdpxXqzE59X6",
      "execution_count": null,
      "outputs": []
    },
    {
      "cell_type": "markdown",
      "metadata": {
        "id": "AAovDo0e4HdI"
      },
      "source": [
        "## 6. Log Files\n",
        "- **What it is**: Text-based records of events, typically semi-structured with timestamps, log levels, and messages.\n",
        "- **Common Uses**: Application monitoring, error tracking, system audits.\n",
        "- **Sample Data**: [Sample Apache Log File](https://raw.githubusercontent.com/elastic/examples/master/Common%20Data%20Formats/apache_logs/apache_logs)\n",
        "\n",
        "In short, Apache HTTP Server is the software that powers a web server, taking requests from clients and delivering web pages, APIs, or other content over the internet. This is an example log of these calls. What information could we possible obtain from it?"
      ],
      "id": "AAovDo0e4HdI"
    },
    {
      "cell_type": "code",
      "execution_count": null,
      "metadata": {
        "id": "MgCW7n7X4HdJ"
      },
      "outputs": [],
      "source": [
        "# The regular expressions module (re) allows you to search, match, and manipulate strings using patterns.\n",
        "import re\n",
        "\n",
        "log_url = \"https://raw.githubusercontent.com/elastic/examples/master/Common%20Data%20Formats/apache_logs/apache_logs\"\n",
        "log_text = requests.get(log_url).text.split(\"\\n\")\n",
        "display(log_text[:10]) # <-- let's look at the first ten lines\n"
      ],
      "id": "MgCW7n7X4HdJ"
    },
    {
      "cell_type": "code",
      "source": [
        "# regex parse example, what could this possibly mean?\n",
        "log_pattern = re.compile(r'(?P<ip>\\S+) - - \\[(?P<date>.*?)\\] \"(?P<request>.*?)\" (?P<status>\\d+) (?P<size>\\d+)')"
      ],
      "metadata": {
        "id": "0PB8DADiAxJ9"
      },
      "id": "0PB8DADiAxJ9",
      "execution_count": null,
      "outputs": []
    },
    {
      "cell_type": "markdown",
      "source": [
        "\n",
        "\n",
        "Here we are using re.compile turn the following string into a regex object for easy use later on\n",
        "\n",
        "With this object, we can:\n",
        "\n",
        "| Method      | Purpose                                   | Example                                                      | Output                  |\n",
        "|------------|-------------------------------------------|-------------------------------------------------------------|------------------------|\n",
        "| `match()`   | Check pattern at **start** of string     | `re.match(r\"\\d+\", \"123abc\")`                                | Match object (matches '123') |\n",
        "| `search()`  | Find pattern **anywhere** in string      | `re.search(r\"\\d+\", \"abc123\")`                               | Match object (matches '123') |\n",
        "| `findall()` | Find **all matches** in string           | `re.findall(r\"\\d+\", \"I have 2 cats and 3 dogs\")`           | `['2', '3']`           |\n",
        "| `sub()`     | **Replace matches** with another string  | `re.sub(r\"\\d\", \"#\", \"123-456\")`                             | `\"###-###\"`            |\n",
        "\n",
        "\n",
        "This string in particular says the following\n",
        "\n",
        "| Part                 | Meaning                                                                                                                       |\n",
        "| -------------------- | ----------------------------------------------------------------------------------------------------------------------------- |\n",
        "| `(?P<ip>\\S+)`        | Named group `ip`. Matches one or more non-whitespace characters (`\\S+`). Captures the client IP address.                      |\n",
        "| `- -`                | Matches the literal `- -` in the log. These usually represent remote logname and authenticated user (often unused).           |\n",
        "| `\\[`                 | Matches a literal `[` character. Needed because `[` has special meaning in regex.                                             |\n",
        "| `(?P<date>.*?)`      | Named group `date`. Matches any characters lazily (`.*?`) until the next pattern. Captures the timestamp of the request.      |\n",
        "| `\\]`                 | Matches a literal `]` character to close the timestamp.                                                                       |\n",
        "| `\"(?P<request>.*?)\"` | Named group `request`. Matches the request line (e.g., `GET /index.html HTTP/1.1`). Lazily captures everything inside quotes. |\n",
        "| `(?P<status>\\d+)`    | Named group `status`. Matches one or more digits (`\\d+`). Captures the HTTP status code (e.g., 200, 404).                     |\n",
        "| `(?P<size>\\d+)`      | Named group `size`. Matches one or more digits (`\\d+`). Captures the size of the response in bytes.                           |\n"
      ],
      "metadata": {
        "id": "8FfFrcA1-S1_"
      },
      "id": "8FfFrcA1-S1_"
    },
    {
      "cell_type": "code",
      "source": [
        "# What in the world does this mean?\n",
        "log_parsed = [log_pattern.match(line).groupdict() for line in log_text if log_pattern.match(line)]\n",
        "\n",
        "# Let's look at all of the code together\n",
        "\n"
      ],
      "metadata": {
        "id": "GzOMAza686z-"
      },
      "id": "GzOMAza686z-",
      "execution_count": null,
      "outputs": []
    },
    {
      "cell_type": "code",
      "source": [
        "import re\n",
        "\n",
        "log_url = \"https://raw.githubusercontent.com/elastic/examples/master/Common%20Data%20Formats/apache_logs/apache_logs\"\n",
        "log_text = requests.get(log_url).text.split(\"\\n\")\n",
        "log_pattern = re.compile(r'(?P<ip>\\S+) - - \\[(?P<date>.*?)\\] \"(?P<request>.*?)\" (?P<status>\\d+) (?P<size>\\d+)')\n",
        "log_parsed = [log_pattern.match(line).groupdict() for line in log_text if log_pattern.match(line)]\n",
        "display(log_parsed[:1])"
      ],
      "metadata": {
        "id": "g1Vl4EmfBEAU"
      },
      "id": "g1Vl4EmfBEAU",
      "execution_count": null,
      "outputs": []
    },
    {
      "cell_type": "code",
      "source": [
        "df_logs = pd.DataFrame(log_parsed)\n",
        "df_logs.head()"
      ],
      "metadata": {
        "id": "kTCJWYXFAeFY"
      },
      "id": "kTCJWYXFAeFY",
      "execution_count": null,
      "outputs": []
    },
    {
      "cell_type": "markdown",
      "source": [
        "# Example: How to make an RSS feed (.xml file) and run it with a .yml file\n",
        "\n",
        "```xml\n",
        "<rss version=\"2.0\">\n",
        "  <channel>\n",
        "    <title>My Example RSS Feed</title>\n",
        "    <link>https://www.example.com</link>\n",
        "    <description>This is an example RSS feed</description>\n",
        "    <language>en-us</language>\n",
        "    <lastBuildDate>Mon, 15 Sep 2025 00:28:21 +0000</lastBuildDate>\n",
        "    <item>\n",
        "        <title>First Article</title>\n",
        "        <link>https://www.example.com/articles/1</link>\n",
        "        <description>This is a summary of the first article.</description>\n",
        "        <pubDate>Mon, 15 Sep 2025 00:28:21 +0000</pubDate>\n",
        "        <guid>https://www.example.com/articles/1</guid>\n",
        "    </item>\n",
        "    <item>\n",
        "        <title>Second Article</title>\n",
        "        <link>https://www.example.com/articles/2</link>\n",
        "        <description>This is a summary of the second article.</description>\n",
        "        <pubDate>Mon, 15 Sep 2025 00:28:21 +0000</pubDate>\n",
        "        <guid>https://www.example.com/articles/2</guid>\n",
        "    </item>\n",
        "  </channel>\n",
        "</rss>\n",
        "\n"
      ],
      "metadata": {
        "id": "APs3ib58y5Z7"
      },
      "id": "APs3ib58y5Z7"
    },
    {
      "cell_type": "code",
      "source": [
        "\n",
        "# Let's take care of the time component first\n",
        "import xml.etree.ElementTree as ET\n",
        "from datetime import datetime, timezone\n",
        "\n",
        "def rfc822_now():\n",
        "    \"\"\"Return current UTC time formatted for RSS (RFC 822).\n",
        "    RFC 822 is a technical standard that defines the format for text-based Internet messages\"\"\"\n",
        "    return datetime.now(timezone.utc).strftime(\"%a, %d %b %Y %H:%M:%S %z\")\n",
        "\n",
        "# What do each of those % mean?\n",
        "display(rfc822_now())\n",
        "\n",
        "\n"
      ],
      "metadata": {
        "id": "mVK7SJBP50BT"
      },
      "id": "mVK7SJBP50BT",
      "execution_count": null,
      "outputs": []
    },
    {
      "cell_type": "code",
      "source": [
        "# Root <rss> element\n",
        "rss = ET.Element(\"rss\", version=\"2.0\") # <-- begin creating the rss feed\n",
        "channel = ET.SubElement(rss, \"channel\") # <-- .SubElement creates a child element\n",
        "\n",
        "# Channel metadata\n",
        "ET.SubElement(channel, \"title\").text = \"My Example RSS Feed\"\n",
        "ET.SubElement(channel, \"link\").text = \"https://www.example.com\"\n",
        "ET.SubElement(channel, \"description\").text = \"This is an example RSS feed\"\n",
        "ET.SubElement(channel, \"language\").text = \"en-us\"\n",
        "ET.SubElement(channel, \"lastBuildDate\").text = rfc822_now()\n",
        "\n",
        "# Add first item\n",
        "item1 = ET.SubElement(channel, \"item\")\n",
        "ET.SubElement(item1, \"title\").text = \"First Article\"\n",
        "ET.SubElement(item1, \"link\").text = \"https://www.example.com/articles/1\"\n",
        "ET.SubElement(item1, \"description\").text = \"This is a summary of the first article.\"\n",
        "ET.SubElement(item1, \"pubDate\").text = rfc822_now()\n",
        "ET.SubElement(item1, \"guid\").text = \"https://www.example.com/articles/1\" # <--Globally Unique Identifier\n",
        "\n",
        "# Add second item\n",
        "item2 = ET.SubElement(channel, \"item\")\n",
        "ET.SubElement(item2, \"title\").text = \"Second Article\"\n",
        "ET.SubElement(item2, \"link\").text = \"https://www.example.com/articles/2\"\n",
        "ET.SubElement(item2, \"description\").text = \"This is a summary of the second article.\"\n",
        "ET.SubElement(item2, \"pubDate\").text = rfc822_now()\n",
        "ET.SubElement(item2, \"guid\").text = \"https://www.example.com/articles/2\"\n",
        "\n",
        "# Convert to XML file\n",
        "tree = ET.ElementTree(rss) # <-- converts RSS from an Element to an Element Tree\n",
        "tree.write(\"feed.xml\", encoding=\"utf-8\", xml_declaration=True)\n",
        "\n"
      ],
      "metadata": {
        "id": "sunnyv11yUuD"
      },
      "id": "sunnyv11yUuD",
      "execution_count": null,
      "outputs": []
    },
    {
      "cell_type": "markdown",
      "source": [
        "A bit more on encoding. Text encoding is a way of representing characters as bytes so that computers can store, transmit, and read text correctly. Think of it as a mapping between characters (letters, numbers, symbols) and numeric codes that computers understand.\n",
        "\n",
        "encoding=\"utf-8\" sets the text encoding of the file. UTF-8 is standard for XML and supports all characters. You need to explicitly state encoding=\"utf-8\" when writing an XML file (like an RSS feed) because it tells the computer and any programs reading the file how to interpret the bytes as characters."
      ],
      "metadata": {
        "id": "jOKB0PoT04WP"
      },
      "id": "jOKB0PoT04WP"
    },
    {
      "cell_type": "markdown",
      "source": [
        "## Now let's create a .yml file to run with an actual RSS feed!\n",
        "\n",
        "https://wvusports.com/rss\n",
        "\n",
        "https://github.com/Chood16/DSCI222/blob/main/.github/workflows/WVU_Sports.yml\n",
        "\n",
        "https://github.com/Chood16/DSCI222/actions/workflows/WVU_Sports.yml\n",
        "\n",
        "https://github.com/Chood16/DSCI222/blob/main/lectures/wvu_sports.xml\n",
        "\n",
        "https://chood16.github.io/DSCI222/lectures/wvu_sports.xml"
      ],
      "metadata": {
        "id": "a43fZ6RYB4Zy"
      },
      "id": "a43fZ6RYB4Zy"
    }
  ],
  "metadata": {
    "kernelspec": {
      "display_name": "Python 3",
      "language": "python",
      "name": "python3"
    },
    "language_info": {
      "name": "python",
      "version": "3.9"
    },
    "colab": {
      "provenance": [],
      "include_colab_link": true
    }
  },
  "nbformat": 4,
  "nbformat_minor": 5
}