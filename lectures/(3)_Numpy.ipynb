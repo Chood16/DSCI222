{
  "nbformat": 4,
  "nbformat_minor": 0,
  "metadata": {
    "colab": {
      "provenance": [],
      "collapsed_sections": [
        "Y1as1nnx22jf",
        "uey8hHQ0Lf7N",
        "DM5UAGtphpt9"
      ],
      "include_colab_link": true
    },
    "kernelspec": {
      "name": "python3",
      "display_name": "Python 3"
    },
    "language_info": {
      "name": "python"
    }
  },
  "cells": [
    {
      "cell_type": "markdown",
      "metadata": {
        "id": "view-in-github",
        "colab_type": "text"
      },
      "source": [
        "<a href=\"https://colab.research.google.com/github/Chood16/DSCI222/blob/main/lectures/(3)_Numpy.ipynb\" target=\"_parent\"><img src=\"https://colab.research.google.com/assets/colab-badge.svg\" alt=\"Open In Colab\"/></a>"
      ]
    },
    {
      "cell_type": "markdown",
      "source": [
        "# What is Numpy?\n",
        "\n"
      ],
      "metadata": {
        "id": "Y1as1nnx22jf"
      }
    },
    {
      "cell_type": "markdown",
      "source": [
        "\n",
        "NumPy (short for **Numerical Python**) is a **Python library for fast, efficient, and convenient numerical computing**.\n",
        "\n",
        "Its core features are:\n",
        "\n",
        "1. **Multidimensional arrays** (`ndarray`)\n",
        "\n",
        "   * Like Python lists, but faster, more compact, and with many built-in operations.\n",
        "\n",
        "2. **Vectorized operations**\n",
        "\n",
        "   * Perform math on entire arrays at once without writing loops.\n",
        "\n",
        "   ```python\n",
        "   import numpy as np\n",
        "   a = np.array([1, 2, 3])\n",
        "   b = np.array([4, 5, 6])\n",
        "   print(a + b)  # [5 7 9]\n",
        "   ```\n",
        "\n",
        "3. **Mathematical functions**\n",
        "\n",
        "   * Trigonometry, linear algebra, statistics, random number generation, etc.\n",
        "\n",
        "4. **Foundation for scientific computing in Python**\n",
        "\n",
        "   * Many libraries we wil use later, like Pandas and scikit-learn are built on NumPy.\n",
        "\n",
        "If Python lists are like a basic toolset, NumPy is like a **high-performance workshop** for numbers.\n"
      ],
      "metadata": {
        "id": "bl-Bwal6oeCU"
      }
    },
    {
      "cell_type": "markdown",
      "source": [
        "# Numpy Introduction"
      ],
      "metadata": {
        "id": "BRjJuclQ2zFQ"
      }
    },
    {
      "cell_type": "code",
      "source": [
        "# Import library\n",
        "import numpy as np\n",
        "import time"
      ],
      "metadata": {
        "id": "u06QJ1u7z58X"
      },
      "execution_count": null,
      "outputs": []
    },
    {
      "cell_type": "markdown",
      "source": [
        "How to create a numpy array"
      ],
      "metadata": {
        "id": "9yWnWYL1mu3l"
      }
    },
    {
      "cell_type": "code",
      "source": [
        "a = np.array([2, 3, 4])\n",
        "a"
      ],
      "metadata": {
        "id": "YLvJM37O35FY"
      },
      "execution_count": null,
      "outputs": []
    },
    {
      "cell_type": "code",
      "source": [
        "type(a)"
      ],
      "metadata": {
        "id": "ohjcUs6P4u59"
      },
      "execution_count": null,
      "outputs": []
    },
    {
      "cell_type": "markdown",
      "source": [
        "You can make multi-dimensional arrays."
      ],
      "metadata": {
        "id": "l3PJwrxrmyfj"
      }
    },
    {
      "cell_type": "code",
      "source": [
        "b = np.array([[1.5, 2, 3], [4, 5, 6]])\n",
        "b"
      ],
      "metadata": {
        "id": "BDvyHGaI4PEa"
      },
      "execution_count": null,
      "outputs": []
    },
    {
      "cell_type": "markdown",
      "source": [
        "You can also use parenthses or brackets around each row."
      ],
      "metadata": {
        "id": "axrB7bPLnoBs"
      }
    },
    {
      "cell_type": "code",
      "source": [
        "b = np.array([(1.5, 2, 3), (4, 5, 6)])\n",
        "b"
      ],
      "metadata": {
        "id": "ZLhIH3Mc3_x3"
      },
      "execution_count": null,
      "outputs": []
    },
    {
      "cell_type": "code",
      "source": [
        "c = np.array([2 + 3j, -3 - 7j, 4 + 5j])\n",
        "c"
      ],
      "metadata": {
        "id": "6O7ETpkh4b7I"
      },
      "execution_count": null,
      "outputs": []
    },
    {
      "cell_type": "markdown",
      "source": [
        "# What makes Numpy faster?"
      ],
      "metadata": {
        "id": "-TVqicmSoB0G"
      }
    },
    {
      "cell_type": "markdown",
      "source": [
        "* Optimized and compiled in C for speed.\n",
        "* Python lists store pointers to objects scattered in memory. NumPy arrays store raw binary values in one continuous block.\n",
        "* Every element in a NumPy array has the same type and size (e.g., all 64-bit floats). In lists, this is done at the element level\n",
        "* Numpy is vectorized, meaning actions can be taken on the entire array and not just element by element\n",
        "\n",
        "\n",
        "![List-vs-Numpy-Array-Storage.png](data:image/png;base64,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)"
      ],
      "metadata": {
        "id": "zMpvfOZ42M-n"
      }
    },
    {
      "cell_type": "markdown",
      "source": [
        "## Some supported variable types"
      ],
      "metadata": {
        "id": "XflwpqXfzCsx"
      }
    },
    {
      "cell_type": "code",
      "source": [
        "# The variable has a 64-bit signed integer\n",
        "print(a)\n",
        "print(f\"{a.dtype}\\n\")\n",
        "\n",
        "# Complex Variable is composed of 2 64-bit-precision floating-point\n",
        "print(c)\n",
        "print(f\"{c.dtype}\\n\")\n",
        "\n",
        "# Mixing strings and floats still works, but stores in unicode\n",
        "d = np.array([['a', 1], [1,2]])\n",
        "print(d)\n",
        "print(f\"{d.dtype}\\n\")\n",
        "\n",
        "# You can set the data type as well\n",
        "aa = np.array([2, 3, 4], dtype = np.float32)\n",
        "print(aa)\n",
        "print(aa.dtype)"
      ],
      "metadata": {
        "id": "W02jjwOi4y8v"
      },
      "execution_count": null,
      "outputs": []
    },
    {
      "cell_type": "markdown",
      "source": [
        "Downsides? Array dimensions must align"
      ],
      "metadata": {
        "id": "4ZgkUPc90PmZ"
      }
    },
    {
      "cell_type": "code",
      "source": [
        "d =[[4, 1], [1,2, 3]]\n",
        "d"
      ],
      "metadata": {
        "id": "3qFcuFm70YYq"
      },
      "execution_count": null,
      "outputs": []
    },
    {
      "cell_type": "code",
      "source": [
        "'''d = np.array([[4, 1], [1,2, 3]])\n",
        "d'''"
      ],
      "metadata": {
        "id": "Gt6W0jdAybR9"
      },
      "execution_count": null,
      "outputs": []
    },
    {
      "cell_type": "markdown",
      "source": [
        "## Testing Numpy's Speed"
      ],
      "metadata": {
        "id": "z_nCYh_D0y1H"
      }
    },
    {
      "cell_type": "code",
      "source": [
        "# Python list\n",
        "lst = list(range(100000000))\n",
        "start = time.time()\n",
        "[ x*2 for x in lst ]\n",
        "print(\"List:\", time.time() - start)\n",
        "\n",
        "# NumPy array 16 bit precision\n",
        "arr = np.arange(100000000, dtype=np.float32)\n",
        "start = time.time()\n",
        "arr * 2\n",
        "print(\"NumPy:\", time.time() - start)\n",
        "\n",
        "# NumPy array 64 bit precision\n",
        "arr = np.arange(100000000, dtype=np.float64)\n",
        "start = time.time()\n",
        "arr * 2\n",
        "print(\"NumPy:\", time.time() - start)\n"
      ],
      "metadata": {
        "id": "XuH-9g58sJAs"
      },
      "execution_count": null,
      "outputs": []
    },
    {
      "cell_type": "markdown",
      "source": [
        "# Creating arrays"
      ],
      "metadata": {
        "id": "uey8hHQ0Lf7N"
      }
    },
    {
      "cell_type": "code",
      "source": [
        "a = np.zeros((2,3))\n",
        "a"
      ],
      "metadata": {
        "id": "1mHd-QXqvBdm"
      },
      "execution_count": null,
      "outputs": []
    },
    {
      "cell_type": "code",
      "source": [
        "np.ones((2,3,5))"
      ],
      "metadata": {
        "id": "34djaaS1LwWV"
      },
      "execution_count": null,
      "outputs": []
    },
    {
      "cell_type": "code",
      "source": [
        "np.random.rand(2,3,5)"
      ],
      "metadata": {
        "id": "ySXlqch_L2iB"
      },
      "execution_count": null,
      "outputs": []
    },
    {
      "cell_type": "code",
      "source": [
        "# [10, 30), step = 5\n",
        "np.arange(10, 30, 5)"
      ],
      "metadata": {
        "id": "YRnnOUZiNXmX"
      },
      "execution_count": null,
      "outputs": []
    },
    {
      "cell_type": "code",
      "source": [
        "# 9 numbers from 0 to 2\n",
        "np.linspace(0, 2, 9)"
      ],
      "metadata": {
        "id": "lZZFHGyyfUVv"
      },
      "execution_count": null,
      "outputs": []
    },
    {
      "cell_type": "code",
      "source": [
        "import matplotlib.pyplot as plt\n",
        "# Let's plot a function\n",
        "# we'll learn more about data visualization later\n",
        "\n",
        "x = np.linspace(0, 2 * np.pi, 5)\n",
        "f = np.sin(x)\n",
        "\n",
        "plt.plot(x, f, label='sin(x)', color='blue', linewidth=2)\n",
        "\n",
        "plt.title('Plot of the Sine Function')\n",
        "plt.xlabel('x (radians)')\n",
        "plt.ylabel('y')\n",
        "plt.grid(True)\n",
        "plt.legend()\n",
        "\n",
        "plt.show()"
      ],
      "metadata": {
        "id": "DW-KpQqffn5i"
      },
      "execution_count": null,
      "outputs": []
    },
    {
      "cell_type": "markdown",
      "source": [
        "# More than one dimension?"
      ],
      "metadata": {
        "id": "DM5UAGtphpt9"
      }
    },
    {
      "cell_type": "code",
      "source": [
        "# Create sequence of numbers for each axis\n",
        "x = np.linspace(-2,5,8)\n",
        "y = np.linspace(-2,5,8)\n",
        "display(x)\n",
        "display(y)"
      ],
      "metadata": {
        "id": "ko2Vxm__gwoq"
      },
      "execution_count": null,
      "outputs": []
    },
    {
      "cell_type": "code",
      "source": [
        "# Create the Meshgrid\n",
        "X, Y = np.meshgrid(x,y)\n"
      ],
      "metadata": {
        "id": "yFn5NitxkVTL"
      },
      "execution_count": null,
      "outputs": []
    },
    {
      "cell_type": "code",
      "source": [
        "X"
      ],
      "metadata": {
        "id": "CYnhOnTMkjxu"
      },
      "execution_count": null,
      "outputs": []
    },
    {
      "cell_type": "code",
      "source": [
        "Y"
      ],
      "metadata": {
        "id": "R1oj0ZcYkkgI"
      },
      "execution_count": null,
      "outputs": []
    },
    {
      "cell_type": "code",
      "source": [
        "# To show the pair of coordinates of the 4th row\n",
        "for pair in zip(X[3,:],Y[3,:]):\n",
        "    display(pair)"
      ],
      "metadata": {
        "id": "m4P5NnJTko8L"
      },
      "execution_count": null,
      "outputs": []
    },
    {
      "cell_type": "code",
      "source": [
        "# To show the pair of coordinates of the 4th column\n",
        "for pair in zip(X[:,3],Y[:,3]):\n",
        "    display(pair)"
      ],
      "metadata": {
        "id": "iSz6mkVVlMzZ"
      },
      "execution_count": null,
      "outputs": []
    },
    {
      "cell_type": "code",
      "source": [
        "# To compute a parabolic function\n",
        "Z = X**2 + Y**2\n",
        "display(Z)"
      ],
      "metadata": {
        "id": "VrGSYP_TlQGr"
      },
      "execution_count": null,
      "outputs": []
    },
    {
      "cell_type": "code",
      "source": [
        "# To plot the 3D surface\n",
        "fig = plt.figure()\n",
        "ax = plt.axes(projection = '3d')\n",
        "ax.plot_surface(X, Y, Z, cmap=\"plasma\")\n",
        "ax.set_xlabel('x')\n",
        "ax.set_ylabel('y')\n",
        "ax.set_zlabel('z');\n",
        "# rotation\n",
        "ax.view_init(30, 75)\n",
        "plt.show()"
      ],
      "metadata": {
        "id": "YcRQew1nl2oS"
      },
      "execution_count": null,
      "outputs": []
    },
    {
      "cell_type": "markdown",
      "source": [
        "# Indexing, Slicing and iterating: 1-Dim"
      ],
      "metadata": {
        "id": "SfABjrdNEX-b"
      }
    },
    {
      "cell_type": "code",
      "source": [
        "# Notice a few things:\n",
        "# arange is exlusive\n",
        "# Numpy adds left padding for column alignment\n",
        "a = np.arange(10)**3\n",
        "a"
      ],
      "metadata": {
        "id": "_rvQ5gXosPyw"
      },
      "execution_count": null,
      "outputs": []
    },
    {
      "cell_type": "code",
      "source": [
        "# From index 2 to index 5 (exclusive)\n",
        "a[2:5]\n",
        "\n",
        "# a[start:stop]"
      ],
      "metadata": {
        "id": "lP355ByPEhML"
      },
      "execution_count": null,
      "outputs": []
    },
    {
      "cell_type": "code",
      "source": [
        "# From index 2 to position 6 (exclusive), but only every 3rd element\n",
        "a[2:8:3]\n",
        "\n",
        "# a[start:stop:step]"
      ],
      "metadata": {
        "id": "Ax7h-MRyEwot"
      },
      "execution_count": null,
      "outputs": []
    },
    {
      "cell_type": "markdown",
      "source": [
        "How to replace all numbers that are divisible by 32 by 42 ?"
      ],
      "metadata": {
        "id": "lPRnamKQFRcA"
      }
    },
    {
      "cell_type": "code",
      "source": [
        "# Find residuals (remainder after rounding)\n",
        "a%32\n"
      ],
      "metadata": {
        "id": "yOANx368FSOy"
      },
      "execution_count": null,
      "outputs": []
    },
    {
      "cell_type": "code",
      "source": [
        "# Divisible by 32 -> Boolean vector\n",
        "a%32 == 0"
      ],
      "metadata": {
        "id": "wC7Mce9CGg11"
      },
      "execution_count": null,
      "outputs": []
    },
    {
      "cell_type": "code",
      "source": [
        "# Filter array to only these elements\n",
        "a[a%32 == 0]"
      ],
      "metadata": {
        "id": "KWOg4HovGtkH"
      },
      "execution_count": null,
      "outputs": []
    },
    {
      "cell_type": "code",
      "source": [
        "# Notice no changes are made to a\n",
        "a"
      ],
      "metadata": {
        "id": "6pN37chgGErQ"
      },
      "execution_count": null,
      "outputs": []
    },
    {
      "cell_type": "code",
      "source": [
        "# Solution, one python line\n",
        "a[a%32 == 0] = 42\n",
        "a"
      ],
      "metadata": {
        "id": "qRTuWM00FsI_"
      },
      "execution_count": null,
      "outputs": []
    },
    {
      "cell_type": "code",
      "source": [
        "# To get the last element\n",
        "a = np.arange(10)**3\n",
        "display (a)"
      ],
      "metadata": {
        "id": "-BUQELJTHJzi"
      },
      "execution_count": null,
      "outputs": []
    },
    {
      "cell_type": "code",
      "source": [
        "# Reverse indexing: Last element\n",
        "a[-1]"
      ],
      "metadata": {
        "id": "gwyf8TPIIbj1"
      },
      "execution_count": null,
      "outputs": []
    },
    {
      "cell_type": "code",
      "source": [
        "#        ???\n",
        "a[5:-2]"
      ],
      "metadata": {
        "id": "4j8GUr-5H6mz"
      },
      "execution_count": null,
      "outputs": []
    },
    {
      "cell_type": "code",
      "source": [
        "#        ???\n",
        "a[:3]"
      ],
      "metadata": {
        "id": "cyl8p6LRHcWI"
      },
      "execution_count": null,
      "outputs": []
    },
    {
      "cell_type": "code",
      "source": [
        "#        ???\n",
        "a[:-3]"
      ],
      "metadata": {
        "id": "P9-LzvsXIUaL"
      },
      "execution_count": null,
      "outputs": []
    },
    {
      "cell_type": "code",
      "source": [
        "#        ???\n",
        "a[::3]"
      ],
      "metadata": {
        "id": "N3MphrT1HRPy"
      },
      "execution_count": null,
      "outputs": []
    },
    {
      "cell_type": "code",
      "source": [
        "#        ???\n",
        "a[::-3]"
      ],
      "metadata": {
        "id": "pA0KT6tQIvTz"
      },
      "execution_count": null,
      "outputs": []
    },
    {
      "cell_type": "code",
      "source": [
        "# How to reverse an array via indexig/slicing ?\n",
        "a[::-1]"
      ],
      "metadata": {
        "id": "czoDs6QPJJSK"
      },
      "execution_count": null,
      "outputs": []
    },
    {
      "cell_type": "markdown",
      "source": [
        "# Indexing, Slicing and iterating: 2-Dim"
      ],
      "metadata": {
        "id": "InHRYsqsJ-5b"
      }
    },
    {
      "cell_type": "markdown",
      "source": [
        "How to use a function to create a Numpy array"
      ],
      "metadata": {
        "id": "Sju8RMIKH40f"
      }
    },
    {
      "cell_type": "code",
      "source": [
        "# First define your function\n",
        "def f(x, y):\n",
        "    return 10 * x + y\n",
        "\n",
        "# To create a 2-D numpy array (i.e., matrix)\n",
        "# np.fromfunction(function, array_size)\n",
        "\n",
        "b = np.fromfunction(f, (5, 4))\n",
        "b"
      ],
      "metadata": {
        "id": "kHDYko53KBNp"
      },
      "execution_count": null,
      "outputs": []
    },
    {
      "cell_type": "markdown",
      "source": [
        "How to use a lamda expression to create a Numpy array"
      ],
      "metadata": {
        "id": "3M0HYG3qIg2a"
      }
    },
    {
      "cell_type": "code",
      "source": [
        "# In case you forgot\n",
        "# lambda parameters: expression\n",
        "\n",
        "b = np.fromfunction(lambda x, y: 10 * x + y, (5, 4))\n",
        "b"
      ],
      "metadata": {
        "id": "tiijLSSqIe9d"
      },
      "execution_count": null,
      "outputs": []
    },
    {
      "cell_type": "code",
      "source": [
        "# How to create a 3-D float64 numpy array using a lambda expression?\n",
        "\n",
        "B = np.fromfunction(lambda x, y, z: x*y-3*z, (5, 4, 7), dtype=np.float64)\n",
        "B"
      ],
      "metadata": {
        "id": "HwNSb5MFNK5a"
      },
      "execution_count": null,
      "outputs": []
    },
    {
      "cell_type": "code",
      "source": [
        "b"
      ],
      "metadata": {
        "id": "njoP3ehvPHh3"
      },
      "execution_count": null,
      "outputs": []
    },
    {
      "cell_type": "code",
      "source": [
        "# To access one element\n",
        "# b[row, column]\n",
        "\n",
        "b[2, 3]"
      ],
      "metadata": {
        "id": "hKah7UzKPjGM"
      },
      "execution_count": null,
      "outputs": []
    },
    {
      "cell_type": "code",
      "source": [
        "#  ???\n",
        "b[1:4, 1]"
      ],
      "metadata": {
        "id": "FaIN6ATAPojh"
      },
      "execution_count": null,
      "outputs": []
    },
    {
      "cell_type": "code",
      "source": [
        "#  ???\n",
        "b[:, 1]"
      ],
      "metadata": {
        "id": "mRNDgGfMPuyC"
      },
      "execution_count": null,
      "outputs": []
    },
    {
      "cell_type": "code",
      "source": [
        "#  ???\n",
        "b[1:3, :]"
      ],
      "metadata": {
        "id": "YkLwMxqSPzkN"
      },
      "execution_count": null,
      "outputs": []
    },
    {
      "cell_type": "code",
      "source": [
        "#  ???\n",
        "b[-1,:]"
      ],
      "metadata": {
        "id": "dd39USGJQJEy"
      },
      "execution_count": null,
      "outputs": []
    },
    {
      "cell_type": "code",
      "source": [
        "#  ???\n",
        "b[:, -1]"
      ],
      "metadata": {
        "id": "D8Cr9ZdfQLrO"
      },
      "execution_count": null,
      "outputs": []
    },
    {
      "cell_type": "code",
      "source": [
        "# To convert any N-D array to a 1-D array\n",
        "# You must \"unravel\" it\n",
        "\n",
        "b.ravel()"
      ],
      "metadata": {
        "id": "aEFa6wFQQZym"
      },
      "execution_count": null,
      "outputs": []
    },
    {
      "cell_type": "markdown",
      "source": [
        "# Reshape and resize"
      ],
      "metadata": {
        "id": "GAv4jovYT0za"
      }
    },
    {
      "cell_type": "code",
      "source": [
        "# Create a 1D array\n",
        "arr = np.arange(8)\n",
        "arr"
      ],
      "metadata": {
        "id": "TE2CtmcdT8rA"
      },
      "execution_count": null,
      "outputs": []
    },
    {
      "cell_type": "code",
      "source": [
        "# Reshape it to a 2D array\n",
        "# Number of elements must align\n",
        "reshaped_arr = arr.reshape((2, 4))\n",
        "reshaped_arr"
      ],
      "metadata": {
        "id": "LXfXv_dqT_V0"
      },
      "execution_count": null,
      "outputs": []
    },
    {
      "cell_type": "code",
      "source": [
        "# Tile it to a 2D array\n",
        "tiled_arr = np.tile(arr, (3, 2))\n",
        "tiled_arr"
      ],
      "metadata": {
        "id": "hC14__yMMb9S"
      },
      "execution_count": null,
      "outputs": []
    },
    {
      "cell_type": "code",
      "source": [
        "# Resize it to a larger 2D array\n",
        "resized_arr = np.resize(arr, (3, 5))\n",
        "resized_arr\n",
        "\n",
        "# np.resize is a function that creates a new array"
      ],
      "metadata": {
        "id": "HomvHLZ5Uq6-"
      },
      "execution_count": null,
      "outputs": []
    },
    {
      "cell_type": "code",
      "source": [
        "# What occurs when we use the resize method of the object arr?\n",
        "\n",
        "# .resize is a method in Numpy\n",
        "# np.resize is a function in Numpy\n",
        "\n",
        "# Methods modify the original array\n",
        "# Functions return a new arry\n",
        "\n",
        "print(' Before using .resize()')\n",
        "arr_new = np.arange(8)\n",
        "display( arr_new )\n",
        "print('\\n After using .resize()')\n",
        "arr_new = np.arange(8)\n",
        "arr_new.resize((3, 5))\n",
        "display( arr_new )"
      ],
      "metadata": {
        "id": "PrSOV-pYU4AM"
      },
      "execution_count": null,
      "outputs": []
    },
    {
      "cell_type": "code",
      "source": [
        "# How to reshape when I don't know the size of other dimensions\n",
        "other_array = np.random.randint(-5, 5, (4,5) )\n",
        "other_array"
      ],
      "metadata": {
        "id": "eTriEOMtVRzu"
      },
      "execution_count": null,
      "outputs": []
    },
    {
      "cell_type": "code",
      "source": [
        "# -1 means \"You figure it out, I'm too lazy\"\n",
        "other_array.reshape(-1, 2)\n",
        "\n",
        "# other_array.reshape(-1, 3) will not work\n",
        "# .reshape still requires array to properly fill"
      ],
      "metadata": {
        "id": "jwCNYEKoWpOW"
      },
      "execution_count": null,
      "outputs": []
    },
    {
      "cell_type": "code",
      "source": [
        "# We can control how the data is rearranged\n",
        "numbers = np.array([1, 2, 3, 4, 5, 6, 7, 8])\n",
        "\n",
        "print(' C-like style:')\n",
        "display( numbers.reshape((2, -1), order=\"C\") )\n",
        "\n",
        "print('\\n Fortran-like style:')\n",
        "display( numbers.reshape((2, -1), order=\"F\") )"
      ],
      "metadata": {
        "id": "NPqLfMS1YDW9"
      },
      "execution_count": null,
      "outputs": []
    },
    {
      "cell_type": "markdown",
      "source": [
        "![Picture1.png](data:image/png;base64,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)"
      ],
      "metadata": {
        "id": "ELd5K88mOpTq"
      }
    },
    {
      "cell_type": "markdown",
      "source": [
        "# Stacking different arrays"
      ],
      "metadata": {
        "id": "EKoH6-LX7lJx"
      }
    },
    {
      "cell_type": "code",
      "source": [
        "# Numpy arrays can be stacked together along different axis\n",
        "a = np.random.rand(3, 4)\n",
        "a"
      ],
      "metadata": {
        "id": "sYhNiV4fZGto"
      },
      "execution_count": null,
      "outputs": []
    },
    {
      "cell_type": "code",
      "source": [
        "b = np.random.rand(2, 4)\n",
        "b"
      ],
      "metadata": {
        "id": "n3DLmmkXZGwY"
      },
      "execution_count": null,
      "outputs": []
    },
    {
      "cell_type": "code",
      "source": [
        "# Vertical stacking\n",
        "np.vstack((a, b))"
      ],
      "metadata": {
        "id": "Ntj57of8ZGzD"
      },
      "execution_count": null,
      "outputs": []
    },
    {
      "cell_type": "code",
      "source": [
        "# Horizontal stacking\n",
        "c = np.random.randint(5,10, (2, 1))\n",
        "display( c )\n",
        "\n",
        "print('\\nHorizontal stack:')\n",
        "display( np.hstack((c, b)) )"
      ],
      "metadata": {
        "id": "xgk5jCGSCxsy"
      },
      "execution_count": null,
      "outputs": []
    },
    {
      "cell_type": "markdown",
      "source": [
        "# Copy of data: A Cautionary Tale"
      ],
      "metadata": {
        "id": "tGPLGzVPFmwz"
      }
    },
    {
      "cell_type": "code",
      "source": [
        "a = np.array([[ 0,  1,  2,  3],\n",
        "              [ 4,  5,  6,  7],\n",
        "              [ 8,  9, 10, 11]])"
      ],
      "metadata": {
        "id": "uMVHStBMD3om"
      },
      "execution_count": null,
      "outputs": []
    },
    {
      "cell_type": "code",
      "source": [
        "# Numpy array assignment through the symbol '='\n",
        "b = a"
      ],
      "metadata": {
        "id": "gnu_5h9VFzNS"
      },
      "execution_count": null,
      "outputs": []
    },
    {
      "cell_type": "code",
      "source": [
        "# Are 'a' and 'b' to different objects?\n",
        "\n",
        "# Verication via ID\n",
        "display( id(a) )\n",
        "display( id(b) )\n",
        "\n",
        "# Verification via IS\n",
        "display( b is a )"
      ],
      "metadata": {
        "id": "jx-u1x4TF06b"
      },
      "execution_count": null,
      "outputs": []
    },
    {
      "cell_type": "code",
      "source": [
        "# What issues could we get?\n",
        "\n",
        "# Modify one element in 'b'\n",
        "b[1, 2] = -1111\n",
        "b"
      ],
      "metadata": {
        "id": "GcdDhS-XGFF9"
      },
      "execution_count": null,
      "outputs": []
    },
    {
      "cell_type": "code",
      "source": [
        "a"
      ],
      "metadata": {
        "id": "11FXE03fHUux"
      },
      "execution_count": null,
      "outputs": []
    },
    {
      "cell_type": "markdown",
      "source": [
        "**Be careful when manipulating two variables sharing the same data**"
      ],
      "metadata": {
        "id": "PSttVhzPRTRm"
      }
    },
    {
      "cell_type": "code",
      "source": [
        "# To make a copy\n",
        "D = a.copy()  # A new array object with new data is created\n",
        "\n",
        "D is a"
      ],
      "metadata": {
        "id": "_VphhN8FVaXa"
      },
      "execution_count": null,
      "outputs": []
    },
    {
      "cell_type": "markdown",
      "source": [
        "# To load and save data"
      ],
      "metadata": {
        "id": "D3FmdJbUJKSr"
      }
    },
    {
      "cell_type": "markdown",
      "source": [],
      "metadata": {
        "id": "AGoPDj8id34f"
      }
    },
    {
      "cell_type": "markdown",
      "source": [
        "## Saving and loading a .csv file containing numbers"
      ],
      "metadata": {
        "id": "xPX3pqYvTT2i"
      }
    },
    {
      "cell_type": "code",
      "source": [
        "# save numpy array as csv file\n",
        "\n",
        "# define data\n",
        "data = np.asarray([[0, 1, 2, 3, 4, 5, 6, 7, 8, 9]])\n",
        "# save to csv file\n",
        "np.savetxt('my_data.csv', data, delimiter=',')\n"
      ],
      "metadata": {
        "id": "bfyVFb5mIOAt"
      },
      "execution_count": null,
      "outputs": []
    },
    {
      "cell_type": "code",
      "source": [
        "# To load numpy array from csv file\n",
        "\n",
        "# load array\n",
        "dataLoad = np.loadtxt('my_data.csv', delimiter=',')\n",
        "# print the array\n",
        "print(dataLoad)"
      ],
      "metadata": {
        "id": "fIXHJ6WwIOCn"
      },
      "execution_count": null,
      "outputs": []
    },
    {
      "cell_type": "markdown",
      "source": [
        "## Saving and loading a .csv file containing strings"
      ],
      "metadata": {
        "id": "q4hsBDkefP7Z"
      }
    },
    {
      "cell_type": "code",
      "source": [
        "# define string data\n",
        "data = np.asarray([[\"a\", \"b\", \"c\", \"d\", \"e\", \"f\", \"g\", \"h\", \"i\", \"j\"]])\n",
        "\n",
        "# save to csv file with delimiter\n",
        "np.savetxt('my_data.csv', data, delimiter=',', fmt='%s')\n"
      ],
      "metadata": {
        "id": "YHEzuQu1d1JG"
      },
      "execution_count": null,
      "outputs": []
    },
    {
      "cell_type": "code",
      "source": [
        "# To load numpy array from csv file\n",
        "\n",
        "# load array\n",
        "dataLoad = np.genfromtxt('my_data.csv', delimiter=',', dtype = str)\n",
        "# print the array\n",
        "print(dataLoad)"
      ],
      "metadata": {
        "id": "EWwNyZVLfZ_M"
      },
      "execution_count": null,
      "outputs": []
    },
    {
      "cell_type": "markdown",
      "source": [
        "## Saving and loading a .NPY file"
      ],
      "metadata": {
        "id": "jIYEmrkvgH77"
      }
    },
    {
      "cell_type": "code",
      "source": [
        "# To save numpy array as NPY file\n",
        "\n",
        "# define data\n",
        "data = np.asarray([[0, -1, 2, -3, 4, -5, 6, -7, 8, -9]])\n",
        "# save to npy file\n",
        "np.save('npy_data.npy', data)"
      ],
      "metadata": {
        "id": "wD8YPefnV_SW"
      },
      "execution_count": null,
      "outputs": []
    },
    {
      "cell_type": "code",
      "source": [
        "# To load numpy array from NPY file\n",
        "\n",
        "# load array\n",
        "dataLoad = np.load('npy_data.npy')\n",
        "# print the array\n",
        "display(dataLoad)"
      ],
      "metadata": {
        "id": "36z2JoUcGRYA"
      },
      "execution_count": null,
      "outputs": []
    },
    {
      "cell_type": "code",
      "source": [
        "# To save numpy array as NPY file\n",
        "\n",
        "# define data\n",
        "data = np.asarray([[\"a\", \"b\", \"c\", \"d\", \"e\", \"f\", \"g\", \"h\", \"i\", \"j\"]])\n",
        "# save to npy file\n",
        "np.save('npy_data.npy', data)"
      ],
      "metadata": {
        "id": "VxLIYuFdgga2"
      },
      "execution_count": null,
      "outputs": []
    },
    {
      "cell_type": "code",
      "source": [
        "# To load numpy array from NPY file\n",
        "\n",
        "# load array\n",
        "dataLoad = np.load('npy_data.npy')\n",
        "# print the array\n",
        "display(dataLoad)"
      ],
      "metadata": {
        "id": "iynO4ob1gl4P"
      },
      "execution_count": null,
      "outputs": []
    },
    {
      "cell_type": "markdown",
      "source": [
        "Pros to NPY\n",
        "* .npy is faster and smaller than .csv.\n",
        "* It handles data types better\n",
        "\n",
        "Cons to NPY\n",
        "* Only easily supported by Numpy (no Excel)\n",
        "* Can only store 1 arrar"
      ],
      "metadata": {
        "id": "FyVZWFONhBe2"
      }
    },
    {
      "cell_type": "markdown",
      "source": [
        "## Saving and loading a .NPZ file"
      ],
      "metadata": {
        "id": "N4XCNdmXg3qk"
      }
    },
    {
      "cell_type": "code",
      "source": [
        "# To save Numpy Array to NPZ file\n",
        "# Compressed Format that can store multiple arrays\n",
        "\n",
        "# To define data\n",
        "test_array = np.random.rand(3, 2)\n",
        "test_vector = np.random.rand(4)\n",
        "np.savez_compressed('npz_reduced.npz', a=test_array, b=test_vector)"
      ],
      "metadata": {
        "id": "PkGAR4J6G7kl"
      },
      "execution_count": null,
      "outputs": []
    },
    {
      "cell_type": "code",
      "source": [
        "# To load the compressed NPZ file\n",
        "loaded = np.load('npz_reduced.npz')\n",
        "display( loaded['a'] )\n",
        "display( loaded['b'] )"
      ],
      "metadata": {
        "id": "Sy2ldyUMV_WL"
      },
      "execution_count": null,
      "outputs": []
    },
    {
      "cell_type": "markdown",
      "source": [
        "We'll build on loading, saving, and transforming data with another library called Pandas"
      ],
      "metadata": {
        "id": "evmJ-Ok-jti5"
      }
    },
    {
      "cell_type": "markdown",
      "source": [
        "# Summary"
      ],
      "metadata": {
        "id": "MEwVs4ZXm6KH"
      }
    },
    {
      "cell_type": "markdown",
      "source": [
        "* We have covered fundamental topics and improve our understanding on how to use Numpy.\n",
        "\n",
        "\n",
        "* There are tons of functions to explore in the Numpy user guide, section “Routines” (functions and methods are types). From now on we can use particular functions according to our needs while working on the project.\n",
        "\n",
        "\n",
        "* Let look at [Numpy Routines](https://numpy.org/devdocs/reference/routines.html).\n",
        "\n",
        "  * [Array Creation](https://numpy.org/doc/stable/reference/routines.array-creation.html)\n",
        "  * [Sorting, Searching, and Counting](https://numpy.org/devdocs/reference/routines.sort.html)\n",
        "  * [Linear Algebra](https://numpy.org/devdocs/reference/routines.linalg.html)\n",
        "\n",
        "\n",
        "\n",
        "\n"
      ],
      "metadata": {
        "id": "q0t4IO4Km8vu"
      }
    }
  ]
}