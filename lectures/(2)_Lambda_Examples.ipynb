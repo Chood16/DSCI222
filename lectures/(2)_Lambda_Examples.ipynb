{
  "nbformat": 4,
  "nbformat_minor": 0,
  "metadata": {
    "colab": {
      "provenance": [],
      "toc_visible": true,
      "include_colab_link": true
    },
    "kernelspec": {
      "name": "python3",
      "display_name": "Python 3"
    },
    "language_info": {
      "name": "python"
    }
  },
  "cells": [
    {
      "cell_type": "markdown",
      "metadata": {
        "id": "view-in-github",
        "colab_type": "text"
      },
      "source": [
        "<a href=\"https://colab.research.google.com/github/Chood16/DSCI222/blob/main/lectures/(2)_Lambda_Examples.ipynb\" target=\"_parent\"><img src=\"https://colab.research.google.com/assets/colab-badge.svg\" alt=\"Open In Colab\"/></a>"
      ]
    },
    {
      "cell_type": "markdown",
      "source": [
        "# Functional Style vs Lambda Expression"
      ],
      "metadata": {
        "id": "gYNG11tiMS7e"
      }
    },
    {
      "cell_type": "code",
      "source": [
        "# Functional Style\n",
        "def quadratic(x):\n",
        "  return(x**2 + x + 1)\n",
        "\n",
        "quad1 = quadratic(3)\n",
        "print(quad1)\n",
        "\n",
        "# Lambda Function where quad2 is the expression\n",
        "quad2 = lambda x: x**2 + x + 1\n",
        "print(quad2(3))\n",
        "\n",
        "# Lambda Function where quad3 is the output\n",
        "quad3 = (lambda x: x**2 + x + 1)(3)\n",
        "print(quad3)\n"
      ],
      "metadata": {
        "id": "V6jre0R-MIPD"
      },
      "execution_count": null,
      "outputs": []
    },
    {
      "cell_type": "markdown",
      "source": [
        "# How to Use Underscore in Notebooks"
      ],
      "metadata": {
        "id": "dA43Twqpd7Q0"
      }
    },
    {
      "cell_type": "code",
      "source": [
        "# How to use _ in notebooks to store previous expression\n",
        "\n",
        "2 + 5"
      ],
      "metadata": {
        "id": "T98BmcgRML1E"
      },
      "execution_count": null,
      "outputs": []
    },
    {
      "cell_type": "markdown",
      "source": [
        "Use an underscore if you want to take this and manupulate further"
      ],
      "metadata": {
        "id": "RGd-wnYubJi9"
      }
    },
    {
      "cell_type": "code",
      "source": [
        "_*9"
      ],
      "metadata": {
        "id": "ubYF7zOkbNzR"
      },
      "execution_count": null,
      "outputs": []
    },
    {
      "cell_type": "code",
      "source": [
        "(lambda x: x**2 + x + 1)(3)"
      ],
      "metadata": {
        "id": "AYKoV3KphtLY"
      },
      "execution_count": null,
      "outputs": []
    },
    {
      "cell_type": "code",
      "source": [
        "lambda x: x**2 + x + 1"
      ],
      "metadata": {
        "id": "W1Kx8kJuMMFf"
      },
      "execution_count": null,
      "outputs": []
    },
    {
      "cell_type": "code",
      "source": [
        "_(3)"
      ],
      "metadata": {
        "id": "tfWqGM9wMMMA"
      },
      "execution_count": null,
      "outputs": []
    },
    {
      "cell_type": "code",
      "source": [],
      "metadata": {
        "id": "PAr3Y8NwMMZj"
      },
      "execution_count": null,
      "outputs": []
    },
    {
      "cell_type": "markdown",
      "source": [
        "# Convert a String using a lambda expression"
      ],
      "metadata": {
        "id": "pjZf2WHaTJgp"
      }
    },
    {
      "cell_type": "code",
      "source": [
        "str1 = 'You miss 100% of the shots you don’t take. — \"Wayne Gretzky\" — Michael Scott'\n",
        "\n",
        "upper = lambda string: string.upper()\n",
        "print(upper(str1))\n",
        "\n",
        "title = lambda string: string.title()\n",
        "print(title(str1))\n",
        "\n",
        "split = lambda string: string.split(sep=\" \")\n",
        "print(split(str1))"
      ],
      "metadata": {
        "id": "XlPqLxSMTjRK"
      },
      "execution_count": null,
      "outputs": []
    },
    {
      "cell_type": "markdown",
      "source": [
        "# Multi-parameter Lambda Expressions"
      ],
      "metadata": {
        "id": "JGj0r8o6oSvj"
      }
    },
    {
      "cell_type": "code",
      "source": [
        "# The function-based approach\n",
        "def add_two( x, y ):\n",
        "  return( x + y )\n",
        "\n",
        "add_two( 2, 3 )"
      ],
      "metadata": {
        "id": "AqUWfrb5hLgs"
      },
      "execution_count": null,
      "outputs": []
    },
    {
      "cell_type": "code",
      "source": [
        "# The lambda approaches\n",
        "add_two = (lambda x, y: x + y)(2, 3)\n",
        "print(add_two)\n",
        "\n",
        "add_two = lambda x, y: x + y\n",
        "print(add_two(2, 3))\n",
        "\n"
      ],
      "metadata": {
        "id": "NwCkHJxhTj6e"
      },
      "execution_count": null,
      "outputs": []
    },
    {
      "cell_type": "markdown",
      "source": [
        "# Lambda expressions with higher-order functions"
      ],
      "metadata": {
        "id": "h-4pw-yls-xn"
      }
    },
    {
      "cell_type": "code",
      "source": [
        "# For high_ord_func, we make one of the parameters x and the other func\n",
        "# x will be a number and func will be another lambda expression\n",
        "high_ord_func = lambda x, func: x + func(x)"
      ],
      "metadata": {
        "id": "86m3Xnp8qiap"
      },
      "execution_count": null,
      "outputs": []
    },
    {
      "cell_type": "code",
      "source": [
        "# Call the high_ord_func with x = 2 and func = another lambda\n",
        "high_ord_func(2, lambda x: x * x)\n",
        "\n",
        "# What will the result be?"
      ],
      "metadata": {
        "id": "3vHmLvFctSso"
      },
      "execution_count": null,
      "outputs": []
    },
    {
      "cell_type": "markdown",
      "source": [
        "# Returning a Lambda in a Function"
      ],
      "metadata": {
        "id": "-DdLgR68wFIE"
      }
    },
    {
      "cell_type": "code",
      "source": [
        "def myfunc(n):\n",
        "  return lambda a : a * n\n",
        "\n",
        "mydoubler = myfunc(2)\n",
        "mytripler = myfunc(3)\n",
        "\n",
        "print(mydoubler(11))\n",
        "print(mytripler(11))\n",
        "\n",
        "# What are the printed results?"
      ],
      "metadata": {
        "id": "Ur_E1Y6ytS9n"
      },
      "execution_count": null,
      "outputs": []
    },
    {
      "cell_type": "markdown",
      "source": [
        "# If Statements in Lambda Expression"
      ],
      "metadata": {
        "id": "KifCqKf0xsNT"
      }
    },
    {
      "cell_type": "code",
      "source": [
        "limit_alcohol = lambda age: 'Yes, be careful...' if age >= 21 else 'No, please wait...'\n",
        "\n",
        "print( limit_alcohol(19) )\n",
        "\n",
        "print( limit_alcohol(26) )"
      ],
      "metadata": {
        "id": "dPXViBtGuR8I"
      },
      "execution_count": null,
      "outputs": []
    },
    {
      "cell_type": "markdown",
      "source": [
        "# Syntax Limitations"
      ],
      "metadata": {
        "id": "APzZ4xeqzyl3"
      }
    },
    {
      "cell_type": "code",
      "source": [
        "# Instead of\n",
        "(lambda x: a = 3 + x)(4)\n",
        "\n",
        "# Try\n",
        "a = (lambda x: 3 + x)(4)"
      ],
      "metadata": {
        "id": "bUBO56SSuSBj"
      },
      "execution_count": null,
      "outputs": []
    },
    {
      "cell_type": "code",
      "source": [
        "# Instead of\n",
        "(lambda y: return y == 3)(3)\n",
        "\n",
        "# Try\n",
        "(lambda y: y == 3)(3)"
      ],
      "metadata": {
        "id": "zkQ_tOSiuSHl"
      },
      "execution_count": null,
      "outputs": []
    },
    {
      "cell_type": "markdown",
      "source": [],
      "metadata": {
        "id": "4i7KiWy4sT0y"
      }
    },
    {
      "cell_type": "markdown",
      "source": [
        "# Practice\n",
        "\n"
      ],
      "metadata": {
        "id": "_2-ksR0g2vpx"
      }
    },
    {
      "cell_type": "code",
      "source": [
        "# arguments can be entered positionally or as keywords\n",
        "ans = (lambda x, y, z: x + y + z)(1, 2, 3)\n",
        "\n",
        "ans = (lambda x, y, z=3: x + y + z)(y=1, x=2)\n",
        "\n",
        "ans = (lambda x, y, z=3: x + y + z)(1, 2, 4)\n",
        "\n",
        "# collects all arguments\n",
        "ans = (lambda *args: sum(args))(1,2,3)\n",
        "\n",
        "# forced keyword args\n",
        "ans = (lambda **kwargs: sum(kwargs.values()))(x=1, y=2, z=3)\n",
        "\n",
        "# forced keyword args for y and z\n",
        "ans = (lambda x, *, y=1, z=2: x + y + z)(1, y=2, z=3)\n",
        "\n",
        "ans = (lambda x, *, y=1, z=2: x + y + z)(4)\n",
        "\n",
        "ans = (lambda x, *, y=1, z=2: x + y + z)(4, y=3)\n",
        "\n",
        "ans = (lambda x, *, y=1, z=2: x + y + z)(x=4, z=3)"
      ],
      "metadata": {
        "id": "mmjw_B3nzF34"
      },
      "execution_count": null,
      "outputs": []
    },
    {
      "cell_type": "markdown",
      "source": [
        "# Modify the sorting execution/behaviour"
      ],
      "metadata": {
        "id": "30yFfGezhLiF"
      }
    },
    {
      "cell_type": "code",
      "source": [
        "# List of IDs\n",
        "ids = ['id1', 'id2', 'id100', 'id30', 'id3', 'id22']"
      ],
      "metadata": {
        "id": "FXlqeTDS4SWf"
      },
      "execution_count": null,
      "outputs": []
    },
    {
      "cell_type": "code",
      "source": [
        "# Lexicographic Sort\n",
        "sorted(ids)"
      ],
      "metadata": {
        "id": "uCIPMctk4SZE"
      },
      "execution_count": null,
      "outputs": []
    },
    {
      "cell_type": "code",
      "source": [
        "# Extracting the number from each id\n",
        "\n",
        "(lambda x: int(x[2:]))(ids[3])"
      ],
      "metadata": {
        "id": "Bs9nW_9B0RTX"
      },
      "execution_count": null,
      "outputs": []
    },
    {
      "cell_type": "code",
      "source": [
        "# Sorting based on the integer value\n",
        "\n",
        "sorted(ids, key = lambda x: int(x[2:]) )"
      ],
      "metadata": {
        "id": "FXDTJStw4Sb5"
      },
      "execution_count": null,
      "outputs": []
    },
    {
      "cell_type": "markdown",
      "source": [
        "# Find the second largest number in each list from a multi-list"
      ],
      "metadata": {
        "id": "tqy9f1Hrt7y1"
      }
    },
    {
      "cell_type": "code",
      "source": [
        "multiList = [ [3, 2, 1, 4], [1, 15, 7, 64], [13, 6, 9, 12, 7] ]\n"
      ],
      "metadata": {
        "id": "0ZGNScol29eh"
      },
      "execution_count": null,
      "outputs": []
    },
    {
      "cell_type": "code",
      "source": [
        "# Version 1: Two Lambda Functions + List Comprehension\n",
        "\n",
        "# Sort each sublist with list comprehension (slower)\n",
        "# Sorts all at once\n",
        "sortList = lambda x: [sorted(i) for i in x]\n",
        "\n",
        "# Get the second largest element\n",
        "secondLargest = lambda x, f : [y[-2] for y in f(x)]\n",
        "secondLargest(multiList, sortList)"
      ],
      "metadata": {
        "id": "CDZt6wdSt6Xq"
      },
      "execution_count": null,
      "outputs": []
    },
    {
      "cell_type": "code",
      "source": [
        "# Version 2: Two Lambda Functions + List Comprehension + Generator Expression\n",
        "\n",
        "# Sort each sublist with generator expression (faster)\n",
        "# Sorts 1 at a time, on demand\n",
        "sortList = lambda x: (sorted(i) for i in x)\n",
        "\n",
        "# Get the second largest element\n",
        "secondLargest = lambda x, f : [y[-2] for y in f(x)]\n",
        "secondLargest(multiList, sortList)"
      ],
      "metadata": {
        "id": "w_Y8OQes_I-y"
      },
      "execution_count": null,
      "outputs": []
    },
    {
      "cell_type": "code",
      "source": [
        "# Version 3: One Lambda Function + List Comprehension\n",
        "\n",
        "# Sort each list and extracting\n",
        "sortList = [sorted(lis) for lis in multiList]\n",
        "\n",
        "# Get the second largest number\n",
        "secondLargest = lambda x: [y[-2] for y in x]\n",
        "secondLargest(sortList)"
      ],
      "metadata": {
        "id": "c0haZSo9t6fJ"
      },
      "execution_count": null,
      "outputs": []
    },
    {
      "cell_type": "code",
      "source": [
        "# Version 4: List Comprehension\n",
        "\n",
        "# Sort each list using only list comprehension\n",
        "[sorted(lis)[-2] for lis in multiList]"
      ],
      "metadata": {
        "id": "jLbJe-nzt6jZ"
      },
      "execution_count": null,
      "outputs": []
    },
    {
      "cell_type": "code",
      "source": [],
      "metadata": {
        "id": "afRN-nCD3yBR"
      },
      "execution_count": null,
      "outputs": []
    },
    {
      "cell_type": "code",
      "source": [],
      "metadata": {
        "id": "FIzZmgtO3yr5"
      },
      "execution_count": null,
      "outputs": []
    },
    {
      "cell_type": "code",
      "source": [],
      "metadata": {
        "id": "YU9YD8qC3dn9"
      },
      "execution_count": null,
      "outputs": []
    },
    {
      "cell_type": "code",
      "source": [],
      "metadata": {
        "id": "9MnD-NFa3dr2"
      },
      "execution_count": null,
      "outputs": []
    },
    {
      "cell_type": "code",
      "source": [],
      "metadata": {
        "id": "xLpPH8Rd3duf"
      },
      "execution_count": null,
      "outputs": []
    },
    {
      "cell_type": "code",
      "source": [],
      "metadata": {
        "id": "rRFcu_B13dxn"
      },
      "execution_count": null,
      "outputs": []
    },
    {
      "cell_type": "code",
      "source": [],
      "metadata": {
        "id": "HrF-uvsJ3d0N"
      },
      "execution_count": null,
      "outputs": []
    },
    {
      "cell_type": "code",
      "source": [],
      "metadata": {
        "id": "IWWwMo6u3d20"
      },
      "execution_count": null,
      "outputs": []
    },
    {
      "cell_type": "code",
      "source": [
        "w = sortList(multiList)"
      ],
      "metadata": {
        "id": "XDbpk7Hvt6mw"
      },
      "execution_count": null,
      "outputs": []
    },
    {
      "cell_type": "code",
      "source": [
        "[q for q in sortList(multiList)]"
      ],
      "metadata": {
        "id": "NCV8RpJct6p1"
      },
      "execution_count": null,
      "outputs": []
    },
    {
      "cell_type": "code",
      "source": [],
      "metadata": {
        "id": "10_dFUk5t6se"
      },
      "execution_count": null,
      "outputs": []
    },
    {
      "cell_type": "code",
      "source": [],
      "metadata": {
        "id": "EC3zsPEMt6uh"
      },
      "execution_count": null,
      "outputs": []
    },
    {
      "cell_type": "code",
      "execution_count": null,
      "metadata": {
        "id": "pxojgEmGg_rr"
      },
      "outputs": [],
      "source": [
        "spam = [\"a3\", \"b1\", \"c2\"]\n",
        "sorted(spam, key = lambda x: int(x[1]))"
      ]
    },
    {
      "cell_type": "code",
      "source": [
        "from math import factorial\n",
        "timeit(lambda: factorial(999), number=10)"
      ],
      "metadata": {
        "id": "23l-ICDnlFUH"
      },
      "execution_count": null,
      "outputs": []
    },
    {
      "cell_type": "code",
      "source": [
        "is_even_list = [lambda arg=x: arg * 10 for x in range(1, 5)]\n",
        "\n",
        "# iterate on each lambda function\n",
        "# and invoke the function to get the calculated value\n",
        "for item in is_even_list:\n",
        "    print(item(1))"
      ],
      "metadata": {
        "id": "LyWCixUMt8b-"
      },
      "execution_count": null,
      "outputs": []
    },
    {
      "cell_type": "code",
      "source": [
        "is_even_list"
      ],
      "metadata": {
        "id": "oDwQUNkBxFOR"
      },
      "execution_count": null,
      "outputs": []
    },
    {
      "cell_type": "code",
      "source": [
        "[lambda x: x*x for x in range(10)]"
      ],
      "metadata": {
        "id": "j4_UdirkxaPE"
      },
      "execution_count": null,
      "outputs": []
    },
    {
      "cell_type": "code",
      "source": [],
      "metadata": {
        "id": "LLlAWPtx62YS"
      },
      "execution_count": null,
      "outputs": []
    }
  ]
}