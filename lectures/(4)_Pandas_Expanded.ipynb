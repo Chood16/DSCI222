{
  "cells": [
    {
      "cell_type": "markdown",
      "metadata": {
        "id": "view-in-github",
        "colab_type": "text"
      },
      "source": [
        "<a href=\"https://colab.research.google.com/github/Chood16/DSCI222/blob/main/lectures/(4)_Pandas_Expanded.ipynb\" target=\"_parent\"><img src=\"https://colab.research.google.com/assets/colab-badge.svg\" alt=\"Open In Colab\"/></a>"
      ]
    },
    {
      "cell_type": "markdown",
      "metadata": {
        "id": "vFC008rrnUXi"
      },
      "source": [
        "# Pandas"
      ]
    },
    {
      "cell_type": "markdown",
      "metadata": {
        "id": "LI4wtUYnnWnC"
      },
      "source": [
        "* Open-source Python library designed for working with relational or labeled data in an easy and intuitive way.\n",
        "\n",
        "* Built on top of NumPy, reusing and extending many of its data structures.\n",
        "\n",
        "* Provides powerful data structures (like DataFrame and Series) for manipulating numerical data and time series.\n",
        "\n",
        "* Offers high performance and productivity for data analysis tasks.\n",
        "\n",
        "* Commonly used in data science workflows alongside:\n",
        "\n",
        "  * Matplotlib for data visualization\n",
        "\n",
        "  * SciPy for statistical analysis\n",
        "\n",
        "  * Scikit-learn for machine learning\n",
        "\n",
        "* Enables seamless data handling, making it easier to clean, transform, and analyze datasets."
      ]
    },
    {
      "cell_type": "code",
      "execution_count": null,
      "metadata": {
        "id": "if61m_9-1duF"
      },
      "outputs": [],
      "source": [
        "# To import libraries\n",
        "import numpy as np\n",
        "import pandas as pd"
      ]
    },
    {
      "cell_type": "markdown",
      "metadata": {
        "id": "27FX4Ef7-6Ft"
      },
      "source": [
        "# Series"
      ]
    },
    {
      "cell_type": "code",
      "execution_count": null,
      "metadata": {
        "id": "b40yZJgi1nrq"
      },
      "outputs": [],
      "source": [
        "# To create Series\n",
        "s = pd.Series([-5, 1.3, 21, 6, 3],\n",
        "              index = ['a', 'b', 'c', 'd', 'e'])\n",
        "print(s)\n",
        "display(s)"
      ]
    },
    {
      "cell_type": "code",
      "execution_count": null,
      "metadata": {
        "id": "yHuznWldDa9w"
      },
      "outputs": [],
      "source": [
        "# You can call an element by their index\n",
        "print(s['a'])\n",
        "\n",
        "s['a'] = 5\n",
        "s\n"
      ]
    },
    {
      "cell_type": "code",
      "execution_count": null,
      "metadata": {
        "id": "VfjI3TXRDvOO"
      },
      "outputs": [],
      "source": [
        "# Don't forget to use copy!!!\n",
        "\n",
        "s2 = s\n",
        "s2['a'] = -5\n",
        "display('s series updates as well:', s)\n",
        "\n",
        "s2 = s.copy()\n",
        "s2['a'] = 1111\n",
        "display(\"Now that s2 was made as a copy, s won't change\", s)"
      ]
    },
    {
      "cell_type": "code",
      "execution_count": null,
      "metadata": {
        "id": "K6_NjqSg16V0"
      },
      "outputs": [],
      "source": [
        "# Convert to Numpy object\n",
        "s.to_numpy()"
      ]
    },
    {
      "cell_type": "code",
      "execution_count": null,
      "metadata": {
        "id": "jJhe-5Qh7gK3"
      },
      "outputs": [],
      "source": [
        "# How to GET specific elements (e.g., 'e', 'd', 'c')?\n",
        "s[[\"b\", \"d\", \"c\"]]"
      ]
    },
    {
      "cell_type": "code",
      "execution_count": null,
      "metadata": {
        "id": "fTnOeTlm70Jx"
      },
      "outputs": [],
      "source": [
        "# How to show all numbers above the mean?\n",
        "s[s > s.mean()]"
      ]
    },
    {
      "cell_type": "code",
      "execution_count": null,
      "metadata": {
        "id": "NcxP72Ad8y0j"
      },
      "outputs": [],
      "source": [
        "# Can we perform operations (+, **, etc) on Series?\n",
        "s1 = pd.Series(range(4), index = [\"A\", \"B\", \"C\", \"D\"], name = 'Series one')\n",
        "display( s1 )\n",
        "s2 = pd.Series(data = range(10, 14), index = [\"B\", \"C\", \"D\", \"E\"])\n",
        "display( s2 )"
      ]
    },
    {
      "cell_type": "code",
      "execution_count": null,
      "metadata": {
        "id": "UQ2A7aWf9Sbh"
      },
      "outputs": [],
      "source": [
        "#        ¿?\n",
        "s1 + s2"
      ]
    },
    {
      "cell_type": "code",
      "execution_count": null,
      "metadata": {
        "id": "DPE7QiyU9XON"
      },
      "outputs": [],
      "source": [
        "# How to show the type of each instance in the Series ?\n",
        "x = pd.Series(['A', 1, [\"I\", \"AM\", \"A\", \"LIST\"]])\n",
        "x.map(type)"
      ]
    },
    {
      "cell_type": "code",
      "execution_count": null,
      "metadata": {
        "id": "b7c01d81"
      },
      "outputs": [],
      "source": [
        "# Quick previews of a Series\n",
        "display(s.head())   # first 5 elements\n",
        "display(s.tail())   # last 5 elements"
      ]
    },
    {
      "cell_type": "code",
      "execution_count": null,
      "metadata": {
        "id": "ad90addf"
      },
      "outputs": [],
      "source": [
        "# Apply a custom function to each element\n",
        "s.apply(lambda x: x**2)"
      ]
    },
    {
      "cell_type": "code",
      "execution_count": null,
      "metadata": {
        "id": "b235c15d"
      },
      "outputs": [],
      "source": [
        "# Summary statistics for numerical Series\n",
        "s.describe()"
      ]
    },
    {
      "cell_type": "code",
      "source": [
        "# must remember to do s = for method to update series\n",
        "\n",
        "s = s.apply(lambda x: x**2)\n",
        "\n",
        "display(s)"
      ],
      "metadata": {
        "id": "LPPP8-EJtwhF"
      },
      "execution_count": null,
      "outputs": []
    },
    {
      "cell_type": "code",
      "source": [
        "# Summary statistics for numerical Series\n",
        "s.describe()"
      ],
      "metadata": {
        "id": "ZCte2AlIt6Aj"
      },
      "execution_count": null,
      "outputs": []
    },
    {
      "cell_type": "code",
      "execution_count": null,
      "metadata": {
        "id": "8fa97278"
      },
      "outputs": [],
      "source": [
        "# Handling missing values in Series\n",
        "s_with_nan = pd.Series([1, 2, None, 4])\n",
        "print(s_with_nan)\n"
      ]
    },
    {
      "cell_type": "code",
      "source": [
        "print(\"Check for NA:\")\n",
        "print(s_with_nan.isna())\n",
        "\n"
      ],
      "metadata": {
        "id": "wfqRzDTPtbz-"
      },
      "execution_count": null,
      "outputs": []
    },
    {
      "cell_type": "code",
      "source": [
        "print(\"Fill NA with 0:\")\n",
        "print(s_with_nan.fillna(0))\n",
        "\n"
      ],
      "metadata": {
        "id": "qZmYUzkstdC-"
      },
      "execution_count": null,
      "outputs": []
    },
    {
      "cell_type": "code",
      "source": [
        "print(\"Drop NA:\")\n",
        "print(s_with_nan.dropna())"
      ],
      "metadata": {
        "id": "dC-e1ofTtd-V"
      },
      "execution_count": null,
      "outputs": []
    },
    {
      "cell_type": "markdown",
      "metadata": {
        "id": "IWCg2geY-9L2"
      },
      "source": [
        "# Dataframes"
      ]
    },
    {
      "cell_type": "code",
      "execution_count": null,
      "metadata": {
        "id": "LkCJO1Ji-1CC"
      },
      "outputs": [],
      "source": [
        "# Test the next 5 different ways to create a DataFrame"
      ]
    },
    {
      "cell_type": "code",
      "execution_count": null,
      "metadata": {
        "id": "LFHlmhicFUIR"
      },
      "outputs": [],
      "source": [
        "# Dictionary <-- Most common for df\n",
        "df = pd.DataFrame({\"Name\": ['Tom', 'Mike', 'Tiffany'], \"Age\": [7, 15, 3]})\n",
        "display (df)\n",
        "\n",
        "# List of lists <-- Very common as well\n",
        "df = pd.DataFrame([['Tom', 7], ['Mike', 15], ['Tiffany', 3]], columns=['Name', 'Age'])\n",
        "display (df)\n",
        "\n",
        "# ndarray\n",
        "df = pd.DataFrame(np.array([['Tom', 7], ['Mike', 15], ['Tiffany', 3]]), columns=['Name', 'Age'])\n",
        "display (df)\n",
        "\n",
        "# List of  Tuples\n",
        "df = pd.DataFrame(zip(['Tom', 'Mike', 'Tiffany'], [7, 15, 3]), columns=['Name', 'Age'])\n",
        "display (df)\n",
        "\n",
        "# Series\n",
        "df = pd.DataFrame({\"Name\": pd.Series(['Tom', 'Mike', 'Tiffany']), \"Age\": pd.Series([7, 15, 3])})\n",
        "display (df)"
      ]
    },
    {
      "cell_type": "code",
      "execution_count": null,
      "metadata": {
        "id": "7gyyb5V9FUKa"
      },
      "outputs": [],
      "source": [
        "# It includes Column names and the Index\n",
        "df = pd.DataFrame({\"Name\": ['Tom', 'Mike', 'Tiffany'],\n",
        "                   \"Language\": ['R', 'Python', 'Python'],\n",
        "                   \"Courses\": [7, 15, 3]},\n",
        "                  index = [777, 888, 999] )\n",
        "\n",
        "display( df )"
      ]
    },
    {
      "cell_type": "code",
      "execution_count": null,
      "metadata": {
        "id": "dYaC62_gFUPw"
      },
      "outputs": [],
      "source": [
        "# It's always helpful to check the data types\n",
        "df.map(type)"
      ]
    },
    {
      "cell_type": "code",
      "execution_count": null,
      "metadata": {
        "id": "m7wjLfXEugFG"
      },
      "outputs": [],
      "source": [
        "# let's make them all strings\n",
        "df = df.astype({'Name': 'string', 'Courses': 'string'})\n",
        "df.map(type)"
      ]
    },
    {
      "cell_type": "code",
      "execution_count": null,
      "metadata": {
        "id": "kEU278zSFUM7"
      },
      "outputs": [],
      "source": [
        "# Show all observations/instances where their\n",
        "# number of courses is greater than 5\n",
        "# df[df['Courses'] > 5]\n",
        "df[df['Courses'].astype('int16') > 5]"
      ]
    },
    {
      "cell_type": "code",
      "execution_count": null,
      "metadata": {
        "id": "EsupP69cKrBS"
      },
      "outputs": [],
      "source": [
        "# Add the next row:\n",
        "# Kate, Golang, 6, 4.0\n",
        "# with index: 111\n",
        "\n",
        "new_row = pd.DataFrame([{'Name':'Kate', 'Language': 'Golang', 'Courses': 6}], index = [111])\n",
        "df = pd.concat([df, new_row])\n",
        "display(df)"
      ]
    },
    {
      "cell_type": "code",
      "execution_count": null,
      "metadata": {
        "id": "ewHpRiCEKrDv"
      },
      "outputs": [],
      "source": [
        "# There's always more than one way to do it\n",
        "new_row = {'Name':'Zefran', 'Language': 'Python', 'Courses': 5}\n",
        "df.loc[len(df)] = new_row\n",
        "display( df )\n",
        "\n",
        "# To change the index value\n",
        "df = df.rename( index = {df.index[-1] : 122})\n",
        "display( df )"
      ]
    },
    {
      "cell_type": "code",
      "execution_count": null,
      "metadata": {
        "id": "2Oje1kxBhFH-"
      },
      "outputs": [],
      "source": [
        "# Insert a column 'Credits' where Credits = Courses * 3\n",
        "\n",
        "# It doesn't work as expected!!\n",
        "\n",
        "df.assign(Credits = lambda x: x.Courses * 3)\n"
      ]
    },
    {
      "cell_type": "code",
      "execution_count": null,
      "metadata": {
        "id": "uAvPPe_D7jAS"
      },
      "outputs": [],
      "source": [
        "df = df.astype({'Courses': 'int16'})\n",
        "df.map(type)"
      ]
    },
    {
      "cell_type": "code",
      "execution_count": null,
      "metadata": {
        "id": "8mytNWRTjA0n"
      },
      "outputs": [],
      "source": [
        "# Attempt 2\n",
        "\n",
        "df = df.assign(Credits = lambda x: x.Courses * 3)\n",
        "display(df)\n",
        "\n"
      ]
    },
    {
      "cell_type": "code",
      "source": [
        "# Let's remove the column and try a different way\n",
        "df = df.drop(columns='Credits')\n",
        "display(df)\n",
        "\n"
      ],
      "metadata": {
        "id": "jw3-ik-srMu3"
      },
      "execution_count": null,
      "outputs": []
    },
    {
      "cell_type": "code",
      "source": [
        "#Attempt 3\n",
        "df['Credits'] = df['Courses'] * 3\n",
        "display(df)"
      ],
      "metadata": {
        "id": "ZtZNMC0SrN-5"
      },
      "execution_count": null,
      "outputs": []
    },
    {
      "cell_type": "code",
      "execution_count": null,
      "metadata": {
        "id": "886dba74"
      },
      "outputs": [],
      "source": [
        "# Adding and removing columns\n",
        "df['Full_Time'] = df['Credits'] > 12\n",
        "display(df)\n"
      ]
    },
    {
      "cell_type": "code",
      "execution_count": null,
      "metadata": {
        "id": "pO0Qf0p1KrGP"
      },
      "outputs": [],
      "source": [
        "# Show all observations/instances where the\n",
        "# number of courses is greater than 4\n",
        "# when the language is Python\n",
        "df[(df['Courses'] > 4) & (df['Language'] == 'Python')]\n"
      ]
    },
    {
      "cell_type": "code",
      "execution_count": null,
      "metadata": {
        "id": "9MbWjn4uwH3Z"
      },
      "outputs": [],
      "source": [
        "# What if we want just the names of these students?\n",
        "\n",
        "df[(df['Courses'] > 4) & (df['Language'] == 'Python')]['Name']"
      ]
    },
    {
      "cell_type": "code",
      "execution_count": null,
      "metadata": {
        "id": "f4392ed2"
      },
      "outputs": [],
      "source": [
        "# Inspecting structure\n",
        "display(df.shape)\n",
        "display(df.columns)\n",
        "display(df.dtypes)\n",
        "df.info()"
      ]
    },
    {
      "cell_type": "code",
      "source": [
        "df"
      ],
      "metadata": {
        "id": "Yd3_3JhIvMD1"
      },
      "execution_count": null,
      "outputs": []
    },
    {
      "cell_type": "code",
      "execution_count": null,
      "metadata": {
        "id": "3ac51492"
      },
      "outputs": [],
      "source": [
        "# Selecting data with loc (label-based) and iloc (position-based)\n",
        "print(df.loc[111])\n",
        "print(df.loc[999, \"Name\"])   # row 0, column 'Name'\n",
        "print(df.iloc[1, 2])       # row 1, column 2"
      ]
    },
    {
      "cell_type": "code",
      "execution_count": null,
      "metadata": {
        "id": "dc5afe26"
      },
      "outputs": [],
      "source": [
        "# Sorting\n",
        "display(df.sort_values(by='Credits', ascending=False))\n",
        "display(df.sort_index())"
      ]
    },
    {
      "cell_type": "code",
      "execution_count": null,
      "metadata": {
        "id": "851ebfb9"
      },
      "outputs": [],
      "source": [
        "# Grouping\n",
        "grouped = df.groupby('Language')[['Courses', 'Credits']].sum()\n",
        "display(grouped)"
      ]
    },
    {
      "cell_type": "code",
      "source": [
        "# Aggregation functions\n",
        "grouped_agg = grouped.agg(['sum', 'mean', 'max'])\n",
        "print(grouped_agg)\n",
        "\n",
        "display(grouped_agg)"
      ],
      "metadata": {
        "id": "e6lL5Quhwjp5"
      },
      "execution_count": null,
      "outputs": []
    },
    {
      "cell_type": "code",
      "source": [
        "grouped_agg = df.groupby('Language')[['Courses', 'Credits']].agg(['min', 'mean', 'max'])\n",
        "display(grouped_agg)"
      ],
      "metadata": {
        "id": "SCZDvemHxEZY"
      },
      "execution_count": null,
      "outputs": []
    },
    {
      "cell_type": "code",
      "source": [
        "grouped_agg[('Courses', 'mean')] = grouped_agg[('Courses', 'mean')].round(1)\n",
        "grouped_agg[('Credits', 'mean')] = grouped_agg[('Credits', 'mean')].round(1)\n",
        "\n",
        "display(grouped_agg)"
      ],
      "metadata": {
        "id": "VMMz1jtNx0Py"
      },
      "execution_count": null,
      "outputs": []
    },
    {
      "cell_type": "code",
      "execution_count": null,
      "metadata": {
        "id": "d01c6885"
      },
      "outputs": [],
      "source": [
        "# Merging two DataFrames\n",
        "df2 = pd.DataFrame({'Name': ['Tom', 'Kate'], 'City': ['NYC', 'LA']})\n",
        "merged = pd.merge(df, df2, on='Name', how='left')\n",
        "display(merged)"
      ]
    },
    {
      "cell_type": "code",
      "execution_count": null,
      "metadata": {
        "id": "6coiRnIZFUSQ"
      },
      "outputs": [],
      "source": [
        "# Create a dataset, fill out with random integer values [-7, 13),\n",
        "# with 270 rows and 50 columns.\n",
        "# The column names will follow the format:\n",
        "# Col_1, Col_2, ... , Col_50\n",
        "# The index values will follow the format:\n",
        "# 2029-01-01, 2029-01-02, ..., 2029-09-27\n",
        "\n",
        "# Random data\n",
        "rnd_data = np.random.randint(-7, 13, (270, 50))\n",
        "print(rnd_data.shape)\n",
        "\n",
        "# Column names using list comprehension\n",
        "dt_col = ['Col_'+str(i) for i in range(1,rnd_data.shape[1]+1)]\n",
        "\n",
        "\n",
        "# Index\n",
        "dt_idx = pd.date_range(start='2029-01-01', periods=rnd_data.shape[0], freq='D')\n",
        "# dt_idx = pd.date_range(start='2029-01-01', end='2029-09-27', freq='D')\n",
        "\n",
        "df_rnd = pd.DataFrame(rnd_data, index = dt_idx, columns = dt_col)\n",
        "display( df_rnd )\n"
      ]
    },
    {
      "cell_type": "code",
      "source": [
        "display( df_rnd.head())"
      ],
      "metadata": {
        "id": "bncoPVEDraXh"
      },
      "execution_count": null,
      "outputs": []
    },
    {
      "cell_type": "code",
      "execution_count": null,
      "metadata": {
        "id": "f0YSIDhgXeEA"
      },
      "outputs": [],
      "source": [
        "# Sort DataFrame by the values in Column 3 using .sort_values\n",
        "df_rnd.sort_values(by = 'Col_3', ascending = False).head() # <-- False means largest to smallest"
      ]
    },
    {
      "cell_type": "code",
      "execution_count": null,
      "metadata": {
        "id": "suEcKiH1ZEjY"
      },
      "outputs": [],
      "source": [
        "# Create a copy of the df\n",
        "# Replace all negative numbers  by 'Not a Number' (np.nan)\n",
        "# Replace all numbers > 10  by 'Infinite' (np.inf)\n",
        "\n",
        "df_cpy = df_rnd.copy()\n",
        "\n",
        "# Nan\n",
        "df_cpy[df_cpy < 0] = np.nan\n",
        "\n",
        "# Inf\n",
        "df_cpy[df_cpy > 10] = np.inf\n",
        "display(df_cpy.head())"
      ]
    },
    {
      "cell_type": "code",
      "execution_count": null,
      "metadata": {
        "id": "3qKhWf7zZct-"
      },
      "outputs": [],
      "source": [
        "# Verify the data type of the original dataframe\n",
        "# Verify the data type of the new dataframe\n",
        "\n",
        "display(df_rnd.dtypes.head())\n",
        "display(df_cpy.dtypes.head())"
      ]
    },
    {
      "cell_type": "code",
      "execution_count": null,
      "metadata": {
        "id": "TNOLY6HBghEE"
      },
      "outputs": [],
      "source": [
        "# Create histogram of the distribution of Nan values counted by column\n",
        "import matplotlib.pyplot as plt\n",
        "a = df_cpy.isna().sum() # To compute NaNs by Column\n",
        "\n",
        "plt.hist(a, bins=16)\n",
        "plt.show()"
      ]
    },
    {
      "cell_type": "code",
      "execution_count": null,
      "metadata": {
        "id": "202b57c9"
      },
      "outputs": [],
      "source": [
        "# Reading and writing CSV files\n",
        "QB_data = pd.read_csv('QB_Projections.csv')\n",
        "display(QB_data.head())\n",
        "\n",
        "\n",
        "\n"
      ]
    },
    {
      "cell_type": "code",
      "source": [
        "display(QB_data['ATT'])\n"
      ],
      "metadata": {
        "id": "Ap0hIwi11SBS"
      },
      "execution_count": null,
      "outputs": []
    },
    {
      "cell_type": "code",
      "source": [
        "display(QB_data['ATT'].agg(['min', 'mean', 'max']))"
      ],
      "metadata": {
        "id": "YqRZwPaz1a5g"
      },
      "execution_count": null,
      "outputs": []
    },
    {
      "cell_type": "code",
      "source": [
        "\n",
        "display(QB_data[QB_data['ATT'] > 100])\n",
        "\n"
      ],
      "metadata": {
        "id": "IDlZShvT1Tia"
      },
      "execution_count": null,
      "outputs": []
    },
    {
      "cell_type": "code",
      "source": [
        "\n",
        "display(QB_data.loc[QB_data['ATT'] > 100, 'ATT'])"
      ],
      "metadata": {
        "id": "uWdH2Gpc1WXF"
      },
      "execution_count": null,
      "outputs": []
    },
    {
      "cell_type": "code",
      "source": [
        "QB_data.loc[QB_data['ATT'] > 100, 'ATT'].agg(['min', 'mean', 'max'])"
      ],
      "metadata": {
        "id": "RU34-QKQ2Jea"
      },
      "execution_count": null,
      "outputs": []
    },
    {
      "cell_type": "code",
      "source": [
        "QB_data.sort_values(by='ATT', ascending=False)"
      ],
      "metadata": {
        "id": "UFTgoucU2T3E"
      },
      "execution_count": null,
      "outputs": []
    },
    {
      "cell_type": "code",
      "source": [
        "QB_data[QB_data['ATT'] >= 100].sort_values(by='TDS', ascending=False)\n"
      ],
      "metadata": {
        "id": "_IJCE4iH2iZe"
      },
      "execution_count": null,
      "outputs": []
    },
    {
      "cell_type": "code",
      "source": [
        "df.to_csv('languages.csv', index=False)"
      ],
      "metadata": {
        "id": "TVSVGBgHzyYk"
      },
      "execution_count": null,
      "outputs": []
    }
  ],
  "metadata": {
    "colab": {
      "provenance": [],
      "include_colab_link": true
    },
    "kernelspec": {
      "display_name": "Python 3",
      "name": "python3"
    },
    "language_info": {
      "name": "python"
    }
  },
  "nbformat": 4,
  "nbformat_minor": 0
}