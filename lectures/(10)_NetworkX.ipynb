{
  "cells": [
    {
      "cell_type": "markdown",
      "metadata": {
        "id": "view-in-github",
        "colab_type": "text"
      },
      "source": [
        "<a href=\"https://colab.research.google.com/github/Chood16/DSCI222/blob/main/lectures/(10)_NetworkX.ipynb\" target=\"_parent\"><img src=\"https://colab.research.google.com/assets/colab-badge.svg\" alt=\"Open In Colab\"/></a>"
      ]
    },
    {
      "cell_type": "markdown",
      "id": "7a0aa438",
      "metadata": {
        "id": "7a0aa438"
      },
      "source": [
        "# Graphs and Networks as Semi-Structured Data via NetworkX"
      ]
    },
    {
      "cell_type": "markdown",
      "id": "96634a21",
      "metadata": {
        "id": "96634a21"
      },
      "source": [
        "\n",
        "## Graph Theory Primer\n",
        "\n",
        "Before diving into code, let’s cover the basics of **graph theory**:\n",
        "\n",
        "### What Graph Theory Is\n",
        "\n",
        "* A branch of mathematics focused on studying graphs\n",
        "\n",
        "* Used to model relationships and interactions between entities.\n",
        "\n",
        "* Provides mathematical tools to analyze networks and their properties.\n",
        "\n",
        "### Graphical Features\n",
        "* **Graph** = a set of **nodes** (also called vertices) and **edges** (connections between nodes).  \n",
        "* **Node (vertex)** = a single entity (like a person, city, or web page).  \n",
        "* **Edge (link)** = a relationship between two nodes (like a friendship, road, or hyperlink).  \n",
        "\n",
        "### Types of Graphs\n",
        "* **Undirected** – connections go both ways (e.g., friendship).  \n",
        "* **Directed** – edges have direction (e.g., Twitter follow).  \n",
        "* **Weighted** – edges have a value (e.g., distance between cities).  \n",
        "* **Unweighted** – edges are just connections, no extra info.  \n",
        "* **Bipartite** – two distinct sets of nodes (e.g., students and classes).  \n",
        "* **Complete** - all node pairs have an edge\n",
        "\n",
        "### Basic Graph Concepts\n",
        "* **Degree** = number of edges connected to a node.  \n",
        "* **Path** = a sequence of nodes connected by edges.  \n",
        "* **Connected graph** = all nodes are reachable from each other.  \n",
        "* **Cycle** = a path that starts and ends at the same node.\n",
        "\n",
        "### Why Graph Theory Is Useful in Real Life\n",
        "\n",
        "* Models real-world networks such as social networks, transportation systems, communication networks, and biological systems.\n",
        "\n",
        "* Helps analyze relationships (who connects to whom, how strong connections are, how information spreads).\n",
        "\n",
        "* Enables solving optimization problems like shortest routes, resource allocation, and network design.\n",
        "\n",
        "* Supports detection of patterns and communities, useful in understanding groups, clusters, or anomalies.\n",
        "\n",
        "### Applications in Data Science\n",
        "\n",
        "* Social network analysis: Measuring influence, community detection, and recommendation systems (e.g., Facebook, LinkedIn, TikTok).\n",
        "\n",
        "* Recommendation engines: Graph-based collaborative filtering (e.g., “people who bought X also bought Y”).\n",
        "\n",
        "* Fraud detection: Spotting unusual connections in financial transaction graphs.\n",
        "\n",
        "* Logistics and routing: Optimizing delivery routes or network traffic.\n",
        "\n",
        "* Biological and medical data: Modeling protein interaction networks or disease spread.\n",
        "\n",
        "* Knowledge graphs: Structuring and querying large-scale connected data (e.g., used in AI, semantic search, chatbots).\n",
        "\n",
        "  \n"
      ]
    },
    {
      "cell_type": "markdown",
      "id": "6087628d",
      "metadata": {
        "id": "6087628d"
      },
      "source": [
        "## Why NetworkX?\n",
        "\n",
        "* Widely used  \n",
        "* Graph creation, algorithms, visualization  \n",
        "* Integrates with Pandas, NumPy, Matplotlib"
      ]
    },
    {
      "cell_type": "markdown",
      "id": "34abe864",
      "metadata": {
        "id": "34abe864"
      },
      "source": [
        "## Creating Graph Structures"
      ]
    },
    {
      "cell_type": "code",
      "execution_count": null,
      "id": "u-SexYjcIjZb",
      "metadata": {
        "id": "u-SexYjcIjZb"
      },
      "outputs": [],
      "source": [
        "import networkx as nx\n",
        "import matplotlib.pyplot as plt\n",
        "\n",
        "# Create an undirected graph\n",
        "G = nx.Graph()\n",
        "\n",
        "# Add nodes\n",
        "G.add_node(1)\n",
        "G.add_nodes_from([2, 3, 4])\n",
        "\n",
        "# Add edges\n",
        "G.add_edge(1,2)\n",
        "G.add_edges_from([(2, 3), (3, 4), (4, 1), (1, 3)])\n",
        "\n",
        "# Draw the graph\n",
        "nx.draw(G)\n",
        "plt.show()\n"
      ]
    },
    {
      "cell_type": "code",
      "source": [
        "# Adding some parameters\n",
        "\n",
        "pos = nx.spring_layout(G) # <-- stochastic way of spacing nodes (default method)\n",
        "# pos = nx.spring_layout(G, seed=42)\n",
        "nx.draw(G,\n",
        "        with_labels=True,\n",
        "        pos=pos,\n",
        "        node_color=\"lightblue\",\n",
        "        edge_color=\"gray\",\n",
        "        node_size=2000, font_size=12)\n",
        "\n",
        "# Show the plot\n",
        "plt.show()"
      ],
      "metadata": {
        "id": "V_WcbUuxXKnV"
      },
      "id": "V_WcbUuxXKnV",
      "execution_count": null,
      "outputs": []
    },
    {
      "cell_type": "markdown",
      "source": [
        "## [The Seven Bridges Problem](https://www.youtube.com/watch?v=nZwSo4vfw6c)"
      ],
      "metadata": {
        "id": "ppSUYj1CUkco"
      },
      "id": "ppSUYj1CUkco"
    },
    {
      "cell_type": "code",
      "source": [
        "import networkx as nx\n",
        "import matplotlib.pyplot as plt\n",
        "\n",
        "# A Multigraph is a nondirectional graph that allows\n",
        "# for more than one edge to connect two nodes\n",
        "\n",
        "G = nx.MultiGraph()\n",
        "\n",
        "# Nodes (landmasses)\n",
        "landmasses = [\"A\", \"B\", \"C\", \"D\"]\n",
        "G.add_nodes_from(landmasses)\n",
        "\n",
        "# Edges\n",
        "G.add_edges_from([\n",
        "    (\"A\", \"C\"), (\"A\", \"C\"),  # two bridges\n",
        "    (\"A\", \"D\"),\n",
        "    (\"C\", \"D\"),\n",
        "    (\"B\", \"C\"), (\"B\", \"C\"),  # two bridges\n",
        "    (\"B\", \"D\")\n",
        "])\n",
        "\n",
        "# Node Positioning\n",
        "# pos = nx.spring_layout(G) by default\n",
        "pos = {\n",
        "    \"A\": (0.5, 0),\n",
        "    \"B\": (0.5, 2),\n",
        "    \"C\": (0, 1),\n",
        "    \"D\": (1, 1)\n",
        "}\n",
        "\n",
        "\n",
        "plt.figure(figsize=(6, 6))\n",
        "\n",
        "# We can draw graphs all at once, or in pieces\n",
        "\n",
        "# Option 1\n",
        "nx.draw(G,\n",
        "        pos,\n",
        "        edge_color='gray',\n",
        "        with_labels=True,\n",
        "        font_size=12,\n",
        "        font_weight=\"bold\",\n",
        "        node_size=2000,\n",
        "        node_color=\"lightblue\")\n",
        "\n",
        "# Option 2\n",
        "'''nx.draw_networkx_nodes(G, pos, node_size=2000, node_color=\"lightblue\")\n",
        "nx.draw_networkx_labels(G, pos, font_size=12, font_weight=\"bold\")\n",
        "nx.draw_networkx_edges(G, pos, edge_color=\"gray\")'''\n",
        "\n",
        "# In both, what issues do we see?\n",
        "plt.show()\n",
        "\n"
      ],
      "metadata": {
        "id": "3_hRk8xdLOX5"
      },
      "id": "3_hRk8xdLOX5",
      "execution_count": null,
      "outputs": []
    },
    {
      "cell_type": "code",
      "source": [
        "for (u, v, key) in G.edges(keys=True):\n",
        "  print(u,v,key)"
      ],
      "metadata": {
        "id": "O8G17pSXTMJ0"
      },
      "id": "O8G17pSXTMJ0",
      "execution_count": null,
      "outputs": []
    },
    {
      "cell_type": "code",
      "source": [
        "\n",
        "plt.figure(figsize=(6, 6))\n",
        "nx.draw_networkx_nodes(G, pos, node_size=2000, node_color=\"lightblue\")\n",
        "nx.draw_networkx_labels(G, pos, font_size=12, font_weight=\"bold\")\n",
        "\n",
        "# Draw edges with curvature (so parallels don’t overlap)\n",
        "for (u, v, key) in G.edges(keys=True):\n",
        "  if key == 1 and u == \"A\":\n",
        "    rad = -.4  # different curvature per parallel edge\n",
        "  elif key == 1 and u == \"B\":\n",
        "    rad = .4  # different curvature per parallel edge\n",
        "  else:\n",
        "    rad = 0\n",
        "  # connectionstyle=\"arc3,rad=.4\": curved line, with radius of curvature\n",
        "  # edgelist: draw each edge, one at a time\n",
        "  nx.draw_networkx_edges(G, pos, edge_color='gray', edgelist=[(u, v)], connectionstyle=f\"arc3,rad={rad}\")\n",
        "\n",
        "plt.title(\"Seven Bridges of Königsberg (MultiGraph with Parallel Edges)\", fontsize=14)\n",
        "plt.axis(\"off\")\n",
        "plt.show()\n",
        "\n",
        "\n"
      ],
      "metadata": {
        "id": "CF0CJzV_TKAR"
      },
      "id": "CF0CJzV_TKAR",
      "execution_count": null,
      "outputs": []
    },
    {
      "cell_type": "code",
      "source": [
        "# Eulerian Path: A \"walk\" that uses every edge exactly 1 time\n",
        "print(\"Is it possible to take a walk through the city that crosses each of the seven bridges exactly once?\")\n",
        "\n",
        "if nx.has_eulerian_path(G) == False:\n",
        "  print(\"No\")\n",
        "else:\n",
        "  print(\"Yes\")"
      ],
      "metadata": {
        "id": "uyPNYSoHaLR0"
      },
      "id": "uyPNYSoHaLR0",
      "execution_count": null,
      "outputs": []
    },
    {
      "cell_type": "markdown",
      "source": [
        "## Graph Properties and Operations"
      ],
      "metadata": {
        "id": "U1ncZOagKm_-"
      },
      "id": "U1ncZOagKm_-"
    },
    {
      "cell_type": "code",
      "execution_count": null,
      "metadata": {
        "id": "3ad7d918"
      },
      "outputs": [],
      "source": [
        "import networkx as nx\n",
        "\n",
        "G = nx.Graph()\n",
        "\n",
        "# Notice adding edges automatically adds nodes too\n",
        "G.add_edges_from([('A','B'), ('A','C'), ('C','D')])\n",
        "\n",
        "nx.draw(G,\n",
        "        edge_color='gray',\n",
        "        with_labels=True,\n",
        "        font_size=12,\n",
        "        font_weight=\"bold\",\n",
        "        node_size=2000,\n",
        "        node_color=\"lightblue\")\n",
        "\n",
        "\n"
      ],
      "id": "3ad7d918"
    },
    {
      "cell_type": "code",
      "source": [
        "print(\"Graph Summary:\", G)"
      ],
      "metadata": {
        "id": "Mfpe7i5tLHzC"
      },
      "id": "Mfpe7i5tLHzC",
      "execution_count": null,
      "outputs": []
    },
    {
      "cell_type": "code",
      "source": [
        "print(\"Number of nodes:\", G.number_of_nodes())\n",
        "print(\"Nodes:\", G.nodes())"
      ],
      "metadata": {
        "id": "zgzqqxoYMoyD"
      },
      "id": "zgzqqxoYMoyD",
      "execution_count": null,
      "outputs": []
    },
    {
      "cell_type": "code",
      "source": [
        "print(\"Number of edges:\", G.number_of_edges())\n",
        "print(\"Edges:\", G.edges())"
      ],
      "metadata": {
        "id": "MQ4AxaCHMqUA"
      },
      "id": "MQ4AxaCHMqUA",
      "execution_count": null,
      "outputs": []
    },
    {
      "cell_type": "code",
      "source": [
        "# Access attributes of nodes and edges\n",
        "G.nodes['A'][\"role\"] = \"teacher\"\n",
        "print(\"Node A data:\", G.nodes['A'])"
      ],
      "metadata": {
        "id": "8jYga7_HMr0J"
      },
      "id": "8jYga7_HMr0J",
      "execution_count": null,
      "outputs": []
    },
    {
      "cell_type": "code",
      "source": [
        "G['A']['B'][\"weight\"] = 5\n",
        "print(\"Edge (A,B) data:\", G['A']['B'])\n",
        "print(\"All edge data from A\", G['A'])"
      ],
      "metadata": {
        "id": "efoAXu9QMu0D"
      },
      "id": "efoAXu9QMu0D",
      "execution_count": null,
      "outputs": []
    },
    {
      "cell_type": "code",
      "source": [
        "# Subgraph\n",
        "H = G.subgraph(['A','B','C'])\n",
        "print(\"Subgraph nodes:\", H.nodes())\n",
        "print(\"Subgraph edges:\", H.edges())"
      ],
      "metadata": {
        "id": "b18hKhcsMwsf"
      },
      "id": "b18hKhcsMwsf",
      "execution_count": null,
      "outputs": []
    },
    {
      "cell_type": "code",
      "execution_count": null,
      "metadata": {
        "id": "121b26c1"
      },
      "outputs": [],
      "source": [
        "# Node Degree\n",
        "print(\"Degree of node A:\", G.degree('A'))\n",
        "print(\"All degrees:\", list(G.degree()))\n",
        "\n",
        "# Number of nodes at each degree\n",
        "print(\"Degree histogram:\", nx.degree_histogram(G))\n"
      ],
      "id": "121b26c1"
    },
    {
      "cell_type": "code",
      "source": [
        "# Density: The proportion of edges compared to a complete graph\n",
        "print(\"Density:\", nx.density(G))\n",
        "\n",
        "# The longest shortest path\n",
        "print(\"Diameter:\", nx.diameter(G))"
      ],
      "metadata": {
        "id": "YddGfalAf7OS"
      },
      "id": "YddGfalAf7OS",
      "execution_count": null,
      "outputs": []
    },
    {
      "cell_type": "markdown",
      "id": "d9aeae3c",
      "metadata": {
        "id": "d9aeae3c"
      },
      "source": [
        "## Modifying Graphs"
      ]
    },
    {
      "cell_type": "markdown",
      "source": [
        "Graph Attributes\n",
        "\n",
        "| Attribute                        | Typical Use                                  |\n",
        "| -------------------------------- | -------------------------------------------- |\n",
        "| `pos`                        | Node position for layout (x, y)              |\n",
        "| `label`                          | Text label for visualization                 |\n",
        "| `color`                         | Node color in drawing                        |\n",
        "| `size`                        | Node size in drawing                         |\n",
        "| `role`                      | Custom metadata|\n",
        "| `group` / `community`           | Grouping or clustering information           |\n",
        "| `weight` | Could represent node importance or capacity  |\n",
        "\n",
        "\n"
      ],
      "metadata": {
        "id": "FoMfStsebtRY"
      },
      "id": "FoMfStsebtRY"
    },
    {
      "cell_type": "markdown",
      "id": "cf9074c5",
      "metadata": {
        "id": "cf9074c5"
      },
      "source": [
        "Different positioning layouts can help us see patterns better:\n",
        "* **Spring layout**\n",
        "  * Uses a physical simulation\n",
        "  * Nodes repel like charges, edges act like springs\n",
        "  * Faster, but inconsistent results due to random starting positions\n",
        "* **Kamada-Kawai layout**\n",
        "  * Uses energy minimization based on graph-theoretic distances\n",
        "  * Ideal spring lengths based on shortest paths\n",
        "  * Slower than Spring layout\n",
        "* **Circular layout**\n",
        "  * nodes arranged in a circle.  \n",
        "* **Shell layout**\n",
        "  * nodes placed in shells (layers like an Ogre).  \n",
        "\n"
      ]
    },
    {
      "cell_type": "code",
      "execution_count": null,
      "id": "10791948",
      "metadata": {
        "id": "10791948"
      },
      "outputs": [],
      "source": [
        "\n",
        "import networkx as nx\n",
        "import matplotlib.pyplot as plt\n",
        "G = nx.Graph()\n",
        "\n",
        "G.add_edges_from([\n",
        "    (\"A\", \"B\"), (\"B\", \"C\"), (\"C\", \"A\"),\n",
        "    (\"D\", \"E\"), (\"E\", \"F\"), (\"F\", \"D\"),\n",
        "    (\"G\", \"H\"), (\"H\", \"I\"), (\"I\", \"G\"),\n",
        "    (\"A\", \"D\"), (\"C\", \"F\"), (\"B\", \"G\"),\n",
        "    (\"E\", \"H\")\n",
        "])\n",
        "\n",
        "# Define Shells for shell layout only\n",
        "shells = [[\"A\",\"B\",\"C\"], [\"D\",\"E\",\"F\"], [\"G\",\"H\",\"I\"]]\n",
        "\n",
        "plt.figure(figsize=(12,12))\n",
        "\n",
        "plt.subplot(221)\n",
        "nx.draw(G, pos=nx.spring_layout(G), with_labels=True, node_color=\"lightblue\")\n",
        "plt.title(\"Spring Layout\")\n",
        "\n",
        "plt.subplot(222)\n",
        "nx.draw(G, pos=nx.kamada_kawai_layout(G), with_labels=True, node_color=\"lightyellow\")\n",
        "plt.title(\"Kamada-Kawai Layout\")\n",
        "\n",
        "plt.subplot(223)\n",
        "nx.draw(G, pos=nx.circular_layout(G), with_labels=True, node_color=\"lightgreen\")\n",
        "plt.title(\"Circular Layout\")\n",
        "\n",
        "plt.subplot(224)\n",
        "nx.draw(G, pos=nx.shell_layout(G, nlist=shells), with_labels=True, node_color=\"lightpink\")\n",
        "plt.title(\"Shell Layout\")\n",
        "\n",
        "plt.show()\n",
        "\n"
      ]
    },
    {
      "cell_type": "code",
      "source": [
        "# Exploring additional parameters\n",
        "\n",
        "import networkx as nx\n",
        "import matplotlib.pyplot as plt\n",
        "\n",
        "G = nx.Graph()\n",
        "G.add_node(\"A\", role=\"teacher\")\n",
        "G.add_nodes_from([\"B\", \"C\"], role=\"student\")\n",
        "G.add_edge(\"C\", \"B\", weight=10) # <-- Higher weights = typically closer\n",
        "G.add_edges_from([(\"B\", \"A\"), (\"C\", \"A\")], weight=1)\n",
        "\n",
        "# Practically speaking, weights can be used to assess path \"cost\"\n",
        "# Higher weights = higher \"cost\" to travel that path\n",
        "# Easiest to visually see in Spring Layout (higher weight = stronger spring),\n",
        "# but also used in Kamada-Kawai layout\n",
        "\n",
        "colors = [\"lightgreen\" if G.nodes[n][\"role\"]==\"student\" else \"lightblue\" for n in G.nodes]\n",
        "\n",
        "nx.draw(G, with_labels=True, node_color=colors, edge_color=\"gray\", node_size=2000, font_size=12)\n",
        "plt.show()\n"
      ],
      "metadata": {
        "id": "lNkNfLDbaECh"
      },
      "id": "lNkNfLDbaECh",
      "execution_count": null,
      "outputs": []
    },
    {
      "cell_type": "code",
      "source": [
        "# Updating attributes\n",
        "G.nodes[\"A\"][\"role\"] = \"student\"\n",
        "G.edges[\"A\", \"B\"][\"weight\"] = 10\n",
        "G.edges[\"A\", \"C\"][\"weight\"] = 10\n",
        "\n",
        "colors = [\"lightgreen\" if G.nodes[n][\"role\"]==\"student\" else \"lightblue\" for n in G.nodes]\n",
        "\n",
        "nx.draw(G, with_labels=True, node_color=colors, edge_color=\"gray\", node_size=2000, font_size=12)\n",
        "\n",
        "# Show the plot\n",
        "plt.show()"
      ],
      "metadata": {
        "id": "YG9WfuoKEFhV"
      },
      "id": "YG9WfuoKEFhV",
      "execution_count": null,
      "outputs": []
    },
    {
      "cell_type": "code",
      "source": [
        "# Remove elements associated with node\n",
        "G.remove_node(\"C\")\n",
        "\n",
        "# We can also remove multiple nodes and edges\n",
        "# G.remove_nodes_from([\"B\", \"C\"])\n",
        "# G.remove_edge(\"A\", \"B\")\n",
        "# G.remove_edges_from([(\"A\", \"B\")])\n",
        "\n",
        "nx.draw(G, with_labels=True, node_color=\"lightblue\", edge_color=\"gray\", node_size=2000, font_size=12)\n",
        "plt.show()"
      ],
      "metadata": {
        "id": "DOmoNP4GaY1R"
      },
      "id": "DOmoNP4GaY1R",
      "execution_count": null,
      "outputs": []
    },
    {
      "cell_type": "markdown",
      "id": "4928dcd3",
      "metadata": {
        "id": "4928dcd3"
      },
      "source": [
        "## Common Graph Algorithms\n",
        "\n",
        "| Function                                                  | What it does                                                                        | Notes                                                     |\n",
        "| --------------------------------------------------------- | ----------------------------------------------------------------------------------- | --------------------------------------------------------- |\n",
        "| `nx.has_path()`                                    | Returns `True` if there’s *any* path between nodes `u` and `v`.                     | Fast boolean check.                                       |\n",
        "| `nx.shortest_path()`        | Returns the shortest path (list of nodes) between `source` and `target`.            | `weight=None` → unweighted, `weight=\"weight\"` → weighted. |\n",
        "| `nx.shortest_path_length()` | Returns the length (number of hops or weighted distance) of the shortest path.      | Useful with `nx.shortest_path`.                           |\n",
        "| `nx.all_shortest_paths()`   | Returns *all* shortest paths between two nodes.                                     | Might be more than one path.                              |\n",
        "| `nx.single_source_shortest_path()`               | Returns a dict of shortest paths from `source` to all reachable nodes.              | Good for BFS-like results.                                |\n",
        "| `nx.single_source_shortest_path_length()`        | Returns distances (lengths) from `source` to all reachable nodes.                   | Like above but only distances.                            |\n",
        "| `nx.has_eulerian_path()`                                 | Checks if an Eulerian path exists (uses all edges exactly once).                    | Returns `True`/`False`.                                   |\n",
        "| `nx.is_eulerian()`                                       | Checks if an Eulerian cycle exists (uses all edges exactly once, returns to start). | Subset of Eulerian path case.                             |\n",
        "| `nx.is_connected()`                                      | Checks if the undirected graph is fully connected.                                  | Undirected only.                                          |\n",
        "| `nx.is_strongly_connected()`                             | Checks if every node in a directed graph is reachable from every other node.        | Directed graphs only.                                     |\n",
        "| `nx.is_weakly_connected()`                               | Checks if a directed graph is connected when ignoring direction.                    | Directed graphs only.                                     |\n",
        "| `nx.number_connected_components()`                       | Counts the number of connected components.                                          | Undirected graphs.                                        |\n",
        "| `nx.connected_components()`                              | Returns sets of nodes for each connected component.                                 | Undirected graphs.                                        |\n",
        "| `nx.is_tree()`                                           | Checks if graph is a tree (connected and acyclic).                                  | Undirected graphs.                                        |\n",
        "| `nx.is_bipartite()`                                      | Checks if the graph is bipartite.                                                   | Useful in matching problems.                              |\n"
      ]
    },
    {
      "cell_type": "markdown",
      "metadata": {
        "id": "b7ff3a74"
      },
      "source": [
        "### Centrality Measures (Measures of Importance)"
      ],
      "id": "b7ff3a74"
    },
    {
      "cell_type": "code",
      "source": [
        "# Let's determine how important each of these nodes is\n",
        "import networkx as nx\n",
        "G = nx.Graph()\n",
        "G.add_edges_from([('A','B'), ('A','C'), ('C','D')])\n",
        "nx.draw(G,\n",
        "        edge_color='gray',\n",
        "        with_labels=True,\n",
        "        font_size=12,\n",
        "        font_weight=\"bold\",\n",
        "        node_size=2000,\n",
        "        node_color=\"lightblue\")\n"
      ],
      "metadata": {
        "id": "V2LztxahZn3K"
      },
      "id": "V2LztxahZn3K",
      "execution_count": null,
      "outputs": []
    },
    {
      "cell_type": "markdown",
      "source": [
        "**Degree Centrality**\n",
        "\n",
        "What it measures: How many direct connections (edges) a node has compared to all possible nodes.\n",
        "\n",
        "Interpretation: A node with high degree centrality is highly connected and can directly influence many others.\n",
        "\n",
        "Formula: `degree/(n-1)`"
      ],
      "metadata": {
        "id": "h2VEj6vRZ-NB"
      },
      "id": "h2VEj6vRZ-NB"
    },
    {
      "cell_type": "code",
      "execution_count": null,
      "metadata": {
        "id": "49d11c58"
      },
      "outputs": [],
      "source": [
        "print(dict(G.degree()))\n",
        "print(\"Degree centrality:\", nx.degree_centrality(G))\n",
        "\n"
      ],
      "id": "49d11c58"
    },
    {
      "cell_type": "markdown",
      "source": [
        "**Betweenness Centrality**\n",
        "\n",
        "What it measures: How often a node lies on the shortest paths between other pairs of nodes.\n",
        "\n",
        "Interpretation: A node with high betweenness acts as a bridge or broker in the network, controlling or facilitating information flow.\n",
        "\n",
        "Formula: The number of shortest paths including the given node, divided by the total number of node pairings excluding the given node"
      ],
      "metadata": {
        "id": "wV6IFCBwaTYj"
      },
      "id": "wV6IFCBwaTYj"
    },
    {
      "cell_type": "code",
      "source": [
        "print(\"Betweenness centrality:\", nx.betweenness_centrality(G))"
      ],
      "metadata": {
        "id": "4e8pxKUeaPRJ"
      },
      "id": "4e8pxKUeaPRJ",
      "execution_count": null,
      "outputs": []
    },
    {
      "cell_type": "markdown",
      "source": [
        "**Closeness Centrality**\n",
        "\n",
        "What it measures: How close a node is to all other nodes in terms of shortest path distance.\n",
        "\n",
        "Interpretation: A node with high closeness can reach all others quickly, making it efficient for spreading information.\n",
        "\n",
        "Formula: n-1 divided by the sum of the distances between the given node and all other nodes"
      ],
      "metadata": {
        "id": "oMgibRkNbBDi"
      },
      "id": "oMgibRkNbBDi"
    },
    {
      "cell_type": "code",
      "source": [
        "print(\"Closeness centrality:\", nx.closeness_centrality(G))\n"
      ],
      "metadata": {
        "id": "7pluLeWPaQIr"
      },
      "id": "7pluLeWPaQIr",
      "execution_count": null,
      "outputs": []
    },
    {
      "cell_type": "markdown",
      "source": [
        "**Eigenvector Centrality**\n",
        "\n",
        "What it measures: A node’s influence based not just on how many connections it has, but how important its neighbors are.\n",
        "\n",
        "Interpretation: A node with a lot of \"powerful\" connections will have a higher score than one connected to many less important ones."
      ],
      "metadata": {
        "id": "53h4TJygbmto"
      },
      "id": "53h4TJygbmto"
    },
    {
      "cell_type": "code",
      "source": [
        "print(\"Eigenvector centrality:\", nx.eigenvector_centrality(G))"
      ],
      "metadata": {
        "id": "5dKaZe2IaRBW"
      },
      "id": "5dKaZe2IaRBW",
      "execution_count": null,
      "outputs": []
    },
    {
      "cell_type": "markdown",
      "source": [
        "Let's look at these all togehter in a more complex example"
      ],
      "metadata": {
        "id": "3oYV1Z3UcBHZ"
      },
      "id": "3oYV1Z3UcBHZ"
    },
    {
      "cell_type": "code",
      "source": [
        "import networkx as nx\n",
        "import matplotlib.pyplot as plt\n",
        "import pandas as pd\n",
        "\n",
        "G = nx.Graph()\n",
        "G.add_edges_from([\n",
        "    (\"A\", \"B\"), (\"B\", \"C\"), (\"C\", \"A\"),\n",
        "    (\"D\", \"E\"), (\"E\", \"F\"), (\"F\", \"D\"),\n",
        "    (\"G\", \"H\"), (\"H\", \"I\"), (\"I\", \"G\"),\n",
        "    (\"A\", \"D\"), (\"C\", \"F\"), (\"B\", \"G\"),\n",
        "])\n",
        "\n",
        "nx.draw(G, with_labels=True, node_color=\"lightblue\", edge_color=\"gray\", node_size=1000, font_size=12)\n",
        "\n",
        "plt.show()"
      ],
      "metadata": {
        "id": "8AEHhqJzb88G"
      },
      "id": "8AEHhqJzb88G",
      "execution_count": null,
      "outputs": []
    },
    {
      "cell_type": "code",
      "source": [
        "# Compute centralities\n",
        "degree_c = nx.degree_centrality(G)\n",
        "betweenness_c = nx.betweenness_centrality(G)\n",
        "closeness_c = nx.closeness_centrality(G)\n",
        "eigenvector_c = nx.eigenvector_centrality(G)\n",
        "\n",
        "# Combine into a DataFrame\n",
        "centrality_df = pd.DataFrame({\n",
        "    \"Degree Centrality\": degree_c,\n",
        "    \"Betweenness Centrality\": betweenness_c,\n",
        "    \"Closeness Centrality\": closeness_c,\n",
        "    \"Eigenvector Centrality\": eigenvector_c\n",
        "})\n",
        "\n",
        "centrality_df = centrality_df.round(3)\n",
        "\n",
        "display(centrality_df)\n"
      ],
      "metadata": {
        "id": "qJiuyjgucILO"
      },
      "id": "qJiuyjgucILO",
      "execution_count": null,
      "outputs": []
    },
    {
      "cell_type": "markdown",
      "source": [
        "### Shortest Path Algorithms"
      ],
      "metadata": {
        "id": "r1Ce0Rg_YQEN"
      },
      "id": "r1Ce0Rg_YQEN"
    },
    {
      "cell_type": "code",
      "source": [
        "import networkx as nx\n",
        "import matplotlib.pyplot as plt\n",
        "\n",
        "# same graph as before\n",
        "G = nx.Graph()\n",
        "G.add_edges_from([\n",
        "    (\"A\", \"B\"), (\"B\", \"C\"), (\"C\", \"A\"),\n",
        "    (\"D\", \"E\"), (\"E\", \"F\"), (\"F\", \"D\"),\n",
        "    (\"G\", \"H\"), (\"H\", \"I\"), (\"I\", \"G\"),\n",
        "    (\"A\", \"D\"), (\"C\", \"F\"), (\"B\", \"G\"),\n",
        "])\n",
        "\n",
        "nx.draw(G, with_labels=True, node_color=\"lightblue\", edge_color=\"gray\", node_size=1000, font_size=12)\n",
        "\n",
        "plt.show()"
      ],
      "metadata": {
        "id": "KAzGnVCHdCIr"
      },
      "id": "KAzGnVCHdCIr",
      "execution_count": null,
      "outputs": []
    },
    {
      "cell_type": "code",
      "source": [
        "# Find a shortest path from I to E\n",
        "# Uses an algorithm called Breadth-First Search\n",
        "print(nx.shortest_path(G, source=\"I\", target=\"E\"))\n",
        "print(nx.shortest_path_length(G, source=\"I\", target=\"E\"))"
      ],
      "metadata": {
        "id": "xFNWBCCfPdVr"
      },
      "id": "xFNWBCCfPdVr",
      "execution_count": null,
      "outputs": []
    },
    {
      "cell_type": "code",
      "source": [
        "# Find ALL shortest paths from I to E\n",
        "paths = list(nx.all_shortest_paths(G, source=\"I\", target=\"E\"))\n",
        "print(paths)"
      ],
      "metadata": {
        "id": "woJ7qn8i9gMQ"
      },
      "id": "woJ7qn8i9gMQ",
      "execution_count": null,
      "outputs": []
    },
    {
      "cell_type": "code",
      "source": [
        "import networkx as nx\n",
        "import matplotlib.pyplot as plt\n",
        "\n",
        "G = nx.Graph()\n",
        "\n",
        "# What if all edges don't have the same weight?\n",
        "G.add_edges_from([\n",
        "    (\"A\", \"B\", {\"weight\": 2}),\n",
        "    (\"B\", \"C\", {\"weight\": 5}),\n",
        "    (\"C\", \"A\", {\"weight\": 3}),\n",
        "    (\"D\", \"E\", {\"weight\": 4}),\n",
        "    (\"E\", \"F\", {\"weight\": 1}),\n",
        "    (\"F\", \"D\", {\"weight\": 2}),\n",
        "    (\"G\", \"H\", {\"weight\": 2}),\n",
        "    (\"H\", \"I\", {\"weight\": 3}),\n",
        "    (\"I\", \"G\", {\"weight\": 6}),\n",
        "    (\"A\", \"D\", {\"weight\": 6}),\n",
        "    (\"C\", \"F\", {\"weight\": 2}),\n",
        "    (\"B\", \"G\", {\"weight\": 5}),\n",
        "])\n",
        "\n",
        "nx.draw(G, with_labels=True, node_color=\"lightblue\", edge_color=\"gray\", node_size=1000, font_size=12)\n",
        "# nx.draw(G, pos=nx.kamada_kawai_layout(G), with_labels=True, node_color=\"lightblue\", edge_color=\"gray\", node_size=1000, font_size=12)\n",
        "plt.show()\n"
      ],
      "metadata": {
        "id": "R-MMYP0O5pW7"
      },
      "id": "R-MMYP0O5pW7",
      "execution_count": null,
      "outputs": []
    },
    {
      "cell_type": "code",
      "source": [
        "# Find a shortest path from I to E with weights\n",
        "# Uses an algorithm called Dijkstra's Algorithm\n",
        "print(nx.shortest_path(G, source=\"I\", target=\"E\", weight='weight'))\n",
        "print(nx.shortest_path_length(G, source=\"I\", target=\"E\",  weight='weight'))"
      ],
      "metadata": {
        "id": "2V0a4zsN8KCJ"
      },
      "id": "2V0a4zsN8KCJ",
      "execution_count": null,
      "outputs": []
    },
    {
      "cell_type": "code",
      "source": [
        "G.remove_edge(\"G\", \"B\")\n",
        "\n",
        "nx.draw(G, with_labels=True, pos=nx.circular_layout(G) ,node_color=\"lightblue\", edge_color=\"gray\", node_size=1000, font_size=12)\n",
        "\n",
        "plt.show()\n"
      ],
      "metadata": {
        "id": "TAzDf-iA5pBf"
      },
      "id": "TAzDf-iA5pBf",
      "execution_count": null,
      "outputs": []
    },
    {
      "cell_type": "code",
      "source": [
        "nx.shortest_path(G, source=\"I\", target=\"E\", weight=\"weight\")"
      ],
      "metadata": {
        "id": "7DeHKYvv7rgV"
      },
      "id": "7DeHKYvv7rgV",
      "execution_count": null,
      "outputs": []
    },
    {
      "cell_type": "code",
      "source": [
        "components = list(nx.connected_components(G))\n",
        "print(components)"
      ],
      "metadata": {
        "id": "5EccuKXWdh4j"
      },
      "id": "5EccuKXWdh4j",
      "execution_count": null,
      "outputs": []
    },
    {
      "cell_type": "code",
      "source": [
        "print(\"Path from I to E:\", nx.has_path(G, \"I\", \"E\"))\n",
        "print(\"Is connected:\", nx.is_connected(G))"
      ],
      "metadata": {
        "id": "lSMFWOOi7nJq"
      },
      "id": "lSMFWOOi7nJq",
      "execution_count": null,
      "outputs": []
    },
    {
      "cell_type": "markdown",
      "source": [
        "### The Travelling Salesman\n",
        "\n",
        "How can we find *a* shortest path to reach all houses?"
      ],
      "metadata": {
        "id": "TstqN1-VYg68"
      },
      "id": "TstqN1-VYg68"
    },
    {
      "cell_type": "code",
      "source": [
        "import networkx as nx\n",
        "import matplotlib.pyplot as plt\n",
        "\n",
        "G = nx.Graph()\n",
        "G.add_edges_from([\n",
        "    (\"A\", \"B\"), (\"B\", \"C\"), (\"C\", \"A\"),\n",
        "    (\"D\", \"E\"), (\"E\", \"F\"), (\"F\", \"D\"),\n",
        "    (\"G\", \"H\"), (\"H\", \"I\"), (\"I\", \"G\"),\n",
        "    (\"A\", \"D\"), (\"C\", \"F\"), (\"B\", \"G\"),\n",
        "])\n",
        "\n",
        "nx.draw(G, with_labels=True, node_color=\"lightblue\", edge_color=\"gray\", node_size=1000, font_size=12)\n",
        "\n",
        "plt.show()"
      ],
      "metadata": {
        "id": "yqnkm2uwPYIr"
      },
      "id": "yqnkm2uwPYIr",
      "execution_count": null,
      "outputs": []
    },
    {
      "cell_type": "code",
      "source": [
        "print(list(nx.connected_components(G)))\n",
        "print(\"Is connected:\", nx.is_connected(G))"
      ],
      "metadata": {
        "id": "Urw7vIQwKycX"
      },
      "id": "Urw7vIQwKycX",
      "execution_count": null,
      "outputs": []
    },
    {
      "cell_type": "code",
      "source": [
        "from networkx.algorithms import approximation\n",
        "\n",
        "path = approximation.traveling_salesman_problem(G, cycle=False)\n",
        "print(path)\n"
      ],
      "metadata": {
        "id": "_l4LSMimSiOE"
      },
      "id": "_l4LSMimSiOE",
      "execution_count": null,
      "outputs": []
    },
    {
      "cell_type": "markdown",
      "id": "f8a1583d",
      "metadata": {
        "id": "f8a1583d"
      },
      "source": [
        "\n",
        "## Directed Graphs\n",
        "\n",
        "A directed graph has arrows showing the direction of the relationship.  \n",
        "Example: Twitter follows (Alice follows Bob doesn’t mean Bob follows Alice).\n"
      ]
    },
    {
      "cell_type": "code",
      "execution_count": null,
      "id": "71eeb4e7",
      "metadata": {
        "id": "71eeb4e7"
      },
      "outputs": [],
      "source": [
        "\n",
        "DG = nx.DiGraph()\n",
        "DG.add_edges_from([(\"Alice\", \"Bob\"), (\"Alice\", \"Charlie\"), (\"Charlie\", \"Alice\")])\n",
        "\n",
        "plt.figure(figsize=(5,5))\n",
        "nx.draw(DG, with_labels=True, pos=nx.circular_layout(DG), node_color=\"lightgreen\", node_size=2000, font_size=12, arrows=True)\n",
        "plt.show()\n",
        "\n",
        "print(\"In-degree (followers):\", dict(DG.in_degree()))\n",
        "print(\"Out-degree (following):\", dict(DG.out_degree()))\n"
      ]
    },
    {
      "cell_type": "markdown",
      "metadata": {
        "id": "c062215b"
      },
      "source": [
        "### Breadth-First Search (BFS) vs Depth-First Search (DFS)\n",
        "\n",
        "Two types of search algorithms"
      ],
      "id": "c062215b"
    },
    {
      "cell_type": "code",
      "source": [
        "import networkx as nx\n",
        "import matplotlib.pyplot as plt\n",
        "\n",
        "G = nx.Graph()\n",
        "G.add_edges_from([\n",
        "    (\"A\", \"B\"), (\"B\", \"C\"), (\"C\", \"F\"),\n",
        "    (\"D\", \"E\"), (\"E\", \"F\"), (\"F\", \"D\"),\n",
        "    (\"G\", \"H\"), (\"I\", \"G\"), (\"H\", \"C\"),\n",
        "    (\"B\", \"G\"), (\"C\", \"E\"), (\"D\", \"H\"),\n",
        "    (\"B\", \"E\"), (\"G\", \"F\"), (\"I\", \"A\")\n",
        "])\n",
        "\n",
        "# Build BFS and DFS trees starting from 'A'\n",
        "\n",
        "# BFS: Visits all neighbors first, then neighbors of neighbors, and so on\n",
        "bfs_T = nx.bfs_tree(G, source=\"A\")\n",
        "\n",
        "# DFS: Explores as far as possible down one branch before backtracking\n",
        "dfs_T = nx.dfs_tree(G, source=\"A\")\n",
        "\n",
        "# We'll set the positioning now so all graphs have the same node locations\n",
        "pos = nx.kamada_kawai_layout(G, scale=3)  # increase scale for more spread\n",
        "\n",
        "plt.figure(figsize=(18, 6))\n",
        "\n",
        "# Original graph\n",
        "plt.subplot(1, 3, 1)\n",
        "nx.draw(G, pos, with_labels=True, node_color=\"coral\",\n",
        "        node_size=800, edge_color=\"gray\")\n",
        "plt.title(\"Original Graph\")\n",
        "\n",
        "# BFS tree\n",
        "plt.subplot(1, 3, 2)\n",
        "nx.draw(bfs_T, pos, with_labels=True, node_color=\"lightblue\",\n",
        "        node_size=800, arrows=True, edge_color=\"gray\")\n",
        "plt.title(\"BFS Tree from A\")\n",
        "\n",
        "# DFS tree\n",
        "plt.subplot(1, 3, 3)\n",
        "nx.draw(dfs_T, pos, with_labels=True, node_color=\"lightgreen\",\n",
        "        node_size=800, arrows=True, edge_color=\"gray\")\n",
        "plt.title(\"DFS Tree from A\")\n",
        "\n",
        "plt.show()\n"
      ],
      "metadata": {
        "id": "7mGvtZzRiGIc"
      },
      "id": "7mGvtZzRiGIc",
      "execution_count": null,
      "outputs": []
    },
    {
      "cell_type": "markdown",
      "id": "df59491e",
      "metadata": {
        "id": "df59491e"
      },
      "source": [
        "\n",
        "## Clusters, Cliques, and Communities\n"
      ]
    },
    {
      "cell_type": "code",
      "source": [
        "import networkx as nx\n",
        "import matplotlib.pyplot as plt\n",
        "\n",
        "G = nx.Graph()\n",
        "\n",
        "G.add_edges_from([\n",
        "    (\"Alice\", \"Bob\"), (\"Alice\", \"Charlie\"), (\"Bob\", \"Charlie\"), (\"Alice\", \"David\"), (\"Bob\", \"David\"),\n",
        "    (\"Eve\", \"Frank\"), (\"Eve\", \"Grace\"), (\"Frank\", \"Grace\"), (\"Grace\", \"Heidi\"),\n",
        "    (\"Ivan\", \"Judy\"), (\"Ivan\", \"Karl\"), (\"Judy\", \"Karl\"), (\"Karl\", \"Leo\"),\n",
        "    (\"David\", \"Eve\")\n",
        "])\n",
        "\n",
        "nx.draw(G, pos=nx.circular_layout(G), with_labels=True, node_color=\"lightblue\", node_size=1200)\n",
        "plt.show()\n",
        "\n",
        "\n"
      ],
      "metadata": {
        "id": "f23zuUaWfli_"
      },
      "id": "f23zuUaWfli_",
      "execution_count": null,
      "outputs": []
    },
    {
      "cell_type": "code",
      "source": [
        "# Compute clustering coefficient for each node\n",
        "# Clustering coefficients quantifies how “connected” a node’s neighbors are\n",
        "clustering = nx.clustering(G)\n",
        "\n",
        "print(\"Clustering coefficients:\")\n",
        "for node, coeff in clustering.items():\n",
        "    print(f\"{node}: {coeff:.2f}\")\n",
        "\n",
        "# Average clustering coefficient\n",
        "avg_clustering = nx.average_clustering(G)\n",
        "print(f\"Average clustering: {avg_clustering:.2f}\")\n"
      ],
      "metadata": {
        "id": "DL0uRobELTNn"
      },
      "id": "DL0uRobELTNn",
      "execution_count": null,
      "outputs": []
    },
    {
      "cell_type": "code",
      "source": [
        "# A clique is a set of nodes where every node is directly connected to every other node\n",
        "cliques = list(nx.find_cliques(G))\n",
        "print(\"Cliques:\")\n",
        "for clique in cliques:\n",
        "    print(clique)\n"
      ],
      "metadata": {
        "id": "CkrTKIYSIu_T"
      },
      "id": "CkrTKIYSIu_T",
      "execution_count": null,
      "outputs": []
    },
    {
      "cell_type": "code",
      "source": [
        "# A community is a group of nodes that are more densely\n",
        "# connected internally than with the rest of the graph.\n",
        "from networkx.algorithms.community import greedy_modularity_communities\n",
        "\n",
        "\n",
        "# greedy_modularity_communities detects communities\n",
        "# communities are formed by a concentration of edges\n",
        "communities = list(greedy_modularity_communities(G))\n",
        "print(communities)\n",
        "\n"
      ],
      "metadata": {
        "id": "TGOflii8I0TW"
      },
      "id": "TGOflii8I0TW",
      "execution_count": null,
      "outputs": []
    },
    {
      "cell_type": "code",
      "source": [
        "# Let's make that look a little cleaner\n",
        "for community in communities:\n",
        "    print(list(community))"
      ],
      "metadata": {
        "id": "3Pm0y166MifE"
      },
      "id": "3Pm0y166MifE",
      "execution_count": null,
      "outputs": []
    },
    {
      "cell_type": "code",
      "source": [
        "'''plt.figure(figsize=(10,8))\n",
        "pos = nx.kamada_kawai_layout(G)\n",
        "i = 0\n",
        "colors = [\"lightblue\", \"lightgreen\", \"lightcoral\"]\n",
        "for community in communities:\n",
        "    nx.draw_networkx_nodes(G, pos, nodelist=community, node_color=colors[i % len(colors)], node_size=2000)\n",
        "    i=i+1\n",
        "\n",
        "nx.draw_networkx_edges(G, pos, edge_color=\"gray\")\n",
        "nx.draw_networkx_labels(G, pos, font_size=10)\n",
        "plt.title(\"School Social Network with Communities\")\n",
        "plt.show()'''"
      ],
      "metadata": {
        "id": "K8xGPzpDghFk"
      },
      "id": "K8xGPzpDghFk",
      "execution_count": null,
      "outputs": []
    },
    {
      "cell_type": "code",
      "source": [
        "plt.figure(figsize=(10,8))\n",
        "pos = nx.kamada_kawai_layout(G)\n",
        "\n",
        "colors = [\"lightblue\", \"lightgreen\", \"lightcoral\"]\n",
        "for i, community in enumerate(communities):\n",
        "    nx.draw_networkx_nodes(G, pos, nodelist=community, node_color=colors[i % len(colors)], node_size=2000)\n",
        "\n",
        "nx.draw_networkx_edges(G, pos, edge_color=\"gray\")\n",
        "nx.draw_networkx_labels(G, pos, font_size=10)\n",
        "plt.title(\"School Social Network with Communities\")\n",
        "plt.show()\n"
      ],
      "metadata": {
        "id": "Bl6dzqwGI1lu"
      },
      "id": "Bl6dzqwGI1lu",
      "execution_count": null,
      "outputs": []
    },
    {
      "cell_type": "code",
      "source": [
        "from networkx.algorithms import approximation\n",
        "plt.figure(figsize=(18,6))\n",
        "for i, community in enumerate(communities):\n",
        "    subG = G.subgraph(community)\n",
        "    plt.subplot(1,len(communities),i+1)\n",
        "    nx.draw(subG, with_labels=True, node_color=\"lightblue\", node_size=2000)\n",
        "    plt.title(f\"Community {i+1}\")\n",
        "\n"
      ],
      "metadata": {
        "id": "C-vlNP61VGBU"
      },
      "id": "C-vlNP61VGBU",
      "execution_count": null,
      "outputs": []
    },
    {
      "cell_type": "code",
      "source": [
        "# Let's workk to highlight a shortest path through all nodes\n",
        "\n",
        "# First, we will break each community into their own subgraph\n",
        "plt.figure(figsize=(18, 6))\n",
        "\n",
        "for i, community in enumerate(communities):\n",
        "    subG = G.subgraph(community)\n",
        "    plt.subplot(1, len(communities), i+1)\n",
        "    pos = nx.spring_layout(subG)\n",
        "    nx.draw(subG, pos, with_labels=True, node_color=\"lightblue\", node_size=2000)\n"
      ],
      "metadata": {
        "id": "BfG8qB8SGWuk"
      },
      "id": "BfG8qB8SGWuk",
      "execution_count": null,
      "outputs": []
    },
    {
      "cell_type": "code",
      "source": [
        "# Then, identify a traveling salesman path\n",
        "for i, community in enumerate(communities):\n",
        "    subG = G.subgraph(community)\n",
        "    path = approximation.traveling_salesman_problem(subG, cycle=False)\n",
        "    print(path)\n"
      ],
      "metadata": {
        "id": "SdjUOCxZE4os"
      },
      "id": "SdjUOCxZE4os",
      "execution_count": null,
      "outputs": []
    },
    {
      "cell_type": "code",
      "source": [
        "# Next, we will identify edges along this path\n",
        "\n",
        "for i, community in enumerate(communities):\n",
        "  subG = G.subgraph(community)\n",
        "  path = approximation.traveling_salesman_problem(subG, cycle=False)\n",
        "  print(path)\n",
        "\n",
        "  # Build path edges (pairwise along path)\n",
        "  path_edges = list(zip(path[:-1], path[1:]))\n",
        "  print(path_edges)"
      ],
      "metadata": {
        "id": "7459SKxEE-IM"
      },
      "id": "7459SKxEE-IM",
      "execution_count": null,
      "outputs": []
    },
    {
      "cell_type": "code",
      "source": [
        "# Finally, we draw in these edges on top of each subgraph\n",
        "\n",
        "from networkx.algorithms import approximation\n",
        "import matplotlib.pyplot as plt\n",
        "\n",
        "plt.figure(figsize=(18, 6))\n",
        "\n",
        "for i, community in enumerate(communities):\n",
        "    subG = G.subgraph(community)\n",
        "    path = approximation.traveling_salesman_problem(subG, cycle=False)\n",
        "    plt.subplot(1, len(communities), i+1)\n",
        "    pos = nx.spring_layout(subG)\n",
        "    nx.draw(subG, pos, with_labels=True, node_color=\"lightblue\", node_size=2000)\n",
        "\n",
        "    # Build path edges (pairwise along path)\n",
        "    path_edges = list(zip(path[:-1], path[1:]))\n",
        "    print(path_edges)\n",
        "\n",
        "    # Highlight path edges in red\n",
        "    nx.draw_networkx_edges(subG, pos, edgelist=path_edges, edge_color=\"red\", width=3)\n",
        "\n",
        "    plt.title(f\"Community {i+1}\")\n",
        "\n",
        "plt.show()\n"
      ],
      "metadata": {
        "id": "rb5wHqgshlvC"
      },
      "id": "rb5wHqgshlvC",
      "execution_count": null,
      "outputs": []
    }
  ],
  "metadata": {
    "colab": {
      "provenance": [],
      "include_colab_link": true
    },
    "kernelspec": {
      "display_name": "Python 3",
      "name": "python3"
    },
    "language_info": {
      "name": "python"
    }
  },
  "nbformat": 4,
  "nbformat_minor": 5
}