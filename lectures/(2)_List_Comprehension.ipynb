{
  "nbformat": 4,
  "nbformat_minor": 0,
  "metadata": {
    "colab": {
      "provenance": [],
      "authorship_tag": "ABX9TyMH35ZLfoFMDRz6rmabrnSU",
      "include_colab_link": true
    },
    "kernelspec": {
      "name": "python3",
      "display_name": "Python 3"
    },
    "language_info": {
      "name": "python"
    }
  },
  "cells": [
    {
      "cell_type": "markdown",
      "metadata": {
        "id": "view-in-github",
        "colab_type": "text"
      },
      "source": [
        "<a href=\"https://colab.research.google.com/github/Chood16/DSCI222/blob/main/lectures/(2)_List_Comprehension.ipynb\" target=\"_parent\"><img src=\"https://colab.research.google.com/assets/colab-badge.svg\" alt=\"Open In Colab\"/></a>"
      ]
    },
    {
      "cell_type": "markdown",
      "source": [
        "# Squaring Numbers"
      ],
      "metadata": {
        "id": "JJQwPVl_ya6A"
      }
    },
    {
      "cell_type": "markdown",
      "source": [
        "Create a **list** of 10 numbers and compute their square value:\n",
        "\n",
        "1, 2, 3, 4, 5, 6, 7, 8, 9, 10\n",
        "\n",
        "In other words, for each value of $x$, compute $y=x^2$"
      ],
      "metadata": {
        "id": "ldbPKJ6oyg5r"
      }
    },
    {
      "cell_type": "code",
      "execution_count": null,
      "metadata": {
        "id": "G1nDp6ubyZ6a",
        "collapsed": true
      },
      "outputs": [],
      "source": [
        "# Two artless approaches\n",
        "\n",
        "# Option 1\n",
        "\n",
        "numbers = [1, 2, 3, 4, 5, 6, 7, 8, 9, 10]\n",
        "squared = []\n",
        "\n",
        "for x in numbers:\n",
        "  squared.append(x ** 2)\n",
        "\n",
        "print(squared)\n",
        "\n",
        "# Option 2\n",
        "\n",
        "squared_2 = []\n",
        "\n",
        "for x in numbers:\n",
        "  squared_2.append(x * x)\n",
        "\n",
        "print(squared_2)"
      ]
    },
    {
      "cell_type": "markdown",
      "source": [
        "\n",
        "\n",
        "# List Comprehension"
      ],
      "metadata": {
        "id": "rKb8IDNE7YGj"
      }
    },
    {
      "cell_type": "markdown",
      "source": [
        "newList = [ *expression*   **for**   *clause* ]\n",
        "\n",
        "newList_with_conditional = [ *expression*   **for**   *clause*   **if**   *conditional* ]\n",
        "\n",
        "clause = *element* **in** *oldList*"
      ],
      "metadata": {
        "id": "b8vVhXYs7pNr"
      }
    },
    {
      "cell_type": "code",
      "source": [
        "# With List Comprehension\n",
        "\n",
        "numbers = [1, 2, 3, 4, 5, 6, 7, 8, 9, 10]\n",
        "squares = [x ** 2 for x in numbers]\n",
        "\n",
        "print(squares)\n",
        "\n",
        "# alternatively\n",
        "\n",
        "squares = [x**2 for x in range(1, 11)]\n",
        "print(squares)\n"
      ],
      "metadata": {
        "id": "sKUByBYf1ybs"
      },
      "execution_count": null,
      "outputs": []
    },
    {
      "cell_type": "markdown",
      "source": [
        "This mimics set buidler notation (if you've ever heard of that)\n",
        "\n",
        "squared = [x ** 2 for x in numbers]\n",
        "\n",
        "is the same as\n",
        "\n",
        "squared = $\\{ x^2 \\mid 1 \\leq x \\leq 10 \\}$\n"
      ],
      "metadata": {
        "id": "J_fHP2yL2UAA"
      }
    },
    {
      "cell_type": "markdown",
      "source": [
        "# Conditional statements (optional part)"
      ],
      "metadata": {
        "id": "O0brsAsH-QoL"
      }
    },
    {
      "cell_type": "markdown",
      "source": [
        "Create a list with all the **even** numbers between -1 and 21.\n",
        "\n",
        "Reminder: an even number is an integer of the form $n=2k$, where $k$ is an integer. Since the even numbers are integrally divisible by two, the congruence $n\\equiv(mod 2)$ holds for even $n$."
      ],
      "metadata": {
        "id": "CF3t-mr5-lMr"
      }
    },
    {
      "cell_type": "code",
      "source": [
        "even_number = [x for x in range(-1, 22) if x % 2 == 0]\n",
        "print(even_number)"
      ],
      "metadata": {
        "id": "vs61auVV-bnK"
      },
      "execution_count": null,
      "outputs": []
    },
    {
      "cell_type": "markdown",
      "source": [
        "# Additional syntax"
      ],
      "metadata": {
        "id": "jTo79qooLVJd"
      }
    },
    {
      "cell_type": "markdown",
      "source": [
        "Create a list of numbers that are both, divisible by 3 and divisible by 5.\n",
        "\n",
        "Save in the list all the numbers between 0 and 100 that meet both conditions."
      ],
      "metadata": {
        "id": "26QOj5qUAnP4"
      }
    },
    {
      "cell_type": "code",
      "source": [
        "# Nested IF statement\n",
        "number_conditions = [x for x in range(-1, 100) if x % 3 == 0 if x % 5 == 0]\n",
        "print(number_conditions)\n",
        "\n",
        "# And condition\n",
        "number_conditions = [x for x in range(-1, 100) if x % 3 == 0 and x % 5 == 0]\n",
        "print(number_conditions)\n",
        "\n",
        "# OR condition\n",
        "number_conditions = [x for x in range(-1, 100) if x % 3 == 0 or x % 5 == 0]\n",
        "print(number_conditions)\n",
        "\n",
        "# NOT condition\n",
        "number_conditions = [x for x in range(-1, 100) if x % 3 == 0 and not x % 5 == 0]\n",
        "print(number_conditions)"
      ],
      "metadata": {
        "id": "_N6uhCQKAnP4"
      },
      "execution_count": null,
      "outputs": []
    },
    {
      "cell_type": "markdown",
      "source": [
        "# Dealing with Tuples"
      ],
      "metadata": {
        "id": "NJjq8fdAAnP5"
      }
    },
    {
      "cell_type": "markdown",
      "source": [
        "Given a tuple of words, create a new tuple only including words that contain the letter 'o'"
      ],
      "metadata": {
        "id": "vxaBDBszOiAC"
      }
    },
    {
      "cell_type": "code",
      "source": [
        "fish_tuple = ('blowfish', 'shark', 'clownfish', 'catfish', 'octopus')\n",
        "\n",
        "fish_list = [x for x in fish_tuple if 'o' in x]\n",
        "print(fish_list)"
      ],
      "metadata": {
        "id": "UQDhbOoDNT5Z"
      },
      "execution_count": null,
      "outputs": []
    },
    {
      "cell_type": "markdown",
      "source": [],
      "metadata": {
        "id": "NEAVUbOFC_Hf"
      }
    },
    {
      "cell_type": "markdown",
      "source": [
        "Noew create a new tuple only including words that **does not** contain the word 'fish'"
      ],
      "metadata": {
        "id": "RpUl8cIKCa_Y"
      }
    },
    {
      "cell_type": "code",
      "source": [
        "fish_tuple = ('blowfish', 'shark', 'clownfish', 'catfish', 'octopus')\n",
        "\n",
        "not_fish_list = [x for x in fish_tuple if 'fish' not in x]\n",
        "print(not_fish_list)"
      ],
      "metadata": {
        "id": "-_Xj-PwGCkdc"
      },
      "execution_count": null,
      "outputs": []
    },
    {
      "cell_type": "markdown",
      "source": [
        "# Nested Loops"
      ],
      "metadata": {
        "id": "YaEGQp7XRu2B"
      }
    },
    {
      "cell_type": "markdown",
      "source": [
        "Given two list of numbers, $A=\\{a_1, a_2, a_3\\}$ and $B=\\{b_1, b_2, b_3\\}$, perform all pairwise multiplications $a_i*b_k|i,k=\\{1,2,3\\}$."
      ],
      "metadata": {
        "id": "1Hz5Yj0onFDq"
      }
    },
    {
      "cell_type": "code",
      "source": [
        "#By Hand\n",
        "\n",
        "x = [20,40, 60]\n",
        "y = [2, 4, 6]\n",
        "\n",
        "my_list = [20 * 2, 20 * 4, 20 * 6, 40 * 2, 40 * 4, 40 * 6, 60 * 2, 60 * 4, 60 * 6]\n",
        "print(my_list)"
      ],
      "metadata": {
        "id": "9bcOmmTvDhI5"
      },
      "execution_count": null,
      "outputs": []
    },
    {
      "cell_type": "code",
      "source": [
        "# The artless approach\n",
        "\n",
        "my_list = []\n",
        "\n",
        "for x in [20, 40, 60]:\n",
        "\tfor y in [2, 4, 6]:\n",
        "\t\tmy_list.append(x * y)\n",
        "\n",
        "print(my_list)"
      ],
      "metadata": {
        "id": "_OGTfBF2m_dA"
      },
      "execution_count": null,
      "outputs": []
    },
    {
      "cell_type": "code",
      "source": [
        "# Using List Comprehension\n",
        "\n",
        "my_list = [x * y for x in [20, 40, 60] for y in [2, 4, 6]]\n",
        "print(my_list)"
      ],
      "metadata": {
        "id": "byI1zpV4o7OL"
      },
      "execution_count": null,
      "outputs": []
    },
    {
      "cell_type": "markdown",
      "source": [
        "# Time Analysis: List Comprehension VS For-Loops"
      ],
      "metadata": {
        "id": "jUvyd44drBUB"
      }
    },
    {
      "cell_type": "code",
      "source": [
        "# Import required module\n",
        "import time\n",
        "\n",
        "\n",
        "# Function to compute it via for-loop\n",
        "def for_loop(n):\n",
        "\tresult = []\n",
        "\tfor i in range(n):\n",
        "\t\tresult.append(i**2)\n",
        "\treturn result\n",
        "\n",
        "\n",
        "# Function to compute it via list-comprehension\n",
        "def list_comprehension(n):\n",
        "\treturn [i**2 for i in range(n)]\n",
        "\n",
        "\n",
        "# Calculate the time taken by for_loop()\n",
        "begin = time.time()\n",
        "for_loop(10**7)\n",
        "end = time.time()\n",
        "\n",
        "# Display time taken by for_loop()\n",
        "print('Time taken -> for_loop:', round(end-begin, 2))\n",
        "\n",
        "# Calculate the time taken by list_comprehension()\n",
        "begin = time.time()\n",
        "list_comprehension(10**7)\n",
        "end = time.time()\n",
        "\n",
        "# Display time taken by for_loop()\n",
        "print('Time taken -> list_comprehension:', round(end-begin, 2))\n"
      ],
      "metadata": {
        "id": "d_xC5pSupFJv"
      },
      "execution_count": null,
      "outputs": []
    }
  ]
}