{
  "nbformat": 4,
  "nbformat_minor": 0,
  "metadata": {
    "colab": {
      "provenance": [],
      "include_colab_link": true
    },
    "kernelspec": {
      "name": "python3",
      "display_name": "Python 3"
    },
    "language_info": {
      "name": "python"
    }
  },
  "cells": [
    {
      "cell_type": "markdown",
      "metadata": {
        "id": "view-in-github",
        "colab_type": "text"
      },
      "source": [
        "<a href=\"https://colab.research.google.com/github/Chood16/DSCI222/blob/main/lectures/(4)_Pandas.ipynb\" target=\"_parent\"><img src=\"https://colab.research.google.com/assets/colab-badge.svg\" alt=\"Open In Colab\"/></a>"
      ]
    },
    {
      "cell_type": "markdown",
      "source": [
        "# Pandas"
      ],
      "metadata": {
        "id": "vFC008rrnUXi"
      }
    },
    {
      "cell_type": "markdown",
      "source": [
        "* Open-source Python library designed for working with relational or labeled data in an easy and intuitive way.\n",
        "\n",
        "* Built on top of NumPy, reusing and extending many of its data structures.\n",
        "\n",
        "* Provides powerful data structures (like DataFrame and Series) for manipulating numerical data and time series.\n",
        "\n",
        "* Offers high performance and productivity for data analysis tasks.\n",
        "\n",
        "* Commonly used in data science workflows alongside:\n",
        "\n",
        "  * Matplotlib for data visualization\n",
        "\n",
        "  * SciPy for statistical analysis\n",
        "\n",
        "  * Scikit-learn for machine learning\n",
        "\n",
        "* Enables seamless data handling, making it easier to clean, transform, and analyze datasets."
      ],
      "metadata": {
        "id": "LI4wtUYnnWnC"
      }
    },
    {
      "cell_type": "code",
      "execution_count": null,
      "metadata": {
        "id": "if61m_9-1duF"
      },
      "outputs": [],
      "source": [
        "# To import libraries\n",
        "import numpy as np\n",
        "import pandas as pd"
      ]
    },
    {
      "cell_type": "markdown",
      "source": [
        "# Series"
      ],
      "metadata": {
        "id": "27FX4Ef7-6Ft"
      }
    },
    {
      "cell_type": "code",
      "source": [
        "# To create Series\n",
        "s = pd.Series([-5, 1.3, 21, 6, 3],\n",
        "              index = ['a', 'b', 'c', 'd', 'e'])\n",
        "print(s)\n",
        "display(s)"
      ],
      "metadata": {
        "id": "b40yZJgi1nrq"
      },
      "execution_count": null,
      "outputs": []
    },
    {
      "cell_type": "code",
      "source": [
        "# You can call an element by their index\n",
        "print(s['a'])\n",
        "\n",
        "s['a'] = 5\n",
        "s\n"
      ],
      "metadata": {
        "id": "yHuznWldDa9w"
      },
      "execution_count": null,
      "outputs": []
    },
    {
      "cell_type": "code",
      "source": [
        "# Don't forget to use copy!!!\n",
        "\n",
        "s2 = s\n",
        "s2['a'] = -5\n",
        "display('s series updates as well:', s)\n",
        "\n",
        "s2 = s.copy()\n",
        "s2['a'] = 1111\n",
        "display(\"Now that s2 was made as a copy, s won't change\", s)"
      ],
      "metadata": {
        "id": "VfjI3TXRDvOO"
      },
      "execution_count": null,
      "outputs": []
    },
    {
      "cell_type": "code",
      "source": [
        "# Conver to Numpy object\n",
        "s.to_numpy()"
      ],
      "metadata": {
        "id": "K6_NjqSg16V0"
      },
      "execution_count": null,
      "outputs": []
    },
    {
      "cell_type": "code",
      "source": [
        "# How to GET specific elements (e.g., 'e', 'd', 'c')?\n",
        "s[[\"b\", \"d\", \"c\"]]"
      ],
      "metadata": {
        "id": "jJhe-5Qh7gK3"
      },
      "execution_count": null,
      "outputs": []
    },
    {
      "cell_type": "code",
      "source": [
        "# How to show all numbers above the mean?\n",
        "s[s > s.mean()]"
      ],
      "metadata": {
        "id": "fTnOeTlm70Jx"
      },
      "execution_count": null,
      "outputs": []
    },
    {
      "cell_type": "code",
      "source": [
        "# Can we perform operations (+, **, etc) on Series?\n",
        "s1 = pd.Series(range(4), index = [\"A\", \"B\", \"C\", \"D\"], name = 'Series one')\n",
        "display( s1 )\n",
        "s2 = pd.Series(data = range(10, 14), index = [\"B\", \"C\", \"D\", \"E\"])\n",
        "display( s2 )"
      ],
      "metadata": {
        "id": "NcxP72Ad8y0j"
      },
      "execution_count": null,
      "outputs": []
    },
    {
      "cell_type": "code",
      "source": [
        "#        ¿?\n",
        "s1 + s2"
      ],
      "metadata": {
        "id": "UQ2A7aWf9Sbh"
      },
      "execution_count": null,
      "outputs": []
    },
    {
      "cell_type": "code",
      "source": [
        "# How to show the type of each instance in the Series ?\n",
        "x = pd.Series(['A', 1, [\"I\", \"AM\", \"A\", \"LIST\"]])\n",
        "x.map(type)"
      ],
      "metadata": {
        "id": "DPE7QiyU9XON"
      },
      "execution_count": null,
      "outputs": []
    },
    {
      "cell_type": "code",
      "source": [
        "# Even more ...\n",
        "x1 = pd.Series([1, 2, 3])\n",
        "print(f\"x1 dtype: {x1.dtype}\")\n",
        "print(f\"x1 memory usage: {x1.memory_usage(deep=True)} bytes\")\n",
        "print(\"\")\n",
        "x2 = pd.Series([1, 2, \"3\"])\n",
        "print(f\"x2 dtype: {x2.dtype}\")\n",
        "print(f\"x2 memory usage: {x2.memory_usage(deep=True)} bytes\")\n",
        "print(\"\")\n",
        "# Coerce the object series to int8\n",
        "x3 = pd.Series([1, 2, \"3\"]).astype('int8')\n",
        "print(f\"x3 dtype: {x3.dtype}\")\n",
        "print(f\"x3 memory usage: {x3.memory_usage(deep=True)} bytes\")"
      ],
      "metadata": {
        "id": "N6LhsG-O-HPo"
      },
      "execution_count": null,
      "outputs": []
    },
    {
      "cell_type": "markdown",
      "source": [
        "# Dataframes"
      ],
      "metadata": {
        "id": "IWCg2geY-9L2"
      }
    },
    {
      "cell_type": "code",
      "source": [
        "# Test the next 5 different ways to create a DataFrame"
      ],
      "metadata": {
        "id": "LkCJO1Ji-1CC"
      },
      "execution_count": null,
      "outputs": []
    },
    {
      "cell_type": "code",
      "source": [
        "# Dictionary <-- Most common for df\n",
        "df = pd.DataFrame({\"Name\": ['Tom', 'Mike', 'Tiffany'], \"Age\": [7, 15, 3]})\n",
        "display (df)\n",
        "\n",
        "# List of lists <-- Very common as well\n",
        "df = pd.DataFrame([['Tom', 7], ['Mike', 15], ['Tiffany', 3]], columns=['Name', 'Age'])\n",
        "display (df)\n",
        "\n",
        "# ndarray\n",
        "df = pd.DataFrame(np.array([['Tom', 7], ['Mike', 15], ['Tiffany', 3]]), columns=['Name', 'Age'])\n",
        "display (df)\n",
        "\n",
        "# List of  Tuples\n",
        "df = pd.DataFrame(zip(['Tom', 'Mike', 'Tiffany'], [7, 15, 3]), columns=['Name', 'Age'])\n",
        "display (df)\n",
        "\n",
        "# Series\n",
        "df = pd.DataFrame({\"Name\": pd.Series(['Tom', 'Mike', 'Tiffany']), \"Age\": pd.Series([7, 15, 3])})\n",
        "display (df)"
      ],
      "metadata": {
        "id": "LFHlmhicFUIR"
      },
      "execution_count": null,
      "outputs": []
    },
    {
      "cell_type": "code",
      "source": [
        "# It includes Column names and the Index\n",
        "df = pd.DataFrame({\"Name\": ['Tom', 'Mike', 'Tiffany'],\n",
        "                   \"Language\": ['R', 'Python', 'Python'],\n",
        "                   \"Courses\": [7, 15, 3]},\n",
        "                  index = [777, 888, 999] )\n",
        "\n",
        "display( df )"
      ],
      "metadata": {
        "id": "7gyyb5V9FUKa"
      },
      "execution_count": null,
      "outputs": []
    },
    {
      "cell_type": "code",
      "source": [
        "# It's always helpful to check the data types\n",
        "df.map(type)"
      ],
      "metadata": {
        "id": "dYaC62_gFUPw"
      },
      "execution_count": null,
      "outputs": []
    },
    {
      "cell_type": "code",
      "source": [
        "# let's make them all strings\n",
        "df = df.astype({'Name': 'string', 'Courses': 'string'})\n",
        "df.map(type)"
      ],
      "metadata": {
        "id": "m7wjLfXEugFG"
      },
      "execution_count": null,
      "outputs": []
    },
    {
      "cell_type": "code",
      "source": [
        "# Show all observations/instances where their\n",
        "# number of courses is greater than 5\n",
        "# df[df['Courses'] > 5]\n",
        "df[df['Courses'].astype('int16') > 5]"
      ],
      "metadata": {
        "id": "kEU278zSFUM7"
      },
      "execution_count": null,
      "outputs": []
    },
    {
      "cell_type": "code",
      "source": [
        "# Add the next row:\n",
        "# Kate, Golang, 6, 4.0\n",
        "# with index: 111\n",
        "\n",
        "new_row = pd.DataFrame([{'Name':'Kate', 'Language': 'Golang', 'Courses': 6}], index = [111])\n",
        "df = pd.concat([df, new_row])\n",
        "display(df)"
      ],
      "metadata": {
        "id": "EsupP69cKrBS"
      },
      "execution_count": null,
      "outputs": []
    },
    {
      "cell_type": "code",
      "source": [
        "# There's always more than one way to do it\n",
        "new_row = {'Name':'Zefran', 'Language': 'Python', 'Courses': 5}\n",
        "df.loc[len(df)] = new_row\n",
        "display( df )\n",
        "\n",
        "# To change the index value\n",
        "df.rename( index = {df.index[-1] : 222}, inplace = True )\n",
        "display( df )"
      ],
      "metadata": {
        "id": "ewHpRiCEKrDv"
      },
      "execution_count": null,
      "outputs": []
    },
    {
      "cell_type": "code",
      "source": [
        "# Insert a column 'Credits' where Credits = Courses * 3\n",
        "\n",
        "# It doesn't work as expected!!\n",
        "\n",
        "df.assign(Credits = lambda x: x.Courses * 3)\n"
      ],
      "metadata": {
        "id": "2Oje1kxBhFH-"
      },
      "execution_count": null,
      "outputs": []
    },
    {
      "cell_type": "code",
      "source": [
        "df = df.astype({'Courses': 'int16'})\n",
        "df.map(type)"
      ],
      "metadata": {
        "id": "uAvPPe_D7jAS"
      },
      "execution_count": null,
      "outputs": []
    },
    {
      "cell_type": "code",
      "source": [
        "# Attempt 2\n",
        "\n",
        "df = df.assign(Credits = lambda x: x.Courses * 3)\n",
        "display(df)\n",
        "\n",
        "# Let's remove the column and try a different way\n",
        "df = df.drop(columns='Credits')\n",
        "display(df)\n",
        "\n",
        "#Attempt 3\n",
        "df['Credits'] = df['Courses'] * 3\n",
        "display(df)"
      ],
      "metadata": {
        "id": "8mytNWRTjA0n"
      },
      "execution_count": null,
      "outputs": []
    },
    {
      "cell_type": "code",
      "source": [
        "# Show all observations/instances where their\n",
        "# number of courses is greater than 4\n",
        "# when the language is Python\n",
        "df[(df['Courses'] > 4) & (df['Language'] == 'Python')]\n"
      ],
      "metadata": {
        "id": "pO0Qf0p1KrGP"
      },
      "execution_count": null,
      "outputs": []
    },
    {
      "cell_type": "code",
      "source": [
        "# What if we want just the names of these students?\n",
        "\n",
        "df[(df['Courses'] > 4) & (df['Language'] == 'Python')]['Name']"
      ],
      "metadata": {
        "id": "9MbWjn4uwH3Z"
      },
      "execution_count": null,
      "outputs": []
    },
    {
      "cell_type": "code",
      "source": [
        "# Create a dataset, fill out with random integer values [-7, 13),\n",
        "# with 270 rows and 50 columns.\n",
        "# The column names will follow the format:\n",
        "# Col_1, Col_2, ... , Col_50\n",
        "# The index values will follow the format:\n",
        "# 2029-01-01, 2029-01-02, ..., 2029-09-27\n",
        "\n",
        "# Random data\n",
        "rnd_data = np.random.randint(-7, 13, (270, 50))\n",
        "print(rnd_data.shape)\n",
        "\n",
        "# Column names using list comprehension\n",
        "dt_col = ['Col_'+str(i) for i in range(1,rnd_data.shape[1]+1)]\n",
        "\n",
        "\n",
        "# Index\n",
        "dt_idx = pd.date_range(start='2029-01-01', periods=rnd_data.shape[0], freq='D')\n",
        "# dt_idx = pd.date_range(start='2029-01-01', end='2029-09-27', freq='D')\n",
        "\n",
        "df_rnd = pd.DataFrame(rnd_data, index = dt_idx, columns = dt_col)\n",
        "display( df_rnd )\n",
        "display( df_rnd.head())"
      ],
      "metadata": {
        "id": "6coiRnIZFUSQ"
      },
      "execution_count": null,
      "outputs": []
    },
    {
      "cell_type": "code",
      "source": [
        "# Sort DataFrame by the values in Column 3 using .sort_values\n",
        "df_rnd.sort_values(by = 'Col_3', ascending = False).head()"
      ],
      "metadata": {
        "id": "f0YSIDhgXeEA"
      },
      "execution_count": null,
      "outputs": []
    },
    {
      "cell_type": "code",
      "source": [
        "# Create a copy of the df\n",
        "# Replace all negative numbers  by 'Not a Number' (np.nan)\n",
        "# Replace all numbers > 10  by 'Infinite' (np.inf)\n",
        "\n",
        "df_cpy = df_rnd.copy()\n",
        "\n",
        "# Nan\n",
        "df_cpy[df_cpy < 0] = np.nan\n",
        "\n",
        "# Inf\n",
        "df_cpy[df_cpy > 10] = np.inf\n",
        "display(df_cpy.head())"
      ],
      "metadata": {
        "id": "suEcKiH1ZEjY"
      },
      "execution_count": null,
      "outputs": []
    },
    {
      "cell_type": "code",
      "source": [
        "# Verify the data type of the original dataframe\n",
        "# Verify the data type of the new dataframe\n",
        "\n",
        "display(df_rnd.dtypes.head())\n",
        "display(df_cpy.dtypes.head())"
      ],
      "metadata": {
        "id": "3qKhWf7zZct-"
      },
      "execution_count": null,
      "outputs": []
    },
    {
      "cell_type": "code",
      "source": [
        "# Create histogram of the distribution of Nan values counted by column\n",
        "import matplotlib.pyplot as plt\n",
        "a = df_cpy.isna().sum() # To compute NaNs by Column\n",
        "plt.hist(a, bins=16)\n",
        "plt.show()"
      ],
      "metadata": {
        "id": "TNOLY6HBghEE"
      },
      "execution_count": null,
      "outputs": []
    }
  ]
}