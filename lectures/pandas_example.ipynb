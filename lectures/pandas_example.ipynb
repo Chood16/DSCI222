{
  "nbformat": 4,
  "nbformat_minor": 0,
  "metadata": {
    "colab": {
      "provenance": [],
      "authorship_tag": "ABX9TyOnhyqtu22z7xhjyKVgVYh7",
      "include_colab_link": true
    },
    "kernelspec": {
      "name": "python3",
      "display_name": "Python 3"
    },
    "language_info": {
      "name": "python"
    }
  },
  "cells": [
    {
      "cell_type": "markdown",
      "metadata": {
        "id": "view-in-github",
        "colab_type": "text"
      },
      "source": [
        "<a href=\"https://colab.research.google.com/github/Chood16/DSCI222/blob/main/lectures/pandas_example.ipynb\" target=\"_parent\"><img src=\"https://colab.research.google.com/assets/colab-badge.svg\" alt=\"Open In Colab\"/></a>"
      ]
    },
    {
      "cell_type": "code",
      "execution_count": 5,
      "metadata": {
        "id": "0rf7GpB7a3Do"
      },
      "outputs": [],
      "source": [
        "import pandas as pd\n",
        "\n",
        "df = pd.read_excel(\"My_draft.xlsx\")\n",
        "first_row = list(df.columns[1:])\n",
        "df_rest = df.iloc[:, 1:]\n",
        "df_rest.columns = range(df_rest.shape[1])\n",
        "df_grouped = (\n",
        "    df_rest.reset_index(drop=True)\n",
        "           .groupby(lambda i: i // 3)\n",
        "           .agg(list)\n",
        "           .reset_index(drop=True)\n",
        ")\n",
        "first_row_df = pd.DataFrame([first_row], columns=df_grouped.columns)\n",
        "df_grouped = pd.concat([first_row_df, df_grouped], ignore_index=True)\n",
        "empty_row = pd.DataFrame([[\" \"]*df_grouped.shape[1]])\n",
        "df_grouped = pd.concat([df_grouped, empty_row], ignore_index=True)\n",
        "df_grouped = df_grouped.map(\n",
        "    lambda x: \" \".join(x[0:2]) + f\", ({x[-1]})\" if isinstance(x, list) else x\n",
        ")\n",
        "df_flattened = pd.Series(df_grouped.to_numpy().ravel(order='F'))\n",
        "df_flattened.to_csv(\"txt_output.txt\", sep=\"\\t\", index=False, header=False)\n",
        "df_flattened.to_excel(\"xls_output.xlsx\", index=False, header=False)\n"
      ]
    }
  ]
}