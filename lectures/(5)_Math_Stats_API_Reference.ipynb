{
  "cells": [
    {
      "cell_type": "markdown",
      "metadata": {
        "id": "view-in-github",
        "colab_type": "text"
      },
      "source": [
        "<a href=\"https://colab.research.google.com/github/Chood16/DSCI222/blob/main/lectures/(5)_Math_Stats_API_Reference.ipynb\" target=\"_parent\"><img src=\"https://colab.research.google.com/assets/colab-badge.svg\" alt=\"Open In Colab\"/></a>"
      ]
    },
    {
      "cell_type": "markdown",
      "metadata": {
        "id": "_Iy040tFOIb8"
      },
      "source": [
        "# Common Mathematical & Statistical Routines in Python\n",
        "\n"
      ],
      "id": "_Iy040tFOIb8"
    },
    {
      "cell_type": "markdown",
      "source": [
        "## What is an API reference?\n",
        "\n",
        "An API reference in data science is a structured technical document that describes how to use a library, framework, or service programmatically. We've actually already seen one of these for [NumPy](https://numpy.org/doc/stable/reference/)\n",
        "\n",
        "It usually includes:\n",
        "\n",
        "* Available functions, classes, and methods (e.g., pandas.DataFrame.groupby)\n",
        "\n",
        "* Parameters/arguments (with their types, default values, and constraints)\n",
        "\n",
        "* Return types and structures (e.g., NumPy arrays, Pandas Series)\n",
        "\n",
        "* Usage examples (code snippets showing typical workflows)\n",
        "\n",
        "* Error conditions and exceptions\n",
        "\n",
        "* The collection of items explained in this reference is what an API (Application Programming Interface) is"
      ],
      "metadata": {
        "id": "1M0oImKoark-"
      },
      "id": "1M0oImKoark-"
    },
    {
      "cell_type": "markdown",
      "metadata": {
        "id": "30b9e66b"
      },
      "source": [
        "Python’s [**Standard Library**](https://docs.python.org/3/library/index.html) is huge — it’s basically a toolbox that ships with Python.\n",
        "Here are some of the most commonly used (and handy) modules, grouped by category:"
      ],
      "id": "30b9e66b"
    },
    {
      "cell_type": "markdown",
      "metadata": {
        "id": "f980c774"
      },
      "source": [
        "## Math & Numbers\n",
        "- [**math**](https://docs.python.org/3/library/math.html) → basic math functions (`sqrt`, `log`, `sin`, etc.)\n",
        "- [**statistics**](https://docs.python.org/3/library/statistics.html) → `mean`, `median`, `stdev`, etc.\n",
        "- **random** → pseudorandom numbers\n",
        "\n",
        "## Files & OS\n",
        "- **os** → operating system interfaces (paths, environment variables)\n",
        "\n",
        "## Dates & Time\n",
        "- **datetime** → date/time objects and arithmetic\n",
        "- **time** → timestamps, sleep, performance timing\n",
        "- **calendar** → working with months, weekdays, leap years"
      ],
      "id": "f980c774"
    },
    {
      "cell_type": "markdown",
      "metadata": {
        "id": "DPUgOMh4OIb_"
      },
      "source": [
        "## API Reference Categories for Math and Statistics\n",
        "A Python API reference is like the official “instruction manual” for a library, module, or framework.\n",
        "\n",
        "For math and statistics, we have:\n",
        "\n",
        "- **Descriptive statistics** (mean, median, variance, etc.)\n",
        "- **Mathematical transforms** (log, exp, trig)\n",
        "- **Linear algebra** (dot products, matrix ops)\n",
        "- **Probability distributions** (PDFs, CDFs, random sampling)\n",
        "- **Hypothesis testing** (t-tests, chi-square, etc.)"
      ],
      "id": "DPUgOMh4OIb_"
    },
    {
      "cell_type": "markdown",
      "metadata": {
        "id": "lqU54TmJOIcB"
      },
      "source": [
        "## Mathematical Functions\n",
        "- **NumPy:** Vectorized math → `np.log`, `np.exp`, `np.sqrt`, `np.sin`, etc.\n",
        "- **math:** Scalar math, same names → `math.log`, `math.exp`\n",
        "- **Tip:** Use NumPy for arrays; `math` for single values."
      ],
      "id": "lqU54TmJOIcB"
    },
    {
      "cell_type": "markdown",
      "metadata": {
        "id": "ThWzIRzFOIcA"
      },
      "source": [
        "## Descriptive Stats API Map\n",
        "\n",
        "| Task    | NumPy         | Pandas      | `statistics`     | SciPy                |\n",
        "| ------- | ------------- | ----------- | ---------------- | -------------------- |\n",
        "| Mean    | `np.mean()`   | `pd.mean()`   | `stats.mean()`   | —                    |\n",
        "| Std Dev | `np.std()`    | `pd.std()`    | `stats.stdev()`  | —                    |\n",
        "| Median  | `np.median()` | `pd.median()` | `stats.median()` | —                    |\n",
        "| Mode    | —             | `pd.mode()`   | `stats.mode()`   | `scipy.stats.mode()` |\n"
      ],
      "id": "ThWzIRzFOIcA"
    },
    {
      "cell_type": "code",
      "metadata": {
        "execution": {
          "allow_errors": true
        },
        "id": "9caCTgluOIcB"
      },
      "source": [
        "import math\n",
        "import statistics\n",
        "import numpy as np\n",
        "import pandas as pd\n",
        "from scipy import stats, optimize, integrate, linalg\n",
        "\n",
        "# SciPy (scientific python) is very robust so we typically only import submodules\n",
        "# We will build on scipy later when we learn about Scikit-Learn\n",
        "\n",
        "# Python → NumPy → SciPy → Scikit-Learn\n",
        "\n"
      ],
      "outputs": [],
      "id": "9caCTgluOIcB",
      "execution_count": null
    },
    {
      "cell_type": "markdown",
      "source": [
        "Use cases for built-in Statistics"
      ],
      "metadata": {
        "id": "Wl6DdiI7PHTF"
      },
      "id": "Wl6DdiI7PHTF"
    },
    {
      "cell_type": "code",
      "source": [
        "# Example dataset: exam scores\n",
        "scores = [88, 92, 79, 93, 85, 90, 76, 95, 89, 84]\n",
        "\n",
        "# Central tendency\n",
        "# notice our variable names aren't the methods\n",
        "mean_val = statistics.mean(scores)\n",
        "median_val = statistics.median(scores)\n",
        "mode_val = statistics.mode(scores)\n",
        "\n",
        "# Spread\n",
        "stdev_val = statistics.stdev(scores)\n",
        "variance_val = statistics.variance(scores)\n",
        "\n",
        "# Additional\n",
        "harmonic_mean_val = statistics.harmonic_mean(scores)\n",
        "geometric_mean_val = statistics.geometric_mean(scores)\n",
        "\n",
        "print(f\"Mean: {mean_val}\")\n",
        "print(f\"Median: {median_val}\")\n",
        "print(f\"Mode: {mode_val}\")\n",
        "print(f\"Standard Deviation: {stdev_val}\")\n",
        "print(f\"Variance: {variance_val}\")\n",
        "print(f\"Harmonic Mean: {harmonic_mean_val}\")\n",
        "print(f\"Geometric Mean: {geometric_mean_val}\")"
      ],
      "metadata": {
        "colab": {
          "base_uri": "https://localhost:8080/"
        },
        "id": "xBktvyb-PIMz",
        "outputId": "08ccc220-a55e-456b-9062-913f23de6cc5"
      },
      "id": "xBktvyb-PIMz",
      "execution_count": null,
      "outputs": [
        {
          "output_type": "stream",
          "name": "stdout",
          "text": [
            "Mean: 87.1\n",
            "Median: 88.5\n",
            "Mode: 88\n",
            "Standard Deviation: 6.118278625016463\n",
            "Variance: 37.43333333333333\n",
            "Harmonic Mean: 86.69653610492091\n",
            "Geometric Mean: 86.90101449144211\n"
          ]
        }
      ]
    },
    {
      "cell_type": "markdown",
      "source": [
        "## Key Takeaways\n",
        "* Know the overlapping APIs — choose the right tool for the job\n",
        "* statistics is quick for lightweight scalar ops\n",
        "* SciPy fills gaps in NumPy/Pandas\n",
        "* SciPy will be built on later with\n",
        "\n",
        "* Your toolkit is only as good as your familiarity with its API"
      ],
      "metadata": {
        "id": "Gjgde3KZQAMY"
      },
      "id": "Gjgde3KZQAMY"
    },
    {
      "cell_type": "markdown",
      "metadata": {
        "id": "j4UcBIUHOIcF"
      },
      "source": [
        "## When to Use Which\n",
        "- **`statistics` and `math` (stdlib):** Lightweight scalar operations\n",
        "- **NumPy:** High-performance math/statistics on arrays\n",
        "- **Pandas:** Descriptive stats directly on Series/DataFrames\n",
        "- **SciPy:** Advanced statistics, probability models, hypothesis testing\n"
      ],
      "id": "j4UcBIUHOIcF"
    }
  ],
  "metadata": {
    "kernelspec": {
      "display_name": "Python 3",
      "language": "python",
      "name": "python3"
    },
    "language_info": {
      "name": "python",
      "version": "3.x"
    },
    "colab": {
      "provenance": [],
      "include_colab_link": true
    }
  },
  "nbformat": 4,
  "nbformat_minor": 5
}