{
  "nbformat": 4,
  "nbformat_minor": 0,
  "metadata": {
    "colab": {
      "provenance": [],
      "toc_visible": true,
      "include_colab_link": true
    },
    "kernelspec": {
      "name": "python3",
      "display_name": "Python 3"
    },
    "language_info": {
      "name": "python"
    }
  },
  "cells": [
    {
      "cell_type": "markdown",
      "metadata": {
        "id": "view-in-github",
        "colab_type": "text"
      },
      "source": [
        "<a href=\"https://colab.research.google.com/github/Chood16/DSCI222/blob/main/lectures/(1)_Mem_Allocation.ipynb\" target=\"_parent\"><img src=\"https://colab.research.google.com/assets/colab-badge.svg\" alt=\"Open In Colab\"/></a>"
      ]
    },
    {
      "cell_type": "markdown",
      "source": [
        "# Python ID"
      ],
      "metadata": {
        "id": "y3C1J2W_FQdy"
      }
    },
    {
      "cell_type": "code",
      "execution_count": null,
      "metadata": {
        "id": "-fy4ZK8AFL39"
      },
      "outputs": [],
      "source": [
        "# The identity of 4 objects\n",
        "import math\n",
        "a = 10\n",
        "b = 10\n",
        "c = 11.49274\n",
        "d = math.pi\n",
        "\n",
        "print('a:', id(a))\n",
        "print('b:', id(b))\n",
        "print('c:', id(c))\n",
        "print('d:', id(d))"
      ]
    },
    {
      "cell_type": "markdown",
      "source": [
        "# Integers, Strings, and Tuples"
      ],
      "metadata": {
        "id": "18TbXTpMZdkU"
      }
    },
    {
      "cell_type": "code",
      "source": [
        "# Integers\n",
        "\n",
        "x = 10\n",
        "y = x\n",
        "print('x:', id(x))\n",
        "print('y:', id(y))\n",
        "x += 1\n",
        "print('x:', id(x))"
      ],
      "metadata": {
        "id": "O9k6qyWPVD78"
      },
      "execution_count": null,
      "outputs": []
    },
    {
      "cell_type": "code",
      "source": [
        "# Strings\n",
        "print('Strings: ')\n",
        "s1 = 'ABC'\n",
        "s2 = 'ABC'\n",
        "s3 = s1\n",
        "print('s1:', id(s1))\n",
        "print('s2:', id(s2))\n",
        "print('s3:', id(s3))"
      ],
      "metadata": {
        "id": "j07q86p0TGS0"
      },
      "execution_count": null,
      "outputs": []
    },
    {
      "cell_type": "code",
      "source": [
        "# Tuples\n",
        "print('Tuples: ')\n",
        "tu1 = ['A', 'B']\n",
        "tu2 = ['A', 'B']\n",
        "tu3 = tu1\n",
        "print('tu1', id(tu1))\n",
        "print('tu2', id(tu2))\n",
        "print('tu3', id(tu3))\n",
        "tu4 = tu3\n",
        "tu4.append('C')\n",
        "print('tu4', id(tu4))\n",
        "tu4[0] = 'D'\n",
        "print('tu4', id(tu4))"
      ],
      "metadata": {
        "id": "mJiLwO_0THis"
      },
      "execution_count": null,
      "outputs": []
    }
  ]
}