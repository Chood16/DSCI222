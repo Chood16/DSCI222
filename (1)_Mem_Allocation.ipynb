{
  "nbformat": 4,
  "nbformat_minor": 0,
  "metadata": {
    "colab": {
      "provenance": [],
      "include_colab_link": true
    },
    "kernelspec": {
      "name": "python3",
      "display_name": "Python 3"
    },
    "language_info": {
      "name": "python"
    }
  },
  "cells": [
    {
      "cell_type": "markdown",
      "metadata": {
        "id": "view-in-github",
        "colab_type": "text"
      },
      "source": [
        "<a href=\"https://colab.research.google.com/github/Chood16/DSCI222/blob/main/(1)_Mem_Allocation.ipynb\" target=\"_parent\"><img src=\"https://colab.research.google.com/assets/colab-badge.svg\" alt=\"Open In Colab\"/></a>"
      ]
    },
    {
      "cell_type": "markdown",
      "source": [
        "# Python ID"
      ],
      "metadata": {
        "id": "y3C1J2W_FQdy"
      }
    },
    {
      "cell_type": "code",
      "execution_count": null,
      "metadata": {
        "colab": {
          "base_uri": "https://localhost:8080/"
        },
        "id": "-fy4ZK8AFL39",
        "outputId": "762523f2-c75a-4c67-9948-07439ce29743"
      },
      "outputs": [
        {
          "output_type": "stream",
          "name": "stdout",
          "text": [
            "a: 10758024\n",
            "b: 10758024\n",
            "c: 136767239146928\n",
            "d: 136767667016624\n"
          ]
        }
      ],
      "source": [
        "# The identity of 4 objects\n",
        "import math\n",
        "a = 10\n",
        "b = 10\n",
        "c = 11.49274\n",
        "d = math.pi\n",
        "\n",
        "print('a:', id(a))\n",
        "print('b:', id(b))\n",
        "print('c:', id(c))\n",
        "print('d:', id(d))"
      ]
    },
    {
      "cell_type": "markdown",
      "source": [
        "# Integers, Strings, and Tuples"
      ],
      "metadata": {
        "id": "18TbXTpMZdkU"
      }
    },
    {
      "cell_type": "code",
      "source": [
        "# Integers\n",
        "\n",
        "x = 10\n",
        "y = x\n",
        "print('x:', id(x))\n",
        "print('y:', id(y))\n",
        "x += 1\n",
        "print('x:', id(x))"
      ],
      "metadata": {
        "colab": {
          "base_uri": "https://localhost:8080/"
        },
        "id": "O9k6qyWPVD78",
        "outputId": "efbdad8b-db05-4d67-ab78-e71eacca767d"
      },
      "execution_count": null,
      "outputs": [
        {
          "output_type": "stream",
          "name": "stdout",
          "text": [
            "x: 10758024\n",
            "y: 10758024\n",
            "x: 10758056\n"
          ]
        }
      ]
    },
    {
      "cell_type": "code",
      "source": [
        "# Strings\n",
        "print('Strings: ')\n",
        "s1 = 'ABC'\n",
        "s2 = 'ABC'\n",
        "s3 = s1\n",
        "print('s1:', id(s1))\n",
        "print('s2:', id(s2))\n",
        "print('s3:', id(s3))"
      ],
      "metadata": {
        "colab": {
          "base_uri": "https://localhost:8080/"
        },
        "id": "j07q86p0TGS0",
        "outputId": "627320b6-e040-45e5-91bb-d8ccf61fec5b"
      },
      "execution_count": null,
      "outputs": [
        {
          "output_type": "stream",
          "name": "stdout",
          "text": [
            "Strings: \n",
            "s1: 10155328\n",
            "s2: 10155328\n",
            "s3: 10155328\n"
          ]
        }
      ]
    },
    {
      "cell_type": "code",
      "source": [
        "# Tuples\n",
        "print('Tuples: ')\n",
        "tu1 = ['A', 'B']\n",
        "tu2 = ['A', 'B']\n",
        "tu3 = tu1\n",
        "print('tu1', id(tu1))\n",
        "print('tu2', id(tu2))\n",
        "print('tu3', id(tu3))\n",
        "tu4 = tu3\n",
        "tu4.append('C')\n",
        "print('tu4', id(tu4))\n",
        "tu4[0] = 'D'\n",
        "print('tu4', id(tu4))"
      ],
      "metadata": {
        "colab": {
          "base_uri": "https://localhost:8080/"
        },
        "id": "mJiLwO_0THis",
        "outputId": "54ab3260-c3d2-41bb-d5ed-0eda4e765c1f"
      },
      "execution_count": null,
      "outputs": [
        {
          "output_type": "stream",
          "name": "stdout",
          "text": [
            "Tuples: \n",
            "tu1 136767239330112\n",
            "tu2 136767239330048\n",
            "tu3 136767239330112\n",
            "tu4 136767239330112\n",
            "tu4 136767239330112\n"
          ]
        }
      ]
    }
  ]
}